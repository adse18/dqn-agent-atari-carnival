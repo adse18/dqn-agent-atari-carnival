{
 "cells": [
  {
   "cell_type": "markdown",
   "id": "394e5951",
   "metadata": {
    "papermill": {
     "duration": 0.004465,
     "end_time": "2024-07-25T21:35:58.666632",
     "exception": false,
     "start_time": "2024-07-25T21:35:58.662167",
     "status": "completed"
    },
    "tags": []
   },
   "source": [
    "# Reinforcement Learning: Training a DQN-Agent in playing Atari Carnival"
   ]
  },
  {
   "cell_type": "code",
   "execution_count": 1,
   "id": "7f1fa96f",
   "metadata": {
    "execution": {
     "iopub.execute_input": "2024-07-25T21:35:58.677085Z",
     "iopub.status.busy": "2024-07-25T21:35:58.676587Z",
     "iopub.status.idle": "2024-07-25T21:37:07.078643Z",
     "shell.execute_reply": "2024-07-25T21:37:07.077187Z"
    },
    "papermill": {
     "duration": 68.410952,
     "end_time": "2024-07-25T21:37:07.081790",
     "exception": false,
     "start_time": "2024-07-25T21:35:58.670838",
     "status": "completed"
    },
    "tags": []
   },
   "outputs": [
    {
     "name": "stdout",
     "output_type": "stream",
     "text": [
      "Requirement already satisfied: gymnasium[accept-rom-license] in /opt/conda/lib/python3.10/site-packages (0.29.0)\r\n",
      "Requirement already satisfied: numpy>=1.21.0 in /opt/conda/lib/python3.10/site-packages (from gymnasium[accept-rom-license]) (1.26.4)\r\n",
      "Requirement already satisfied: cloudpickle>=1.2.0 in /opt/conda/lib/python3.10/site-packages (from gymnasium[accept-rom-license]) (2.2.1)\r\n",
      "Requirement already satisfied: typing-extensions>=4.3.0 in /opt/conda/lib/python3.10/site-packages (from gymnasium[accept-rom-license]) (4.9.0)\r\n",
      "Requirement already satisfied: farama-notifications>=0.0.1 in /opt/conda/lib/python3.10/site-packages (from gymnasium[accept-rom-license]) (0.0.4)\r\n",
      "Collecting autorom~=0.4.2 (from autorom[accept-rom-license]~=0.4.2; extra == \"accept-rom-license\"->gymnasium[accept-rom-license])\r\n",
      "  Downloading AutoROM-0.4.2-py3-none-any.whl.metadata (2.8 kB)\r\n",
      "Requirement already satisfied: click in /opt/conda/lib/python3.10/site-packages (from autorom~=0.4.2->autorom[accept-rom-license]~=0.4.2; extra == \"accept-rom-license\"->gymnasium[accept-rom-license]) (8.1.7)\r\n",
      "Requirement already satisfied: requests in /opt/conda/lib/python3.10/site-packages (from autorom~=0.4.2->autorom[accept-rom-license]~=0.4.2; extra == \"accept-rom-license\"->gymnasium[accept-rom-license]) (2.32.3)\r\n",
      "Requirement already satisfied: tqdm in /opt/conda/lib/python3.10/site-packages (from autorom~=0.4.2->autorom[accept-rom-license]~=0.4.2; extra == \"accept-rom-license\"->gymnasium[accept-rom-license]) (4.66.4)\r\n",
      "Collecting AutoROM.accept-rom-license (from autorom[accept-rom-license]~=0.4.2; extra == \"accept-rom-license\"->gymnasium[accept-rom-license])\r\n",
      "  Downloading AutoROM.accept-rom-license-0.6.1.tar.gz (434 kB)\r\n",
      "\u001b[2K     \u001b[90m━━━━━━━━━━━━━━━━━━━━━━━━━━━━━━━━━━━━━━━\u001b[0m \u001b[32m434.7/434.7 kB\u001b[0m \u001b[31m8.7 MB/s\u001b[0m eta \u001b[36m0:00:00\u001b[0m\r\n",
      "\u001b[?25h  Installing build dependencies ... \u001b[?25l-\b \b\\\b \b|\b \b/\b \b-\b \b\\\b \b|\b \b/\b \b-\b \b\\\b \b|\b \b/\b \b-\b \b\\\b \bdone\r\n",
      "\u001b[?25h  Getting requirements to build wheel ... \u001b[?25l-\b \bdone\r\n",
      "\u001b[?25h  Preparing metadata (pyproject.toml) ... \u001b[?25l-\b \bdone\r\n",
      "\u001b[?25hRequirement already satisfied: charset-normalizer<4,>=2 in /opt/conda/lib/python3.10/site-packages (from requests->autorom~=0.4.2->autorom[accept-rom-license]~=0.4.2; extra == \"accept-rom-license\"->gymnasium[accept-rom-license]) (3.3.2)\r\n",
      "Requirement already satisfied: idna<4,>=2.5 in /opt/conda/lib/python3.10/site-packages (from requests->autorom~=0.4.2->autorom[accept-rom-license]~=0.4.2; extra == \"accept-rom-license\"->gymnasium[accept-rom-license]) (3.6)\r\n",
      "Requirement already satisfied: urllib3<3,>=1.21.1 in /opt/conda/lib/python3.10/site-packages (from requests->autorom~=0.4.2->autorom[accept-rom-license]~=0.4.2; extra == \"accept-rom-license\"->gymnasium[accept-rom-license]) (1.26.18)\r\n",
      "Requirement already satisfied: certifi>=2017.4.17 in /opt/conda/lib/python3.10/site-packages (from requests->autorom~=0.4.2->autorom[accept-rom-license]~=0.4.2; extra == \"accept-rom-license\"->gymnasium[accept-rom-license]) (2024.7.4)\r\n",
      "Downloading AutoROM-0.4.2-py3-none-any.whl (16 kB)\r\n",
      "Building wheels for collected packages: AutoROM.accept-rom-license\r\n",
      "  Building wheel for AutoROM.accept-rom-license (pyproject.toml) ... \u001b[?25l-\b \b\\\b \bdone\r\n",
      "\u001b[?25h  Created wheel for AutoROM.accept-rom-license: filename=AutoROM.accept_rom_license-0.6.1-py3-none-any.whl size=446664 sha256=b88e7887a9a076e9203a0df5a4b138149f19adc19d6531c1753b4181207f7143\r\n",
      "  Stored in directory: /root/.cache/pip/wheels/6b/1b/ef/a43ff1a2f1736d5711faa1ba4c1f61be1131b8899e6a057811\r\n",
      "Successfully built AutoROM.accept-rom-license\r\n",
      "Installing collected packages: AutoROM.accept-rom-license, autorom\r\n",
      "Successfully installed AutoROM.accept-rom-license-0.6.1 autorom-0.4.2\r\n",
      "Requirement already satisfied: gymnasium[atari] in /opt/conda/lib/python3.10/site-packages (0.29.0)\r\n",
      "Requirement already satisfied: numpy>=1.21.0 in /opt/conda/lib/python3.10/site-packages (from gymnasium[atari]) (1.26.4)\r\n",
      "Requirement already satisfied: cloudpickle>=1.2.0 in /opt/conda/lib/python3.10/site-packages (from gymnasium[atari]) (2.2.1)\r\n",
      "Requirement already satisfied: typing-extensions>=4.3.0 in /opt/conda/lib/python3.10/site-packages (from gymnasium[atari]) (4.9.0)\r\n",
      "Requirement already satisfied: farama-notifications>=0.0.1 in /opt/conda/lib/python3.10/site-packages (from gymnasium[atari]) (0.0.4)\r\n",
      "Collecting shimmy<1.0,>=0.1.0 (from shimmy[atari]<1.0,>=0.1.0; extra == \"atari\"->gymnasium[atari])\r\n",
      "  Downloading Shimmy-0.2.1-py3-none-any.whl.metadata (2.3 kB)\r\n",
      "Collecting ale-py~=0.8.1 (from shimmy[atari]<1.0,>=0.1.0; extra == \"atari\"->gymnasium[atari])\r\n",
      "  Downloading ale_py-0.8.1-cp310-cp310-manylinux_2_17_x86_64.manylinux2014_x86_64.whl.metadata (8.1 kB)\r\n",
      "Requirement already satisfied: importlib-resources in /opt/conda/lib/python3.10/site-packages (from ale-py~=0.8.1->shimmy[atari]<1.0,>=0.1.0; extra == \"atari\"->gymnasium[atari]) (6.1.1)\r\n",
      "Downloading Shimmy-0.2.1-py3-none-any.whl (25 kB)\r\n",
      "Downloading ale_py-0.8.1-cp310-cp310-manylinux_2_17_x86_64.manylinux2014_x86_64.whl (1.7 MB)\r\n",
      "\u001b[2K   \u001b[90m━━━━━━━━━━━━━━━━━━━━━━━━━━━━━━━━━━━━━━━━\u001b[0m \u001b[32m1.7/1.7 MB\u001b[0m \u001b[31m30.8 MB/s\u001b[0m eta \u001b[36m0:00:00\u001b[0m\r\n",
      "\u001b[?25hInstalling collected packages: ale-py, shimmy\r\n",
      "  Attempting uninstall: shimmy\r\n",
      "    Found existing installation: Shimmy 1.3.0\r\n",
      "    Uninstalling Shimmy-1.3.0:\r\n",
      "      Successfully uninstalled Shimmy-1.3.0\r\n",
      "\u001b[31mERROR: pip's dependency resolver does not currently take into account all the packages that are installed. This behaviour is the source of the following dependency conflicts.\r\n",
      "kaggle-environments 1.14.15 requires shimmy>=1.2.1, but you have shimmy 0.2.1 which is incompatible.\u001b[0m\u001b[31m\r\n",
      "\u001b[0mSuccessfully installed ale-py-0.8.1 shimmy-0.2.1\r\n",
      "Requirement already satisfied: tqdm in /opt/conda/lib/python3.10/site-packages (4.66.4)\r\n"
     ]
    }
   ],
   "source": [
    "#Packages additionally needed to run the code in a Kaggle Notebook\n",
    "!pip install gymnasium[accept-rom-license]\n",
    "!pip install gymnasium[atari]\n",
    "!pip install tqdm"
   ]
  },
  {
   "cell_type": "markdown",
   "id": "9b908eb4",
   "metadata": {
    "papermill": {
     "duration": 0.008131,
     "end_time": "2024-07-25T21:37:07.098603",
     "exception": false,
     "start_time": "2024-07-25T21:37:07.090472",
     "status": "completed"
    },
    "tags": []
   },
   "source": [
    "## Creation and Training of the DQN-Agent\n",
    "\n",
    "The foundation of the code of this notebook origins from https://github.com/SlicerBX/atari-carnival-reinforcement-learning/blob/main/DQN/DQN.py"
   ]
  },
  {
   "cell_type": "code",
   "execution_count": 2,
   "id": "15d6579e",
   "metadata": {
    "_cell_guid": "b1076dfc-b9ad-4769-8c92-a6c4dae69d19",
    "_uuid": "8f2839f25d086af736a60e9eeb907d3b93b6e0e5",
    "execution": {
     "iopub.execute_input": "2024-07-25T21:37:07.119076Z",
     "iopub.status.busy": "2024-07-25T21:37:07.118569Z",
     "iopub.status.idle": "2024-07-26T03:53:44.770461Z",
     "shell.execute_reply": "2024-07-26T03:53:44.769357Z"
    },
    "papermill": {
     "duration": 22597.75115,
     "end_time": "2024-07-26T03:53:44.858863",
     "exception": false,
     "start_time": "2024-07-25T21:37:07.107713",
     "status": "completed"
    },
    "tags": []
   },
   "outputs": [
    {
     "name": "stderr",
     "output_type": "stream",
     "text": [
      "2024-07-25 21:37:10.744742: E external/local_xla/xla/stream_executor/cuda/cuda_dnn.cc:9261] Unable to register cuDNN factory: Attempting to register factory for plugin cuDNN when one has already been registered\n",
      "2024-07-25 21:37:10.744921: E external/local_xla/xla/stream_executor/cuda/cuda_fft.cc:607] Unable to register cuFFT factory: Attempting to register factory for plugin cuFFT when one has already been registered\n",
      "2024-07-25 21:37:10.926885: E external/local_xla/xla/stream_executor/cuda/cuda_blas.cc:1515] Unable to register cuBLAS factory: Attempting to register factory for plugin cuBLAS when one has already been registered\n",
      "A.L.E: Arcade Learning Environment (version 0.8.1+53f58b7)\n",
      "[Powered by Stella]\n"
     ]
    },
    {
     "data": {
      "text/html": [
       "<pre style=\"white-space:pre;overflow-x:auto;line-height:normal;font-family:Menlo,'DejaVu Sans Mono',consolas,'Courier New',monospace\"><span style=\"font-weight: bold\">Model: \"sequential\"</span>\n",
       "</pre>\n"
      ],
      "text/plain": [
       "\u001b[1mModel: \"sequential\"\u001b[0m\n"
      ]
     },
     "metadata": {},
     "output_type": "display_data"
    },
    {
     "data": {
      "text/html": [
       "<pre style=\"white-space:pre;overflow-x:auto;line-height:normal;font-family:Menlo,'DejaVu Sans Mono',consolas,'Courier New',monospace\">┏━━━━━━━━━━━━━━━━━━━━━━━━━━━━━━━━━┳━━━━━━━━━━━━━━━━━━━━━━━━┳━━━━━━━━━━━━━━━┓\n",
       "┃<span style=\"font-weight: bold\"> Layer (type)                    </span>┃<span style=\"font-weight: bold\"> Output Shape           </span>┃<span style=\"font-weight: bold\">       Param # </span>┃\n",
       "┡━━━━━━━━━━━━━━━━━━━━━━━━━━━━━━━━━╇━━━━━━━━━━━━━━━━━━━━━━━━╇━━━━━━━━━━━━━━━┩\n",
       "│ conv2d (<span style=\"color: #0087ff; text-decoration-color: #0087ff\">Conv2D</span>)                 │ (<span style=\"color: #00d7ff; text-decoration-color: #00d7ff\">None</span>, <span style=\"color: #00af00; text-decoration-color: #00af00\">24</span>, <span style=\"color: #00af00; text-decoration-color: #00af00\">20</span>, <span style=\"color: #00af00; text-decoration-color: #00af00\">32</span>)     │         <span style=\"color: #00af00; text-decoration-color: #00af00\">2,080</span> │\n",
       "├─────────────────────────────────┼────────────────────────┼───────────────┤\n",
       "│ conv2d_1 (<span style=\"color: #0087ff; text-decoration-color: #0087ff\">Conv2D</span>)               │ (<span style=\"color: #00d7ff; text-decoration-color: #00d7ff\">None</span>, <span style=\"color: #00af00; text-decoration-color: #00af00\">12</span>, <span style=\"color: #00af00; text-decoration-color: #00af00\">10</span>, <span style=\"color: #00af00; text-decoration-color: #00af00\">64</span>)     │        <span style=\"color: #00af00; text-decoration-color: #00af00\">32,832</span> │\n",
       "├─────────────────────────────────┼────────────────────────┼───────────────┤\n",
       "│ conv2d_2 (<span style=\"color: #0087ff; text-decoration-color: #0087ff\">Conv2D</span>)               │ (<span style=\"color: #00d7ff; text-decoration-color: #00d7ff\">None</span>, <span style=\"color: #00af00; text-decoration-color: #00af00\">12</span>, <span style=\"color: #00af00; text-decoration-color: #00af00\">10</span>, <span style=\"color: #00af00; text-decoration-color: #00af00\">64</span>)     │        <span style=\"color: #00af00; text-decoration-color: #00af00\">36,928</span> │\n",
       "├─────────────────────────────────┼────────────────────────┼───────────────┤\n",
       "│ flatten (<span style=\"color: #0087ff; text-decoration-color: #0087ff\">Flatten</span>)               │ (<span style=\"color: #00d7ff; text-decoration-color: #00d7ff\">None</span>, <span style=\"color: #00af00; text-decoration-color: #00af00\">7680</span>)           │             <span style=\"color: #00af00; text-decoration-color: #00af00\">0</span> │\n",
       "├─────────────────────────────────┼────────────────────────┼───────────────┤\n",
       "│ dense (<span style=\"color: #0087ff; text-decoration-color: #0087ff\">Dense</span>)                   │ (<span style=\"color: #00d7ff; text-decoration-color: #00d7ff\">None</span>, <span style=\"color: #00af00; text-decoration-color: #00af00\">512</span>)            │     <span style=\"color: #00af00; text-decoration-color: #00af00\">3,932,672</span> │\n",
       "├─────────────────────────────────┼────────────────────────┼───────────────┤\n",
       "│ dense_1 (<span style=\"color: #0087ff; text-decoration-color: #0087ff\">Dense</span>)                 │ (<span style=\"color: #00d7ff; text-decoration-color: #00d7ff\">None</span>, <span style=\"color: #00af00; text-decoration-color: #00af00\">6</span>)              │         <span style=\"color: #00af00; text-decoration-color: #00af00\">3,078</span> │\n",
       "├─────────────────────────────────┼────────────────────────┼───────────────┤\n",
       "│ flatten_1 (<span style=\"color: #0087ff; text-decoration-color: #0087ff\">Flatten</span>)             │ (<span style=\"color: #00d7ff; text-decoration-color: #00d7ff\">None</span>, <span style=\"color: #00af00; text-decoration-color: #00af00\">6</span>)              │             <span style=\"color: #00af00; text-decoration-color: #00af00\">0</span> │\n",
       "└─────────────────────────────────┴────────────────────────┴───────────────┘\n",
       "</pre>\n"
      ],
      "text/plain": [
       "┏━━━━━━━━━━━━━━━━━━━━━━━━━━━━━━━━━┳━━━━━━━━━━━━━━━━━━━━━━━━┳━━━━━━━━━━━━━━━┓\n",
       "┃\u001b[1m \u001b[0m\u001b[1mLayer (type)                   \u001b[0m\u001b[1m \u001b[0m┃\u001b[1m \u001b[0m\u001b[1mOutput Shape          \u001b[0m\u001b[1m \u001b[0m┃\u001b[1m \u001b[0m\u001b[1m      Param #\u001b[0m\u001b[1m \u001b[0m┃\n",
       "┡━━━━━━━━━━━━━━━━━━━━━━━━━━━━━━━━━╇━━━━━━━━━━━━━━━━━━━━━━━━╇━━━━━━━━━━━━━━━┩\n",
       "│ conv2d (\u001b[38;5;33mConv2D\u001b[0m)                 │ (\u001b[38;5;45mNone\u001b[0m, \u001b[38;5;34m24\u001b[0m, \u001b[38;5;34m20\u001b[0m, \u001b[38;5;34m32\u001b[0m)     │         \u001b[38;5;34m2,080\u001b[0m │\n",
       "├─────────────────────────────────┼────────────────────────┼───────────────┤\n",
       "│ conv2d_1 (\u001b[38;5;33mConv2D\u001b[0m)               │ (\u001b[38;5;45mNone\u001b[0m, \u001b[38;5;34m12\u001b[0m, \u001b[38;5;34m10\u001b[0m, \u001b[38;5;34m64\u001b[0m)     │        \u001b[38;5;34m32,832\u001b[0m │\n",
       "├─────────────────────────────────┼────────────────────────┼───────────────┤\n",
       "│ conv2d_2 (\u001b[38;5;33mConv2D\u001b[0m)               │ (\u001b[38;5;45mNone\u001b[0m, \u001b[38;5;34m12\u001b[0m, \u001b[38;5;34m10\u001b[0m, \u001b[38;5;34m64\u001b[0m)     │        \u001b[38;5;34m36,928\u001b[0m │\n",
       "├─────────────────────────────────┼────────────────────────┼───────────────┤\n",
       "│ flatten (\u001b[38;5;33mFlatten\u001b[0m)               │ (\u001b[38;5;45mNone\u001b[0m, \u001b[38;5;34m7680\u001b[0m)           │             \u001b[38;5;34m0\u001b[0m │\n",
       "├─────────────────────────────────┼────────────────────────┼───────────────┤\n",
       "│ dense (\u001b[38;5;33mDense\u001b[0m)                   │ (\u001b[38;5;45mNone\u001b[0m, \u001b[38;5;34m512\u001b[0m)            │     \u001b[38;5;34m3,932,672\u001b[0m │\n",
       "├─────────────────────────────────┼────────────────────────┼───────────────┤\n",
       "│ dense_1 (\u001b[38;5;33mDense\u001b[0m)                 │ (\u001b[38;5;45mNone\u001b[0m, \u001b[38;5;34m6\u001b[0m)              │         \u001b[38;5;34m3,078\u001b[0m │\n",
       "├─────────────────────────────────┼────────────────────────┼───────────────┤\n",
       "│ flatten_1 (\u001b[38;5;33mFlatten\u001b[0m)             │ (\u001b[38;5;45mNone\u001b[0m, \u001b[38;5;34m6\u001b[0m)              │             \u001b[38;5;34m0\u001b[0m │\n",
       "└─────────────────────────────────┴────────────────────────┴───────────────┘\n"
      ]
     },
     "metadata": {},
     "output_type": "display_data"
    },
    {
     "data": {
      "text/html": [
       "<pre style=\"white-space:pre;overflow-x:auto;line-height:normal;font-family:Menlo,'DejaVu Sans Mono',consolas,'Courier New',monospace\"><span style=\"font-weight: bold\"> Total params: </span><span style=\"color: #00af00; text-decoration-color: #00af00\">4,007,590</span> (15.29 MB)\n",
       "</pre>\n"
      ],
      "text/plain": [
       "\u001b[1m Total params: \u001b[0m\u001b[38;5;34m4,007,590\u001b[0m (15.29 MB)\n"
      ]
     },
     "metadata": {},
     "output_type": "display_data"
    },
    {
     "data": {
      "text/html": [
       "<pre style=\"white-space:pre;overflow-x:auto;line-height:normal;font-family:Menlo,'DejaVu Sans Mono',consolas,'Courier New',monospace\"><span style=\"font-weight: bold\"> Trainable params: </span><span style=\"color: #00af00; text-decoration-color: #00af00\">4,007,590</span> (15.29 MB)\n",
       "</pre>\n"
      ],
      "text/plain": [
       "\u001b[1m Trainable params: \u001b[0m\u001b[38;5;34m4,007,590\u001b[0m (15.29 MB)\n"
      ]
     },
     "metadata": {},
     "output_type": "display_data"
    },
    {
     "data": {
      "text/html": [
       "<pre style=\"white-space:pre;overflow-x:auto;line-height:normal;font-family:Menlo,'DejaVu Sans Mono',consolas,'Courier New',monospace\"><span style=\"font-weight: bold\"> Non-trainable params: </span><span style=\"color: #00af00; text-decoration-color: #00af00\">0</span> (0.00 B)\n",
       "</pre>\n"
      ],
      "text/plain": [
       "\u001b[1m Non-trainable params: \u001b[0m\u001b[38;5;34m0\u001b[0m (0.00 B)\n"
      ]
     },
     "metadata": {},
     "output_type": "display_data"
    },
    {
     "name": "stderr",
     "output_type": "stream",
     "text": [
      "Episodes:   0%|          | 1/400 [00:02<16:36,  2.50s/it]"
     ]
    },
    {
     "name": "stdout",
     "output_type": "stream",
     "text": [
      "episode: 1/400,\t actions_taken: 362,\t game score: 1180.0,\t reward: 1263.72,\t avg reward: 1263.7158,\t hit ratio: 8.092%,\t time: 2.42,\t total time: 2.42,\t epsilon: 0.9900\n"
     ]
    },
    {
     "name": "stderr",
     "output_type": "stream",
     "text": [
      "Episodes:   0%|          | 2/400 [00:10<38:06,  5.75s/it]"
     ]
    },
    {
     "name": "stdout",
     "output_type": "stream",
     "text": [
      "episode: 2/400,\t actions_taken: 388,\t game score: 940.0,\t reward: 1011.76,\t avg reward: 1137.7357,\t hit ratio: 6.512%,\t time: 7.82,\t total time: 10.25,\t epsilon: 0.9801\n"
     ]
    },
    {
     "name": "stderr",
     "output_type": "stream",
     "text": [
      "Episodes:   1%|          | 3/400 [00:20<51:32,  7.79s/it]"
     ]
    },
    {
     "name": "stdout",
     "output_type": "stream",
     "text": [
      "episode: 3/400,\t actions_taken: 459,\t game score: 760.0,\t reward: 851.28,\t avg reward: 1042.2520,\t hit ratio: 5.714%,\t time: 10.03,\t total time: 20.27,\t epsilon: 0.9606\n"
     ]
    },
    {
     "name": "stderr",
     "output_type": "stream",
     "text": [
      "Episodes:   1%|          | 4/400 [00:30<57:10,  8.66s/it]"
     ]
    },
    {
     "name": "stdout",
     "output_type": "stream",
     "text": [
      "episode: 4/400,\t actions_taken: 379,\t game score: 320.0,\t reward: 383.46,\t avg reward: 877.5546,\t hit ratio: 6.633%,\t time: 9.84,\t total time: 30.11,\t epsilon: 0.9415\n"
     ]
    },
    {
     "name": "stderr",
     "output_type": "stream",
     "text": [
      "Episodes:   1%|▏         | 5/400 [00:42<1:03:29,  9.64s/it]"
     ]
    },
    {
     "name": "stdout",
     "output_type": "stream",
     "text": [
      "episode: 5/400,\t actions_taken: 338,\t game score: 540.0,\t reward: 575.29,\t avg reward: 817.1021,\t hit ratio: 5.143%,\t time: 11.22,\t total time: 41.34,\t epsilon: 0.9227\n"
     ]
    },
    {
     "name": "stderr",
     "output_type": "stream",
     "text": [
      "Episodes:   2%|▏         | 6/400 [00:53<1:06:51, 10.18s/it]"
     ]
    },
    {
     "name": "stdout",
     "output_type": "stream",
     "text": [
      "episode: 6/400,\t actions_taken: 331,\t game score: 920.0,\t reward: 955.27,\t avg reward: 840.1299,\t hit ratio: 5.612%,\t time: 11.06,\t total time: 52.40,\t epsilon: 0.9044\n"
     ]
    },
    {
     "name": "stderr",
     "output_type": "stream",
     "text": [
      "Episodes:   2%|▏         | 7/400 [01:05<1:09:53, 10.67s/it]"
     ]
    },
    {
     "name": "stdout",
     "output_type": "stream",
     "text": [
      "episode: 7/400,\t actions_taken: 378,\t game score: 400.0,\t reward: 516.87,\t avg reward: 793.9493,\t hit ratio: 5.056%,\t time: 11.52,\t total time: 63.92,\t epsilon: 0.8864\n"
     ]
    },
    {
     "name": "stderr",
     "output_type": "stream",
     "text": [
      "Episodes:   2%|▏         | 8/400 [01:19<1:16:36, 11.73s/it]"
     ]
    },
    {
     "name": "stdout",
     "output_type": "stream",
     "text": [
      "episode: 8/400,\t actions_taken: 392,\t game score: 520.0,\t reward: 623.57,\t avg reward: 772.6523,\t hit ratio: 6.135%,\t time: 13.82,\t total time: 77.74,\t epsilon: 0.8687\n"
     ]
    },
    {
     "name": "stderr",
     "output_type": "stream",
     "text": [
      "Episodes:   2%|▏         | 9/400 [01:31<1:17:56, 11.96s/it]"
     ]
    },
    {
     "name": "stdout",
     "output_type": "stream",
     "text": [
      "episode: 9/400,\t actions_taken: 308,\t game score: 1200.0,\t reward: 1404.08,\t avg reward: 842.8111,\t hit ratio: 10.370%,\t time: 12.31,\t total time: 90.04,\t epsilon: 0.8515\n"
     ]
    },
    {
     "name": "stderr",
     "output_type": "stream",
     "text": [
      "Episodes:   2%|▎         | 10/400 [01:46<1:23:54, 12.91s/it]"
     ]
    },
    {
     "name": "stdout",
     "output_type": "stream",
     "text": [
      "episode: 10/400,\t actions_taken: 466,\t game score: 1000.0,\t reward: 1326.82,\t avg reward: 891.2115,\t hit ratio: 8.333%,\t time: 14.87,\t total time: 104.92,\t epsilon: 0.8345\n"
     ]
    },
    {
     "name": "stderr",
     "output_type": "stream",
     "text": [
      "Episodes:   3%|▎         | 11/400 [02:00<1:26:40, 13.37s/it]"
     ]
    },
    {
     "name": "stdout",
     "output_type": "stream",
     "text": [
      "episode: 11/400,\t actions_taken: 400,\t game score: 880.0,\t reward: 956.11,\t avg reward: 897.1116,\t hit ratio: 7.910%,\t time: 14.24,\t total time: 119.16,\t epsilon: 0.8179\n"
     ]
    },
    {
     "name": "stderr",
     "output_type": "stream",
     "text": [
      "Episodes:   3%|▎         | 12/400 [02:15<1:29:25, 13.83s/it]"
     ]
    },
    {
     "name": "stdout",
     "output_type": "stream",
     "text": [
      "episode: 12/400,\t actions_taken: 367,\t game score: 540.0,\t reward: 825.92,\t avg reward: 891.1792,\t hit ratio: 7.229%,\t time: 14.71,\t total time: 133.87,\t epsilon: 0.8016\n"
     ]
    },
    {
     "name": "stderr",
     "output_type": "stream",
     "text": [
      "Episodes:   3%|▎         | 13/400 [02:33<1:37:25, 15.10s/it]"
     ]
    },
    {
     "name": "stdout",
     "output_type": "stream",
     "text": [
      "episode: 13/400,\t actions_taken: 444,\t game score: 820.0,\t reward: 974.19,\t avg reward: 897.5645,\t hit ratio: 4.240%,\t time: 17.88,\t total time: 151.74,\t epsilon: 0.7857\n"
     ]
    },
    {
     "name": "stderr",
     "output_type": "stream",
     "text": [
      "Episodes:   4%|▎         | 14/400 [02:50<1:40:03, 15.55s/it]"
     ]
    },
    {
     "name": "stdout",
     "output_type": "stream",
     "text": [
      "episode: 14/400,\t actions_taken: 431,\t game score: 600.0,\t reward: 681.52,\t avg reward: 882.1324,\t hit ratio: 5.780%,\t time: 16.42,\t total time: 168.17,\t epsilon: 0.7700\n"
     ]
    },
    {
     "name": "stderr",
     "output_type": "stream",
     "text": [
      "Episodes:   4%|▍         | 15/400 [03:04<1:37:49, 15.25s/it]"
     ]
    },
    {
     "name": "stdout",
     "output_type": "stream",
     "text": [
      "episode: 15/400,\t actions_taken: 349,\t game score: 840.0,\t reward: 907.13,\t avg reward: 883.7989,\t hit ratio: 6.218%,\t time: 14.37,\t total time: 182.54,\t epsilon: 0.7547\n"
     ]
    },
    {
     "name": "stderr",
     "output_type": "stream",
     "text": [
      "Episodes:   4%|▍         | 16/400 [03:21<1:39:34, 15.56s/it]"
     ]
    },
    {
     "name": "stdout",
     "output_type": "stream",
     "text": [
      "episode: 16/400,\t actions_taken: 391,\t game score: 700.0,\t reward: 759.02,\t avg reward: 876.0003,\t hit ratio: 5.306%,\t time: 16.11,\t total time: 198.66,\t epsilon: 0.7397\n"
     ]
    },
    {
     "name": "stderr",
     "output_type": "stream",
     "text": [
      "Episodes:   4%|▍         | 17/400 [03:40<1:46:06, 16.62s/it]"
     ]
    },
    {
     "name": "stdout",
     "output_type": "stream",
     "text": [
      "episode: 17/400,\t actions_taken: 471,\t game score: 280.0,\t reward: 391.41,\t avg reward: 847.4950,\t hit ratio: 3.226%,\t time: 18.94,\t total time: 217.60,\t epsilon: 0.7250\n"
     ]
    },
    {
     "name": "stderr",
     "output_type": "stream",
     "text": [
      "Episodes:   4%|▍         | 18/400 [03:59<1:50:17, 17.32s/it]"
     ]
    },
    {
     "name": "stdout",
     "output_type": "stream",
     "text": [
      "episode: 18/400,\t actions_taken: 416,\t game score: 580.0,\t reward: 644.13,\t avg reward: 836.1971,\t hit ratio: 4.745%,\t time: 18.79,\t total time: 236.38,\t epsilon: 0.7106\n"
     ]
    },
    {
     "name": "stderr",
     "output_type": "stream",
     "text": [
      "Episodes:   5%|▍         | 19/400 [04:18<1:53:31, 17.88s/it]"
     ]
    },
    {
     "name": "stdout",
     "output_type": "stream",
     "text": [
      "episode: 19/400,\t actions_taken: 436,\t game score: 500.0,\t reward: 654.31,\t avg reward: 826.6239,\t hit ratio: 6.962%,\t time: 18.99,\t total time: 255.38,\t epsilon: 0.6964\n"
     ]
    },
    {
     "name": "stderr",
     "output_type": "stream",
     "text": [
      "Episodes:   5%|▌         | 20/400 [04:38<1:56:24, 18.38s/it]"
     ]
    },
    {
     "name": "stdout",
     "output_type": "stream",
     "text": [
      "episode: 20/400,\t actions_taken: 383,\t game score: 1140.0,\t reward: 1198.25,\t avg reward: 845.2053,\t hit ratio: 5.364%,\t time: 19.38,\t total time: 274.76,\t epsilon: 0.6826\n"
     ]
    },
    {
     "name": "stderr",
     "output_type": "stream",
     "text": [
      "Episodes:   5%|▌         | 21/400 [04:58<2:00:10, 19.03s/it]"
     ]
    },
    {
     "name": "stdout",
     "output_type": "stream",
     "text": [
      "episode: 21/400,\t actions_taken: 416,\t game score: 440.0,\t reward: 516.27,\t avg reward: 829.5419,\t hit ratio: 5.208%,\t time: 20.36,\t total time: 295.12,\t epsilon: 0.6690\n"
     ]
    },
    {
     "name": "stderr",
     "output_type": "stream",
     "text": [
      "Episodes:   6%|▌         | 22/400 [05:19<2:02:40, 19.47s/it]"
     ]
    },
    {
     "name": "stdout",
     "output_type": "stream",
     "text": [
      "episode: 22/400,\t actions_taken: 426,\t game score: 420.0,\t reward: 492.99,\t avg reward: 814.2440,\t hit ratio: 6.667%,\t time: 20.34,\t total time: 315.46,\t epsilon: 0.6557\n"
     ]
    },
    {
     "name": "stderr",
     "output_type": "stream",
     "text": [
      "Episodes:   6%|▌         | 23/400 [05:38<2:02:25, 19.48s/it]"
     ]
    },
    {
     "name": "stdout",
     "output_type": "stream",
     "text": [
      "episode: 23/400,\t actions_taken: 385,\t game score: 580.0,\t reward: 656.93,\t avg reward: 807.4042,\t hit ratio: 7.143%,\t time: 19.35,\t total time: 334.81,\t epsilon: 0.6426\n"
     ]
    },
    {
     "name": "stderr",
     "output_type": "stream",
     "text": [
      "Episodes:   6%|▌         | 24/400 [05:59<2:05:32, 20.03s/it]"
     ]
    },
    {
     "name": "stdout",
     "output_type": "stream",
     "text": [
      "episode: 24/400,\t actions_taken: 401,\t game score: 440.0,\t reward: 497.99,\t avg reward: 794.5118,\t hit ratio: 3.788%,\t time: 21.14,\t total time: 355.95,\t epsilon: 0.6298\n"
     ]
    },
    {
     "name": "stderr",
     "output_type": "stream",
     "text": [
      "Episodes:   6%|▋         | 25/400 [06:21<2:08:01, 20.48s/it]"
     ]
    },
    {
     "name": "stdout",
     "output_type": "stream",
     "text": [
      "episode: 25/400,\t actions_taken: 400,\t game score: 920.0,\t reward: 1096.69,\t avg reward: 806.5988,\t hit ratio: 11.570%,\t time: 21.37,\t total time: 377.32,\t epsilon: 0.6173\n"
     ]
    },
    {
     "name": "stderr",
     "output_type": "stream",
     "text": [
      "Episodes:   6%|▋         | 26/400 [06:54<2:31:32, 24.31s/it]"
     ]
    },
    {
     "name": "stdout",
     "output_type": "stream",
     "text": [
      "episode: 26/400,\t actions_taken: 582,\t game score: 780.0,\t reward: 2093.56,\t avg reward: 856.0972,\t hit ratio: 10.056%,\t time: 33.07,\t total time: 410.39,\t epsilon: 0.5990\n"
     ]
    },
    {
     "name": "stderr",
     "output_type": "stream",
     "text": [
      "Episodes:   7%|▋         | 27/400 [07:15<2:24:06, 23.18s/it]"
     ]
    },
    {
     "name": "stdout",
     "output_type": "stream",
     "text": [
      "episode: 27/400,\t actions_taken: 363,\t game score: 1040.0,\t reward: 1257.21,\t avg reward: 855.8469,\t hit ratio: 8.805%,\t time: 20.37,\t total time: 430.76,\t epsilon: 0.5870\n"
     ]
    },
    {
     "name": "stderr",
     "output_type": "stream",
     "text": [
      "Episodes:   7%|▋         | 28/400 [07:37<2:21:28, 22.82s/it]"
     ]
    },
    {
     "name": "stdout",
     "output_type": "stream",
     "text": [
      "episode: 28/400,\t actions_taken: 406,\t game score: 880.0,\t reward: 963.68,\t avg reward: 853.9979,\t hit ratio: 4.663%,\t time: 21.80,\t total time: 452.56,\t epsilon: 0.5754\n"
     ]
    },
    {
     "name": "stderr",
     "output_type": "stream",
     "text": [
      "Episodes:   7%|▋         | 29/400 [07:58<2:18:21, 22.38s/it]"
     ]
    },
    {
     "name": "stdout",
     "output_type": "stream",
     "text": [
      "episode: 29/400,\t actions_taken: 370,\t game score: 420.0,\t reward: 533.00,\t avg reward: 841.7561,\t hit ratio: 5.988%,\t time: 21.16,\t total time: 473.72,\t epsilon: 0.5639\n"
     ]
    },
    {
     "name": "stderr",
     "output_type": "stream",
     "text": [
      "Episodes:   8%|▊         | 30/400 [08:19<2:16:14, 22.09s/it]"
     ]
    },
    {
     "name": "stdout",
     "output_type": "stream",
     "text": [
      "episode: 30/400,\t actions_taken: 331,\t game score: 540.0,\t reward: 644.12,\t avg reward: 851.7814,\t hit ratio: 12.222%,\t time: 21.27,\t total time: 494.99,\t epsilon: 0.5527\n"
     ]
    },
    {
     "name": "stderr",
     "output_type": "stream",
     "text": [
      "Episodes:   8%|▊         | 31/400 [08:43<2:18:11, 22.47s/it]"
     ]
    },
    {
     "name": "stdout",
     "output_type": "stream",
     "text": [
      "episode: 31/400,\t actions_taken: 372,\t game score: 440.0,\t reward: 586.89,\t avg reward: 852.2274,\t hit ratio: 9.434%,\t time: 23.18,\t total time: 518.16,\t epsilon: 0.5417\n"
     ]
    },
    {
     "name": "stderr",
     "output_type": "stream",
     "text": [
      "Episodes:   8%|▊         | 32/400 [09:06<2:19:39, 22.77s/it]"
     ]
    },
    {
     "name": "stdout",
     "output_type": "stream",
     "text": [
      "episode: 32/400,\t actions_taken: 390,\t game score: 420.0,\t reward: 484.09,\t avg reward: 834.1053,\t hit ratio: 8.850%,\t time: 23.30,\t total time: 541.46,\t epsilon: 0.5309\n"
     ]
    },
    {
     "name": "stderr",
     "output_type": "stream",
     "text": [
      "Episodes:   8%|▊         | 33/400 [09:40<2:39:35, 26.09s/it]"
     ]
    },
    {
     "name": "stdout",
     "output_type": "stream",
     "text": [
      "episode: 33/400,\t actions_taken: 532,\t game score: 1200.0,\t reward: 1334.80,\t avg reward: 865.5644,\t hit ratio: 3.655%,\t time: 33.67,\t total time: 575.13,\t epsilon: 0.5151\n"
     ]
    },
    {
     "name": "stderr",
     "output_type": "stream",
     "text": [
      "Episodes:   8%|▊         | 34/400 [10:08<2:42:06, 26.58s/it]"
     ]
    },
    {
     "name": "stdout",
     "output_type": "stream",
     "text": [
      "episode: 34/400,\t actions_taken: 465,\t game score: 480.0,\t reward: 569.92,\t avg reward: 863.5008,\t hit ratio: 4.490%,\t time: 27.53,\t total time: 602.66,\t epsilon: 0.5049\n"
     ]
    },
    {
     "name": "stderr",
     "output_type": "stream",
     "text": [
      "Episodes:   9%|▉         | 35/400 [10:33<2:38:16, 26.02s/it]"
     ]
    },
    {
     "name": "stdout",
     "output_type": "stream",
     "text": [
      "episode: 35/400,\t actions_taken: 392,\t game score: 1080.0,\t reward: 1135.40,\t avg reward: 853.1667,\t hit ratio: 4.348%,\t time: 24.54,\t total time: 627.20,\t epsilon: 0.4948\n"
     ]
    },
    {
     "name": "stderr",
     "output_type": "stream",
     "text": [
      "Episodes:   9%|▉         | 36/400 [10:59<2:38:34, 26.14s/it]"
     ]
    },
    {
     "name": "stdout",
     "output_type": "stream",
     "text": [
      "episode: 36/400,\t actions_taken: 436,\t game score: 740.0,\t reward: 842.82,\t avg reward: 834.5516,\t hit ratio: 8.696%,\t time: 26.25,\t total time: 653.46,\t epsilon: 0.4850\n"
     ]
    },
    {
     "name": "stderr",
     "output_type": "stream",
     "text": [
      "Episodes:   9%|▉         | 37/400 [11:28<2:42:55, 26.93s/it]"
     ]
    },
    {
     "name": "stdout",
     "output_type": "stream",
     "text": [
      "episode: 37/400,\t actions_taken: 473,\t game score: 400.0,\t reward: 493.26,\t avg reward: 816.7498,\t hit ratio: 2.459%,\t time: 28.58,\t total time: 682.04,\t epsilon: 0.4753\n"
     ]
    },
    {
     "name": "stderr",
     "output_type": "stream",
     "text": [
      "Episodes:  10%|▉         | 38/400 [11:57<2:46:03, 27.52s/it]"
     ]
    },
    {
     "name": "stdout",
     "output_type": "stream",
     "text": [
      "episode: 38/400,\t actions_taken: 431,\t game score: 500.0,\t reward: 729.25,\t avg reward: 813.0314,\t hit ratio: 6.180%,\t time: 28.74,\t total time: 710.78,\t epsilon: 0.4659\n"
     ]
    },
    {
     "name": "stderr",
     "output_type": "stream",
     "text": [
      "Episodes:  10%|▉         | 39/400 [12:35<3:04:30, 30.67s/it]"
     ]
    },
    {
     "name": "stdout",
     "output_type": "stream",
     "text": [
      "episode: 39/400,\t actions_taken: 562,\t game score: 660.0,\t reward: 1151.96,\t avg reward: 819.8689,\t hit ratio: 14.783%,\t time: 37.83,\t total time: 748.61,\t epsilon: 0.4520\n"
     ]
    },
    {
     "name": "stderr",
     "output_type": "stream",
     "text": [
      "Episodes:  10%|█         | 40/400 [13:06<3:06:05, 31.02s/it]"
     ]
    },
    {
     "name": "stdout",
     "output_type": "stream",
     "text": [
      "episode: 40/400,\t actions_taken: 477,\t game score: 520.0,\t reward: 805.68,\t avg reward: 824.6443,\t hit ratio: 10.280%,\t time: 31.66,\t total time: 780.27,\t epsilon: 0.4430\n"
     ]
    },
    {
     "name": "stderr",
     "output_type": "stream",
     "text": [
      "Episodes:  10%|█         | 41/400 [13:35<3:01:34, 30.35s/it]"
     ]
    },
    {
     "name": "stdout",
     "output_type": "stream",
     "text": [
      "episode: 41/400,\t actions_taken: 460,\t game score: 940.0,\t reward: 1319.83,\t avg reward: 840.5174,\t hit ratio: 6.818%,\t time: 28.61,\t total time: 808.88,\t epsilon: 0.4342\n"
     ]
    },
    {
     "name": "stderr",
     "output_type": "stream",
     "text": [
      "Episodes:  10%|█         | 42/400 [14:04<2:57:46, 29.79s/it]"
     ]
    },
    {
     "name": "stdout",
     "output_type": "stream",
     "text": [
      "episode: 42/400,\t actions_taken: 435,\t game score: 1040.0,\t reward: 1116.63,\t avg reward: 854.2717,\t hit ratio: 3.652%,\t time: 28.34,\t total time: 837.22,\t epsilon: 0.4256\n"
     ]
    },
    {
     "name": "stderr",
     "output_type": "stream",
     "text": [
      "Episodes:  11%|█         | 43/400 [14:41<3:10:59, 32.10s/it]"
     ]
    },
    {
     "name": "stdout",
     "output_type": "stream",
     "text": [
      "episode: 43/400,\t actions_taken: 515,\t game score: 1180.0,\t reward: 1318.23,\t avg reward: 889.9186,\t hit ratio: 5.282%,\t time: 37.31,\t total time: 874.52,\t epsilon: 0.4129\n"
     ]
    },
    {
     "name": "stderr",
     "output_type": "stream",
     "text": [
      "Episodes:  11%|█         | 44/400 [15:14<3:12:00, 32.36s/it]"
     ]
    },
    {
     "name": "stdout",
     "output_type": "stream",
     "text": [
      "episode: 44/400,\t actions_taken: 467,\t game score: 1080.0,\t reward: 1179.73,\t avg reward: 910.5187,\t hit ratio: 3.714%,\t time: 32.80,\t total time: 907.33,\t epsilon: 0.4047\n"
     ]
    },
    {
     "name": "stderr",
     "output_type": "stream",
     "text": [
      "Episodes:  11%|█▏        | 45/400 [15:47<3:12:25, 32.52s/it]"
     ]
    },
    {
     "name": "stdout",
     "output_type": "stream",
     "text": [
      "episode: 45/400,\t actions_taken: 451,\t game score: 440.0,\t reward: 550.91,\t avg reward: 906.5418,\t hit ratio: 4.369%,\t time: 32.72,\t total time: 940.05,\t epsilon: 0.3967\n"
     ]
    },
    {
     "name": "stderr",
     "output_type": "stream",
     "text": [
      "Episodes:  12%|█▏        | 46/400 [17:02<4:27:33, 45.35s/it]"
     ]
    },
    {
     "name": "stdout",
     "output_type": "stream",
     "text": [
      "episode: 46/400,\t actions_taken: 1058,\t game score: 1380.0,\t reward: 3071.96,\t avg reward: 978.6074,\t hit ratio: 4.673%,\t time: 75.10,\t total time: 1015.15,\t epsilon: 0.3772\n"
     ]
    },
    {
     "name": "stderr",
     "output_type": "stream",
     "text": [
      "Episodes:  12%|█▏        | 47/400 [17:43<4:18:11, 43.88s/it]"
     ]
    },
    {
     "name": "stdout",
     "output_type": "stream",
     "text": [
      "episode: 47/400,\t actions_taken: 516,\t game score: 920.0,\t reward: 1064.61,\t avg reward: 999.6971,\t hit ratio: 3.623%,\t time: 40.29,\t total time: 1055.44,\t epsilon: 0.3660\n"
     ]
    },
    {
     "name": "stderr",
     "output_type": "stream",
     "text": [
      "Episodes:  12%|█▏        | 48/400 [18:15<3:57:15, 40.44s/it]"
     ]
    },
    {
     "name": "stdout",
     "output_type": "stream",
     "text": [
      "episode: 48/400,\t actions_taken: 431,\t game score: 800.0,\t reward: 870.25,\t avg reward: 1014.2071,\t hit ratio: 3.073%,\t time: 32.24,\t total time: 1087.68,\t epsilon: 0.3587\n"
     ]
    },
    {
     "name": "stderr",
     "output_type": "stream",
     "text": [
      "Episodes:  12%|█▏        | 49/400 [18:48<3:42:42, 38.07s/it]"
     ]
    },
    {
     "name": "stdout",
     "output_type": "stream",
     "text": [
      "episode: 49/400,\t actions_taken: 421,\t game score: 480.0,\t reward: 545.54,\t avg reward: 1009.9228,\t hit ratio: 3.152%,\t time: 32.36,\t total time: 1120.04,\t epsilon: 0.3516\n"
     ]
    },
    {
     "name": "stderr",
     "output_type": "stream",
     "text": [
      "Episodes:  12%|█▎        | 50/400 [19:28<3:45:22, 38.64s/it]"
     ]
    },
    {
     "name": "stdout",
     "output_type": "stream",
     "text": [
      "episode: 50/400,\t actions_taken: 501,\t game score: 480.0,\t reward: 665.39,\t avg reward: 1016.3612,\t hit ratio: 12.222%,\t time: 39.78,\t total time: 1159.82,\t epsilon: 0.3412\n"
     ]
    },
    {
     "name": "stderr",
     "output_type": "stream",
     "text": [
      "Episodes:  13%|█▎        | 51/400 [19:54<3:23:04, 34.91s/it]"
     ]
    },
    {
     "name": "stdout",
     "output_type": "stream",
     "text": [
      "episode: 51/400,\t actions_taken: 328,\t game score: 500.0,\t reward: 878.19,\t avg reward: 1007.9574,\t hit ratio: 15.714%,\t time: 26.03,\t total time: 1185.85,\t epsilon: 0.3344\n"
     ]
    },
    {
     "name": "stderr",
     "output_type": "stream",
     "text": [
      "Episodes:  13%|█▎        | 52/400 [20:30<3:23:57, 35.17s/it]"
     ]
    },
    {
     "name": "stdout",
     "output_type": "stream",
     "text": [
      "episode: 52/400,\t actions_taken: 459,\t game score: 860.0,\t reward: 947.63,\t avg reward: 963.8832,\t hit ratio: 6.557%,\t time: 35.57,\t total time: 1221.42,\t epsilon: 0.3277\n"
     ]
    },
    {
     "name": "stderr",
     "output_type": "stream",
     "text": [
      "Episodes:  13%|█▎        | 53/400 [21:01<3:16:52, 34.04s/it]"
     ]
    },
    {
     "name": "stdout",
     "output_type": "stream",
     "text": [
      "episode: 53/400,\t actions_taken: 416,\t game score: 780.0,\t reward: 842.97,\t avg reward: 947.9508,\t hit ratio: 2.874%,\t time: 31.22,\t total time: 1252.63,\t epsilon: 0.3212\n",
      "episode: 54/400,\t actions_taken: 563,\t game score: 1020.0,\t reward: 1349.67,\t avg reward: 962.7964,\t hit ratio: 6.538%,\t time: 46.85,\t total time: 1299.49,\t epsilon: 0.3117\n"
     ]
    },
    {
     "name": "stderr",
     "output_type": "stream",
     "text": [
      "Episodes:  14%|█▎        | 54/400 [21:48<3:38:49, 37.95s/it]"
     ]
    },
    {
     "name": "stdout",
     "output_type": "stream",
     "text": [
      "episode: 55/400,\t actions_taken: 602,\t game score: 920.0,\t reward: 1396.19,\t avg reward: 995.9963,\t hit ratio: 4.559%,\t time: 50.73,\t total time: 1350.22,\t epsilon: 0.3024\n"
     ]
    },
    {
     "name": "stderr",
     "output_type": "stream",
     "text": [
      "Episodes:  14%|█▍        | 56/400 [23:16<3:50:28, 40.20s/it]"
     ]
    },
    {
     "name": "stdout",
     "output_type": "stream",
     "text": [
      "episode: 56/400,\t actions_taken: 426,\t game score: 300.0,\t reward: 370.10,\t avg reward: 985.4571,\t hit ratio: 4.348%,\t time: 36.16,\t total time: 1386.38,\t epsilon: 0.2964\n",
      "episode: 57/400,\t actions_taken: 401,\t game score: 540.0,\t reward: 604.50,\t avg reward: 986.1344,\t hit ratio: 5.195%,\t time: 35.21,\t total time: 1421.59,\t epsilon: 0.2905\n"
     ]
    },
    {
     "name": "stderr",
     "output_type": "stream",
     "text": [
      "Episodes:  14%|█▍        | 57/400 [23:51<3:41:35, 38.76s/it]"
     ]
    },
    {
     "name": "stdout",
     "output_type": "stream",
     "text": [
      "episode: 58/400,\t actions_taken: 654,\t game score: 960.0,\t reward: 1784.81,\t avg reward: 1036.1621,\t hit ratio: 6.667%,\t time: 57.30,\t total time: 1478.89,\t epsilon: 0.2819\n"
     ]
    },
    {
     "name": "stderr",
     "output_type": "stream",
     "text": [
      "Episodes:  14%|█▍        | 58/400 [24:48<4:13:00, 44.39s/it]"
     ]
    },
    {
     "name": "stdout",
     "output_type": "stream",
     "text": [
      "episode: 59/400,\t actions_taken: 436,\t game score: 400.0,\t reward: 634.64,\t avg reward: 1009.2327,\t hit ratio: 15.254%,\t time: 41.93,\t total time: 1520.82,\t epsilon: 0.2763\n"
     ]
    },
    {
     "name": "stderr",
     "output_type": "stream",
     "text": [
      "Episodes:  15%|█▍        | 59/400 [25:31<4:08:26, 43.71s/it]"
     ]
    },
    {
     "name": "stdout",
     "output_type": "stream",
     "text": [
      "episode: 60/400,\t actions_taken: 508,\t game score: 820.0,\t reward: 935.75,\t avg reward: 1023.3032,\t hit ratio: 3.521%,\t time: 44.64,\t total time: 1565.46,\t epsilon: 0.2680\n"
     ]
    },
    {
     "name": "stderr",
     "output_type": "stream",
     "text": [
      "Episodes:  15%|█▌        | 61/400 [27:05<4:17:30, 45.58s/it]"
     ]
    },
    {
     "name": "stdout",
     "output_type": "stream",
     "text": [
      "episode: 61/400,\t actions_taken: 593,\t game score: 920.0,\t reward: 1103.56,\t avg reward: 1022.0789,\t hit ratio: 5.776%,\t time: 48.94,\t total time: 1614.40,\t epsilon: 0.2601\n"
     ]
    },
    {
     "name": "stderr",
     "output_type": "stream",
     "text": [
      "Episodes:  16%|█▌        | 62/400 [27:50<4:16:57, 45.61s/it]"
     ]
    },
    {
     "name": "stdout",
     "output_type": "stream",
     "text": [
      "episode: 62/400,\t actions_taken: 530,\t game score: 780.0,\t reward: 1091.78,\t avg reward: 1031.6541,\t hit ratio: 3.147%,\t time: 45.50,\t total time: 1659.91,\t epsilon: 0.2524\n"
     ]
    },
    {
     "name": "stderr",
     "output_type": "stream",
     "text": [
      "Episodes:  16%|█▌        | 63/400 [28:36<4:16:57, 45.75s/it]"
     ]
    },
    {
     "name": "stdout",
     "output_type": "stream",
     "text": [
      "episode: 63/400,\t actions_taken: 523,\t game score: 340.0,\t reward: 464.69,\t avg reward: 1030.5551,\t hit ratio: 2.483%,\t time: 45.87,\t total time: 1705.78,\t epsilon: 0.2449\n"
     ]
    },
    {
     "name": "stderr",
     "output_type": "stream",
     "text": [
      "Episodes:  16%|█▌        | 64/400 [29:23<4:17:05, 45.91s/it]"
     ]
    },
    {
     "name": "stdout",
     "output_type": "stream",
     "text": [
      "episode: 64/400,\t actions_taken: 526,\t game score: 580.0,\t reward: 707.60,\t avg reward: 1029.7228,\t hit ratio: 2.101%,\t time: 46.08,\t total time: 1751.86,\t epsilon: 0.2376\n"
     ]
    },
    {
     "name": "stderr",
     "output_type": "stream",
     "text": [
      "Episodes:  16%|█▋        | 65/400 [30:09<4:17:21, 46.09s/it]"
     ]
    },
    {
     "name": "stdout",
     "output_type": "stream",
     "text": [
      "episode: 65/400,\t actions_taken: 527,\t game score: 720.0,\t reward: 847.65,\t avg reward: 1018.0184,\t hit ratio: 2.928%,\t time: 46.33,\t total time: 1798.19,\t epsilon: 0.2305\n",
      "episode: 66/400,\t actions_taken: 801,\t game score: 560.0,\t reward: 1007.38,\t avg reward: 1025.7761,\t hit ratio: 4.167%,\t time: 73.06,\t total time: 1871.25,\t epsilon: 0.2215\n"
     ]
    },
    {
     "name": "stderr",
     "output_type": "stream",
     "text": [
      "Episodes:  17%|█▋        | 67/400 [32:12<4:53:37, 52.90s/it]"
     ]
    },
    {
     "name": "stdout",
     "output_type": "stream",
     "text": [
      "episode: 67/400,\t actions_taken: 560,\t game score: 480.0,\t reward: 1017.17,\t avg reward: 1014.1354,\t hit ratio: 10.784%,\t time: 49.58,\t total time: 1920.83,\t epsilon: 0.2149\n"
     ]
    },
    {
     "name": "stderr",
     "output_type": "stream",
     "text": [
      "Episodes:  17%|█▋        | 68/400 [32:52<4:31:19, 49.03s/it]"
     ]
    },
    {
     "name": "stdout",
     "output_type": "stream",
     "text": [
      "episode: 68/400,\t actions_taken: 459,\t game score: 260.0,\t reward: 344.24,\t avg reward: 984.4282,\t hit ratio: 1.446%,\t time: 39.81,\t total time: 1960.63,\t epsilon: 0.2106\n",
      "episode: 69/400,\t actions_taken: 460,\t game score: 340.0,\t reward: 424.84,\t avg reward: 950.0671,\t hit ratio: 3.320%,\t time: 39.59,\t total time: 2000.23,\t epsilon: 0.2064\n"
     ]
    },
    {
     "name": "stderr",
     "output_type": "stream",
     "text": [
      "Episodes:  17%|█▋        | 69/400 [33:32<4:15:13, 46.26s/it]"
     ]
    },
    {
     "name": "stdout",
     "output_type": "stream",
     "text": [
      "episode: 70/400,\t actions_taken: 501,\t game score: 620.0,\t reward: 1039.99,\t avg reward: 944.6925,\t hit ratio: 16.949%,\t time: 44.95,\t total time: 2045.18,\t epsilon: 0.2003\n"
     ]
    },
    {
     "name": "stderr",
     "output_type": "stream",
     "text": [
      "Episodes:  18%|█▊        | 71/400 [35:09<4:20:50, 47.57s/it]"
     ]
    },
    {
     "name": "stdout",
     "output_type": "stream",
     "text": [
      "episode: 71/400,\t actions_taken: 560,\t game score: 400.0,\t reward: 553.03,\t avg reward: 944.7742,\t hit ratio: 2.532%,\t time: 51.18,\t total time: 2096.36,\t epsilon: 0.1943\n",
      "episode: 72/400,\t actions_taken: 540,\t game score: 480.0,\t reward: 1286.91,\t avg reward: 876.1187,\t hit ratio: 19.643%,\t time: 50.13,\t total time: 2146.49,\t epsilon: 0.1886\n"
     ]
    },
    {
     "name": "stderr",
     "output_type": "stream",
     "text": [
      "Episodes:  18%|█▊        | 72/400 [35:59<4:24:34, 48.40s/it]"
     ]
    },
    {
     "name": "stdout",
     "output_type": "stream",
     "text": [
      "episode: 73/400,\t actions_taken: 664,\t game score: 760.0,\t reward: 1014.91,\t avg reward: 874.2072,\t hit ratio: 1.669%,\t time: 59.96,\t total time: 2206.45,\t epsilon: 0.1830\n"
     ]
    },
    {
     "name": "stderr",
     "output_type": "stream",
     "text": [
      "Episodes:  18%|█▊        | 74/400 [37:53<4:44:58, 52.45s/it]"
     ]
    },
    {
     "name": "stdout",
     "output_type": "stream",
     "text": [
      "episode: 74/400,\t actions_taken: 529,\t game score: 780.0,\t reward: 909.09,\t avg reward: 875.7013,\t hit ratio: 1.931%,\t time: 53.46,\t total time: 2259.91,\t epsilon: 0.1775\n",
      "episode: 75/400,\t actions_taken: 632,\t game score: 380.0,\t reward: 599.74,\t avg reward: 877.7858,\t hit ratio: 1.915%,\t time: 55.95,\t total time: 2315.87,\t epsilon: 0.1722\n"
     ]
    },
    {
     "name": "stderr",
     "output_type": "stream",
     "text": [
      "Episodes:  19%|█▉        | 76/400 [39:46<4:55:29, 54.72s/it]"
     ]
    },
    {
     "name": "stdout",
     "output_type": "stream",
     "text": [
      "episode: 76/400,\t actions_taken: 656,\t game score: 440.0,\t reward: 1002.64,\t avg reward: 890.7572,\t hit ratio: 12.963%,\t time: 57.23,\t total time: 2373.10,\t epsilon: 0.1671\n"
     ]
    },
    {
     "name": "stderr",
     "output_type": "stream",
     "text": [
      "Episodes:  19%|█▉        | 77/400 [40:36<4:46:40, 53.25s/it]"
     ]
    },
    {
     "name": "stdout",
     "output_type": "stream",
     "text": [
      "episode: 77/400,\t actions_taken: 518,\t game score: 800.0,\t reward: 2001.11,\t avg reward: 933.9467,\t hit ratio: 3.659%,\t time: 49.63,\t total time: 2422.73,\t epsilon: 0.1622\n",
      "episode: 78/400,\t actions_taken: 555,\t game score: 680.0,\t reward: 1498.00,\t avg reward: 955.1150,\t hit ratio: 3.934%,\t time: 50.31,\t total time: 2473.04,\t epsilon: 0.1574\n"
     ]
    },
    {
     "name": "stderr",
     "output_type": "stream",
     "text": [
      "Episodes:  20%|█▉        | 79/400 [42:23<4:46:33, 53.56s/it]"
     ]
    },
    {
     "name": "stdout",
     "output_type": "stream",
     "text": [
      "episode: 79/400,\t actions_taken: 642,\t game score: 780.0,\t reward: 1010.63,\t avg reward: 961.5635,\t hit ratio: 2.017%,\t time: 56.00,\t total time: 2529.03,\t epsilon: 0.1527\n"
     ]
    },
    {
     "name": "stderr",
     "output_type": "stream",
     "text": [
      "Episodes:  20%|██        | 80/400 [43:21<4:52:27, 54.84s/it]"
     ]
    },
    {
     "name": "stdout",
     "output_type": "stream",
     "text": [
      "episode: 80/400,\t actions_taken: 645,\t game score: 500.0,\t reward: 735.53,\t avg reward: 937.9426,\t hit ratio: 3.191%,\t time: 57.61,\t total time: 2586.64,\t epsilon: 0.1481\n"
     ]
    },
    {
     "name": "stderr",
     "output_type": "stream",
     "text": [
      "Episodes:  20%|██        | 81/400 [44:40<5:30:30, 62.17s/it]"
     ]
    },
    {
     "name": "stdout",
     "output_type": "stream",
     "text": [
      "episode: 81/400,\t actions_taken: 855,\t game score: 820.0,\t reward: 2074.24,\t avg reward: 964.0215,\t hit ratio: 9.697%,\t time: 79.08,\t total time: 2665.72,\t epsilon: 0.1423\n"
     ]
    },
    {
     "name": "stderr",
     "output_type": "stream",
     "text": [
      "Episodes:  20%|██        | 82/400 [45:34<5:17:21, 59.88s/it]"
     ]
    },
    {
     "name": "stdout",
     "output_type": "stream",
     "text": [
      "episode: 82/400,\t actions_taken: 622,\t game score: 580.0,\t reward: 1788.32,\t avg reward: 1018.5685,\t hit ratio: 23.077%,\t time: 54.35,\t total time: 2720.07,\t epsilon: 0.1381\n",
      "episode: 83/400,\t actions_taken: 555,\t game score: 660.0,\t reward: 808.84,\t avg reward: 1026.4280,\t hit ratio: 1.737%,\t time: 52.22,\t total time: 2772.29,\t epsilon: 0.1340\n"
     ]
    },
    {
     "name": "stderr",
     "output_type": "stream",
     "text": [
      "Episodes:  21%|██        | 84/400 [47:17<4:51:34, 55.36s/it]"
     ]
    },
    {
     "name": "stdout",
     "output_type": "stream",
     "text": [
      "episode: 84/400,\t actions_taken: 525,\t game score: 280.0,\t reward: 406.02,\t avg reward: 973.3976,\t hit ratio: 2.847%,\t time: 49.85,\t total time: 2822.14,\t epsilon: 0.1300\n"
     ]
    },
    {
     "name": "stderr",
     "output_type": "stream",
     "text": [
      "Episodes:  21%|██▏       | 85/400 [48:14<4:53:20, 55.87s/it]"
     ]
    },
    {
     "name": "stdout",
     "output_type": "stream",
     "text": [
      "episode: 85/400,\t actions_taken: 631,\t game score: 840.0,\t reward: 3231.41,\t avg reward: 1073.2736,\t hit ratio: 7.975%,\t time: 56.89,\t total time: 2879.03,\t epsilon: 0.1261\n"
     ]
    },
    {
     "name": "stderr",
     "output_type": "stream",
     "text": [
      "Episodes:  22%|██▏       | 86/400 [49:06<4:46:47, 54.80s/it]"
     ]
    },
    {
     "name": "stdout",
     "output_type": "stream",
     "text": [
      "episode: 86/400,\t actions_taken: 565,\t game score: 260.0,\t reward: 489.77,\t avg reward: 1056.1202,\t hit ratio: 2.353%,\t time: 52.12,\t total time: 2931.14,\t epsilon: 0.1224\n"
     ]
    },
    {
     "name": "stderr",
     "output_type": "stream",
     "text": [
      "Episodes:  22%|██▏       | 87/400 [50:04<4:51:01, 55.79s/it]"
     ]
    },
    {
     "name": "stdout",
     "output_type": "stream",
     "text": [
      "episode: 87/400,\t actions_taken: 602,\t game score: 320.0,\t reward: 510.07,\t avg reward: 1033.2935,\t hit ratio: 1.989%,\t time: 57.90,\t total time: 2989.04,\t epsilon: 0.1188\n"
     ]
    },
    {
     "name": "stderr",
     "output_type": "stream",
     "text": [
      "Episodes:  22%|██▏       | 88/400 [50:58<4:47:24, 55.27s/it]"
     ]
    },
    {
     "name": "stdout",
     "output_type": "stream",
     "text": [
      "episode: 88/400,\t actions_taken: 565,\t game score: 740.0,\t reward: 2256.84,\t avg reward: 1078.1037,\t hit ratio: 27.273%,\t time: 53.86,\t total time: 3042.91,\t epsilon: 0.1152\n",
      "episode: 89/400,\t actions_taken: 699,\t game score: 420.0,\t reward: 717.22,\t avg reward: 1087.8164,\t hit ratio: 1.520%,\t time: 63.16,\t total time: 3106.07,\t epsilon: 0.1118\n"
     ]
    },
    {
     "name": "stderr",
     "output_type": "stream",
     "text": [
      "Episodes:  22%|██▏       | 89/400 [52:02<4:59:04, 57.70s/it]"
     ]
    },
    {
     "name": "stdout",
     "output_type": "stream",
     "text": [
      "episode: 90/400,\t actions_taken: 560,\t game score: 340.0,\t reward: 492.91,\t avg reward: 1079.5588,\t hit ratio: 2.251%,\t time: 55.73,\t total time: 3161.79,\t epsilon: 0.1085\n"
     ]
    },
    {
     "name": "stderr",
     "output_type": "stream",
     "text": [
      "Episodes:  22%|██▎       | 90/400 [52:58<4:55:23, 57.17s/it]"
     ]
    },
    {
     "name": "stdout",
     "output_type": "stream",
     "text": [
      "episode: 91/400,\t actions_taken: 565,\t game score: 220.0,\t reward: 397.63,\t avg reward: 1062.2502,\t hit ratio: 12.821%,\t time: 52.73,\t total time: 3214.53,\t epsilon: 0.1053\n"
     ]
    },
    {
     "name": "stderr",
     "output_type": "stream",
     "text": [
      "Episodes:  23%|██▎       | 92/400 [55:06<5:17:31, 61.86s/it]"
     ]
    },
    {
     "name": "stdout",
     "output_type": "stream",
     "text": [
      "episode: 92/400,\t actions_taken: 855,\t game score: 900.0,\t reward: 2270.54,\t avg reward: 1110.8336,\t hit ratio: 3.901%,\t time: 75.55,\t total time: 3290.08,\t epsilon: 0.1011\n"
     ]
    },
    {
     "name": "stderr",
     "output_type": "stream",
     "text": [
      "Episodes:  23%|██▎       | 93/400 [56:34<5:56:04, 69.59s/it]"
     ]
    },
    {
     "name": "stdout",
     "output_type": "stream",
     "text": [
      "episode: 93/400,\t actions_taken: 931,\t game score: 740.0,\t reward: 1441.83,\t avg reward: 1127.1663,\t hit ratio: 1.772%,\t time: 87.44,\t total time: 3377.52,\t epsilon: 0.0991\n",
      "episode: 94/400,\t actions_taken: 751,\t game score: 520.0,\t reward: 888.53,\t avg reward: 1148.1004,\t hit ratio: 2.033%,\t time: 73.32,\t total time: 3450.84,\t epsilon: 0.0991\n"
     ]
    },
    {
     "name": "stderr",
     "output_type": "stream",
     "text": [
      "Episodes:  24%|██▍       | 95/400 [59:15<6:24:36, 75.66s/it]"
     ]
    },
    {
     "name": "stdout",
     "output_type": "stream",
     "text": [
      "episode: 95/400,\t actions_taken: 916,\t game score: 540.0,\t reward: 1502.28,\t avg reward: 1189.5401,\t hit ratio: 2.414%,\t time: 86.86,\t total time: 3537.70,\t epsilon: 0.0991\n"
     ]
    },
    {
     "name": "stderr",
     "output_type": "stream",
     "text": [
      "Episodes:  24%|██▍       | 96/400 [1:00:15<5:59:26, 70.94s/it]"
     ]
    },
    {
     "name": "stdout",
     "output_type": "stream",
     "text": [
      "episode: 96/400,\t actions_taken: 667,\t game score: 300.0,\t reward: 558.62,\t avg reward: 1171.0258,\t hit ratio: 1.990%,\t time: 59.74,\t total time: 3597.43,\t epsilon: 0.0991\n",
      "episode: 97/400,\t actions_taken: 1010,\t game score: 720.0,\t reward: 1809.28,\t avg reward: 1219.3432,\t hit ratio: 5.000%,\t time: 95.61,\t total time: 3693.04,\t epsilon: 0.0991\n"
     ]
    },
    {
     "name": "stderr",
     "output_type": "stream",
     "text": [
      "Episodes:  24%|██▍       | 97/400 [1:01:50<6:35:56, 78.41s/it]"
     ]
    },
    {
     "name": "stdout",
     "output_type": "stream",
     "text": [
      "episode: 98/400,\t actions_taken: 555,\t game score: 200.0,\t reward: 348.84,\t avg reward: 1183.2634,\t hit ratio: 1.984%,\t time: 53.18,\t total time: 3746.22,\t epsilon: 0.0991\n"
     ]
    },
    {
     "name": "stderr",
     "output_type": "stream",
     "text": [
      "Episodes:  24%|██▍       | 98/400 [1:02:44<5:56:53, 70.91s/it]"
     ]
    },
    {
     "name": "stdout",
     "output_type": "stream",
     "text": [
      "episode: 99/400,\t actions_taken: 1029,\t game score: 0.0,\t reward: 947.51,\t avg reward: 1180.6713,\t hit ratio: 1.873%,\t time: 99.08,\t total time: 3845.29,\t epsilon: 0.0991\n"
     ]
    },
    {
     "name": "stderr",
     "output_type": "stream",
     "text": [
      "Episodes:  25%|██▌       | 100/400 [1:05:20<6:03:08, 72.63s/it]"
     ]
    },
    {
     "name": "stdout",
     "output_type": "stream",
     "text": [
      "episode: 100/400,\t actions_taken: 586,\t game score: 680.0,\t reward: 855.60,\t avg reward: 1178.6139,\t hit ratio: 1.455%,\t time: 56.59,\t total time: 3901.89,\t epsilon: 0.0991\n",
      "episode: 101/400,\t actions_taken: 672,\t game score: 380.0,\t reward: 644.12,\t avg reward: 1180.3211,\t hit ratio: 2.143%,\t time: 63.61,\t total time: 3965.49,\t epsilon: 0.0991\n"
     ]
    },
    {
     "name": "stderr",
     "output_type": "stream",
     "text": [
      "Episodes:  25%|██▌       | 101/400 [1:06:24<5:48:45, 69.98s/it]"
     ]
    },
    {
     "name": "stdout",
     "output_type": "stream",
     "text": [
      "episode: 102/400,\t actions_taken: 575,\t game score: 320.0,\t reward: 485.86,\t avg reward: 1160.4447,\t hit ratio: 1.457%,\t time: 54.03,\t total time: 4019.52,\t epsilon: 0.0991\n"
     ]
    },
    {
     "name": "stderr",
     "output_type": "stream",
     "text": [
      "Episodes:  26%|██▌       | 103/400 [1:08:20<5:18:51, 64.42s/it]"
     ]
    },
    {
     "name": "stdout",
     "output_type": "stream",
     "text": [
      "episode: 103/400,\t actions_taken: 678,\t game score: 380.0,\t reward: 852.24,\t avg reward: 1116.2572,\t hit ratio: 2.195%,\t time: 62.25,\t total time: 4081.77,\t epsilon: 0.0991\n"
     ]
    },
    {
     "name": "stderr",
     "output_type": "stream",
     "text": [
      "Episodes:  26%|██▌       | 104/400 [1:09:34<5:30:50, 67.06s/it]"
     ]
    },
    {
     "name": "stdout",
     "output_type": "stream",
     "text": [
      "episode: 104/400,\t actions_taken: 810,\t game score: 500.0,\t reward: 964.40,\t avg reward: 1095.7341,\t hit ratio: 2.424%,\t time: 73.04,\t total time: 4154.82,\t epsilon: 0.0991\n"
     ]
    },
    {
     "name": "stderr",
     "output_type": "stream",
     "text": [
      "Episodes:  26%|██▋       | 105/400 [1:10:26<5:08:34, 62.76s/it]"
     ]
    },
    {
     "name": "stdout",
     "output_type": "stream",
     "text": [
      "episode: 105/400,\t actions_taken: 545,\t game score: 260.0,\t reward: 405.95,\t avg reward: 1072.4772,\t hit ratio: 2.390%,\t time: 52.53,\t total time: 4207.35,\t epsilon: 0.0991\n"
     ]
    },
    {
     "name": "stderr",
     "output_type": "stream",
     "text": [
      "Episodes:  26%|██▋       | 106/400 [1:11:44<5:28:48, 67.10s/it]"
     ]
    },
    {
     "name": "stdout",
     "output_type": "stream",
     "text": [
      "episode: 106/400,\t actions_taken: 821,\t game score: 420.0,\t reward: 1120.51,\t avg reward: 1087.2842,\t hit ratio: 1.630%,\t time: 77.04,\t total time: 4284.39,\t epsilon: 0.0991\n"
     ]
    },
    {
     "name": "stderr",
     "output_type": "stream",
     "text": [
      "Episodes:  27%|██▋       | 107/400 [1:12:34<5:02:44, 61.99s/it]"
     ]
    },
    {
     "name": "stdout",
     "output_type": "stream",
     "text": [
      "episode: 107/400,\t actions_taken: 541,\t game score: 800.0,\t reward: 937.87,\t avg reward: 1043.5776,\t hit ratio: 1.772%,\t time: 49.88,\t total time: 4334.26,\t epsilon: 0.0991\n"
     ]
    },
    {
     "name": "stderr",
     "output_type": "stream",
     "text": [
      "Episodes:  27%|██▋       | 108/400 [1:13:27<4:49:09, 59.42s/it]"
     ]
    },
    {
     "name": "stdout",
     "output_type": "stream",
     "text": [
      "episode: 108/400,\t actions_taken: 550,\t game score: 360.0,\t reward: 504.87,\t avg reward: 994.2138,\t hit ratio: 1.705%,\t time: 53.21,\t total time: 4387.48,\t epsilon: 0.0991\n"
     ]
    },
    {
     "name": "stderr",
     "output_type": "stream",
     "text": [
      "Episodes:  27%|██▋       | 109/400 [1:14:06<4:18:53, 53.38s/it]"
     ]
    },
    {
     "name": "stdout",
     "output_type": "stream",
     "text": [
      "episode: 109/400,\t actions_taken: 442,\t game score: 460.0,\t reward: 535.31,\t avg reward: 983.6932,\t hit ratio: 2.153%,\t time: 39.09,\t total time: 4426.57,\t epsilon: 0.0991\n"
     ]
    },
    {
     "name": "stderr",
     "output_type": "stream",
     "text": [
      "Episodes:  28%|██▊       | 110/400 [1:14:58<4:15:50, 52.93s/it]"
     ]
    },
    {
     "name": "stdout",
     "output_type": "stream",
     "text": [
      "episode: 110/400,\t actions_taken: 540,\t game score: 320.0,\t reward: 457.12,\t avg reward: 985.6582,\t hit ratio: 1.550%,\t time: 51.69,\t total time: 4478.26,\t epsilon: 0.0991\n",
      "episode: 111/400,\t actions_taken: 575,\t game score: 480.0,\t reward: 646.71,\t avg reward: 886.2464,\t hit ratio: 3.150%,\t time: 52.00,\t total time: 4530.26,\t epsilon: 0.0991\n"
     ]
    },
    {
     "name": "stderr",
     "output_type": "stream",
     "text": [
      "Episodes:  28%|██▊       | 112/400 [1:17:18<5:03:39, 63.26s/it]"
     ]
    },
    {
     "name": "stdout",
     "output_type": "stream",
     "text": [
      "episode: 112/400,\t actions_taken: 931,\t game score: 700.0,\t reward: 1402.78,\t avg reward: 921.3624,\t hit ratio: 2.444%,\t time: 87.68,\t total time: 4617.94,\t epsilon: 0.0991\n"
     ]
    },
    {
     "name": "stderr",
     "output_type": "stream",
     "text": [
      "Episodes:  28%|██▊       | 113/400 [1:18:47<5:38:45, 70.82s/it]"
     ]
    },
    {
     "name": "stdout",
     "output_type": "stream",
     "text": [
      "episode: 113/400,\t actions_taken: 945,\t game score: 260.0,\t reward: 993.96,\t avg reward: 939.9738,\t hit ratio: 1.198%,\t time: 88.26,\t total time: 4706.20,\t epsilon: 0.0991\n",
      "episode: 114/400,\t actions_taken: 575,\t game score: 340.0,\t reward: 704.67,\t avg reward: 880.2749,\t hit ratio: 3.125%,\t time: 57.15,\t total time: 4763.35,\t epsilon: 0.0991\n"
     ]
    },
    {
     "name": "stderr",
     "output_type": "stream",
     "text": [
      "Episodes:  28%|██▊       | 114/400 [1:19:44<5:18:19, 66.78s/it]"
     ]
    },
    {
     "name": "stdout",
     "output_type": "stream",
     "text": [
      "episode: 115/400,\t actions_taken: 540,\t game score: 260.0,\t reward: 1310.39,\t avg reward: 903.0889,\t hit ratio: 11.111%,\t time: 51.58,\t total time: 4814.93,\t epsilon: 0.0991\n"
     ]
    },
    {
     "name": "stderr",
     "output_type": "stream",
     "text": [
      "Episodes:  29%|██▉       | 115/400 [1:20:36<4:55:51, 62.29s/it]"
     ]
    },
    {
     "name": "stdout",
     "output_type": "stream",
     "text": [
      "episode: 116/400,\t actions_taken: 693,\t game score: 200.0,\t reward: 549.24,\t avg reward: 905.2554,\t hit ratio: 0.907%,\t time: 63.25,\t total time: 4878.18,\t epsilon: 0.0991\n"
     ]
    },
    {
     "name": "stderr",
     "output_type": "stream",
     "text": [
      "Episodes:  29%|██▉       | 117/400 [1:22:38<4:50:06, 61.51s/it]"
     ]
    },
    {
     "name": "stdout",
     "output_type": "stream",
     "text": [
      "episode: 117/400,\t actions_taken: 626,\t game score: 300.0,\t reward: 1217.67,\t avg reward: 936.7956,\t hit ratio: 2.362%,\t time: 58.65,\t total time: 4936.83,\t epsilon: 0.0991\n"
     ]
    },
    {
     "name": "stderr",
     "output_type": "stream",
     "text": [
      "Episodes:  30%|██▉       | 118/400 [1:23:33<4:39:23, 59.44s/it]"
     ]
    },
    {
     "name": "stdout",
     "output_type": "stream",
     "text": [
      "episode: 118/400,\t actions_taken: 565,\t game score: 100.0,\t reward: 257.02,\t avg reward: 859.3524,\t hit ratio: 0.611%,\t time: 54.46,\t total time: 4991.29,\t epsilon: 0.0991\n"
     ]
    },
    {
     "name": "stderr",
     "output_type": "stream",
     "text": [
      "Episodes:  30%|██▉       | 119/400 [1:25:10<5:31:03, 70.69s/it]"
     ]
    },
    {
     "name": "stdout",
     "output_type": "stream",
     "text": [
      "episode: 119/400,\t actions_taken: 1036,\t game score: 920.0,\t reward: 1887.75,\t avg reward: 876.5035,\t hit ratio: 3.043%,\t time: 96.74,\t total time: 5088.04,\t epsilon: 0.0991\n"
     ]
    },
    {
     "name": "stderr",
     "output_type": "stream",
     "text": [
      "Episodes:  30%|███       | 120/400 [1:26:09<5:13:06, 67.09s/it]"
     ]
    },
    {
     "name": "stdout",
     "output_type": "stream",
     "text": [
      "episode: 120/400,\t actions_taken: 590,\t game score: 200.0,\t reward: 378.79,\t avg reward: 856.8981,\t hit ratio: 1.232%,\t time: 58.53,\t total time: 5146.56,\t epsilon: 0.0991\n"
     ]
    },
    {
     "name": "stderr",
     "output_type": "stream",
     "text": [
      "Episodes:  30%|███       | 121/400 [1:26:54<4:42:28, 60.75s/it]"
     ]
    },
    {
     "name": "stdout",
     "output_type": "stream",
     "text": [
      "episode: 121/400,\t actions_taken: 492,\t game score: 800.0,\t reward: 1420.96,\t avg reward: 853.7706,\t hit ratio: 4.583%,\t time: 45.74,\t total time: 5192.31,\t epsilon: 0.0991\n"
     ]
    },
    {
     "name": "stderr",
     "output_type": "stream",
     "text": [
      "Episodes:  30%|███       | 122/400 [1:27:49<4:32:54, 58.90s/it]"
     ]
    },
    {
     "name": "stdout",
     "output_type": "stream",
     "text": [
      "episode: 122/400,\t actions_taken: 550,\t game score: 320.0,\t reward: 570.46,\t avg reward: 854.2257,\t hit ratio: 2.373%,\t time: 54.41,\t total time: 5246.72,\t epsilon: 0.0991\n",
      "episode: 123/400,\t actions_taken: 587,\t game score: 320.0,\t reward: 866.66,\t avg reward: 817.9711,\t hit ratio: 6.542%,\t time: 58.36,\t total time: 5305.08,\t epsilon: 0.0991\n"
     ]
    },
    {
     "name": "stderr",
     "output_type": "stream",
     "text": [
      "Episodes:  31%|███       | 123/400 [1:28:48<4:31:28, 58.80s/it]"
     ]
    },
    {
     "name": "stdout",
     "output_type": "stream",
     "text": [
      "episode: 124/400,\t actions_taken: 613,\t game score: 300.0,\t reward: 500.50,\t avg reward: 823.8043,\t hit ratio: 2.632%,\t time: 57.86,\t total time: 5362.94,\t epsilon: 0.0991\n"
     ]
    },
    {
     "name": "stderr",
     "output_type": "stream",
     "text": [
      "Episodes:  31%|███▏      | 125/400 [1:30:37<4:18:56, 56.50s/it]"
     ]
    },
    {
     "name": "stdout",
     "output_type": "stream",
     "text": [
      "episode: 125/400,\t actions_taken: 535,\t game score: 400.0,\t reward: 534.20,\t avg reward: 807.9077,\t hit ratio: 3.614%,\t time: 51.43,\t total time: 5414.37,\t epsilon: 0.0991\n"
     ]
    },
    {
     "name": "stderr",
     "output_type": "stream",
     "text": [
      "Episodes:  32%|███▏      | 126/400 [1:31:31<4:14:38, 55.76s/it]"
     ]
    },
    {
     "name": "stdout",
     "output_type": "stream",
     "text": [
      "episode: 126/400,\t actions_taken: 555,\t game score: 320.0,\t reward: 893.06,\t avg reward: 809.3486,\t hit ratio: 8.451%,\t time: 53.88,\t total time: 5468.25,\t epsilon: 0.0991\n"
     ]
    },
    {
     "name": "stderr",
     "output_type": "stream",
     "text": [
      "Episodes:  32%|███▏      | 127/400 [1:32:26<4:12:35, 55.51s/it]"
     ]
    },
    {
     "name": "stdout",
     "output_type": "stream",
     "text": [
      "episode: 127/400,\t actions_taken: 589,\t game score: 340.0,\t reward: 517.89,\t avg reward: 804.4934,\t hit ratio: 2.662%,\t time: 54.75,\t total time: 5523.00,\t epsilon: 0.0991\n"
     ]
    },
    {
     "name": "stderr",
     "output_type": "stream",
     "text": [
      "Episodes:  32%|███▏      | 128/400 [1:33:22<4:12:05, 55.61s/it]"
     ]
    },
    {
     "name": "stdout",
     "output_type": "stream",
     "text": [
      "episode: 128/400,\t actions_taken: 608,\t game score: 420.0,\t reward: 1831.28,\t avg reward: 856.2404,\t hit ratio: 27.027%,\t time: 55.65,\t total time: 5578.65,\t epsilon: 0.0991\n",
      "episode: 129/400,\t actions_taken: 545,\t game score: 360.0,\t reward: 500.95,\t avg reward: 842.7292,\t hit ratio: 1.471%,\t time: 53.28,\t total time: 5631.93,\t epsilon: 0.0991\n"
     ]
    },
    {
     "name": "stderr",
     "output_type": "stream",
     "text": [
      "Episodes:  32%|███▏      | 129/400 [1:34:16<4:08:19, 54.98s/it]"
     ]
    },
    {
     "name": "stdout",
     "output_type": "stream",
     "text": [
      "episode: 130/400,\t actions_taken: 857,\t game score: 420.0,\t reward: 1643.11,\t avg reward: 868.8334,\t hit ratio: 21.951%,\t time: 79.87,\t total time: 5711.80,\t epsilon: 0.0991\n"
     ]
    },
    {
     "name": "stderr",
     "output_type": "stream",
     "text": [
      "Episodes:  33%|███▎      | 131/400 [1:36:26<4:24:04, 58.90s/it]"
     ]
    },
    {
     "name": "stdout",
     "output_type": "stream",
     "text": [
      "episode: 131/400,\t actions_taken: 550,\t game score: 240.0,\t reward: 446.42,\t avg reward: 870.3900,\t hit ratio: 8.219%,\t time: 50.27,\t total time: 5762.07,\t epsilon: 0.0991\n"
     ]
    },
    {
     "name": "stderr",
     "output_type": "stream",
     "text": [
      "Episodes:  33%|███▎      | 132/400 [1:38:13<5:27:29, 73.32s/it]"
     ]
    },
    {
     "name": "stdout",
     "output_type": "stream",
     "text": [
      "episode: 132/400,\t actions_taken: 1199,\t game score: 160.0,\t reward: 1658.70,\t avg reward: 891.0898,\t hit ratio: 4.138%,\t time: 106.78,\t total time: 5868.85,\t epsilon: 0.0991\n",
      "episode: 133/400,\t actions_taken: 560,\t game score: 320.0,\t reward: 1426.74,\t avg reward: 909.8923,\t hit ratio: 24.000%,\t time: 51.65,\t total time: 5920.51,\t epsilon: 0.0991\n"
     ]
    },
    {
     "name": "stderr",
     "output_type": "stream",
     "text": [
      "Episodes:  33%|███▎      | 133/400 [1:39:05<4:57:39, 66.89s/it]"
     ]
    },
    {
     "name": "stdout",
     "output_type": "stream",
     "text": [
      "episode: 134/400,\t actions_taken: 545,\t game score: 380.0,\t reward: 520.99,\t avg reward: 910.5123,\t hit ratio: 3.488%,\t time: 51.43,\t total time: 5971.94,\t epsilon: 0.0991\n"
     ]
    },
    {
     "name": "stderr",
     "output_type": "stream",
     "text": [
      "Episodes:  34%|███▍      | 135/400 [1:41:18<5:00:36, 68.06s/it]"
     ]
    },
    {
     "name": "stdout",
     "output_type": "stream",
     "text": [
      "episode: 135/400,\t actions_taken: 882,\t game score: 380.0,\t reward: 1214.41,\t avg reward: 936.6315,\t hit ratio: 1.414%,\t time: 81.28,\t total time: 6053.22,\t epsilon: 0.0991\n"
     ]
    },
    {
     "name": "stderr",
     "output_type": "stream",
     "text": [
      "Episodes:  34%|███▍      | 136/400 [1:42:12<4:40:25, 63.73s/it]"
     ]
    },
    {
     "name": "stdout",
     "output_type": "stream",
     "text": [
      "episode: 136/400,\t actions_taken: 593,\t game score: 420.0,\t reward: 868.62,\t avg reward: 952.4588,\t hit ratio: 3.831%,\t time: 53.43,\t total time: 6106.65,\t epsilon: 0.0991\n",
      "episode: 137/400,\t actions_taken: 575,\t game score: 1080.0,\t reward: 2733.78,\t avg reward: 1032.7307,\t hit ratio: 3.354%,\t time: 55.02,\t total time: 6161.67,\t epsilon: 0.0991\n"
     ]
    },
    {
     "name": "stderr",
     "output_type": "stream",
     "text": [
      "Episodes:  34%|███▍      | 138/400 [1:44:10<4:29:00, 61.61s/it]"
     ]
    },
    {
     "name": "stdout",
     "output_type": "stream",
     "text": [
      "episode: 138/400,\t actions_taken: 704,\t game score: 440.0,\t reward: 1002.66,\t avg reward: 1017.3414,\t hit ratio: 4.505%,\t time: 62.40,\t total time: 6224.07,\t epsilon: 0.0991\n"
     ]
    },
    {
     "name": "stderr",
     "output_type": "stream",
     "text": [
      "Episodes:  35%|███▍      | 139/400 [1:45:13<4:29:46, 62.02s/it]"
     ]
    },
    {
     "name": "stdout",
     "output_type": "stream",
     "text": [
      "episode: 139/400,\t actions_taken: 718,\t game score: 640.0,\t reward: 978.95,\t avg reward: 1016.7637,\t hit ratio: 4.089%,\t time: 62.79,\t total time: 6286.86,\t epsilon: 0.0991\n",
      "episode: 140/400,\t actions_taken: 555,\t game score: 340.0,\t reward: 1425.17,\t avg reward: 1044.4752,\t hit ratio: 10.127%,\t time: 51.53,\t total time: 6338.39,\t epsilon: 0.0991\n"
     ]
    },
    {
     "name": "stderr",
     "output_type": "stream",
     "text": [
      "Episodes:  35%|███▌      | 141/400 [1:47:01<4:11:20, 58.23s/it]"
     ]
    },
    {
     "name": "stdout",
     "output_type": "stream",
     "text": [
      "episode: 141/400,\t actions_taken: 605,\t game score: 340.0,\t reward: 1103.46,\t avg reward: 1036.5163,\t hit ratio: 25.000%,\t time: 56.38,\t total time: 6394.77,\t epsilon: 0.0991\n",
      "episode: 142/400,\t actions_taken: 514,\t game score: 800.0,\t reward: 918.26,\t avg reward: 1050.7093,\t hit ratio: 3.125%,\t time: 48.09,\t total time: 6442.87,\t epsilon: 0.0991\n"
     ]
    },
    {
     "name": "stderr",
     "output_type": "stream",
     "text": [
      "Episodes:  36%|███▌      | 143/400 [1:48:44<3:55:51, 55.06s/it]"
     ]
    },
    {
     "name": "stdout",
     "output_type": "stream",
     "text": [
      "episode: 143/400,\t actions_taken: 575,\t game score: 300.0,\t reward: 465.92,\t avg reward: 1021.7958,\t hit ratio: 2.823%,\t time: 54.43,\t total time: 6497.30,\t epsilon: 0.0991\n"
     ]
    },
    {
     "name": "stderr",
     "output_type": "stream",
     "text": [
      "Episodes:  36%|███▌      | 144/400 [1:49:36<3:50:30, 54.02s/it]"
     ]
    },
    {
     "name": "stdout",
     "output_type": "stream",
     "text": [
      "episode: 144/400,\t actions_taken: 550,\t game score: 340.0,\t reward: 4292.33,\t avg reward: 1177.0002,\t hit ratio: 32.000%,\t time: 51.42,\t total time: 6548.71,\t epsilon: 0.0991\n"
     ]
    },
    {
     "name": "stderr",
     "output_type": "stream",
     "text": [
      "Episodes:  36%|███▋      | 145/400 [1:50:29<3:48:52, 53.85s/it]"
     ]
    },
    {
     "name": "stdout",
     "output_type": "stream",
     "text": [
      "episode: 145/400,\t actions_taken: 593,\t game score: 140.0,\t reward: 451.56,\t avg reward: 1121.7621,\t hit ratio: 13.333%,\t time: 53.27,\t total time: 6601.99,\t epsilon: 0.0991\n"
     ]
    },
    {
     "name": "stderr",
     "output_type": "stream",
     "text": [
      "Episodes:  36%|███▋      | 146/400 [1:51:44<4:14:44, 60.18s/it]"
     ]
    },
    {
     "name": "stdout",
     "output_type": "stream",
     "text": [
      "episode: 146/400,\t actions_taken: 822,\t game score: 560.0,\t reward: 2633.01,\t avg reward: 1208.4629,\t hit ratio: 4.797%,\t time: 74.75,\t total time: 6676.74,\t epsilon: 0.0991\n"
     ]
    },
    {
     "name": "stderr",
     "output_type": "stream",
     "text": [
      "Episodes:  37%|███▋      | 147/400 [1:52:37<4:05:19, 58.18s/it]"
     ]
    },
    {
     "name": "stdout",
     "output_type": "stream",
     "text": [
      "episode: 147/400,\t actions_taken: 570,\t game score: 380.0,\t reward: 1509.50,\t avg reward: 1211.8683,\t hit ratio: 8.421%,\t time: 53.33,\t total time: 6730.07,\t epsilon: 0.0991\n"
     ]
    },
    {
     "name": "stderr",
     "output_type": "stream",
     "text": [
      "Episodes:  37%|███▋      | 148/400 [1:53:29<3:56:00, 56.19s/it]"
     ]
    },
    {
     "name": "stdout",
     "output_type": "stream",
     "text": [
      "episode: 148/400,\t actions_taken: 550,\t game score: 720.0,\t reward: 872.75,\t avg reward: 1223.4952,\t hit ratio: 2.024%,\t time: 51.37,\t total time: 6781.43,\t epsilon: 0.0991\n"
     ]
    },
    {
     "name": "stderr",
     "output_type": "stream",
     "text": [
      "Episodes:  37%|███▋      | 149/400 [1:54:21<3:49:26, 54.85s/it]"
     ]
    },
    {
     "name": "stdout",
     "output_type": "stream",
     "text": [
      "episode: 149/400,\t actions_taken: 540,\t game score: 360.0,\t reward: 1444.24,\t avg reward: 1245.7098,\t hit ratio: 3.125%,\t time: 51.52,\t total time: 6832.96,\t epsilon: 0.0991\n"
     ]
    },
    {
     "name": "stderr",
     "output_type": "stream",
     "text": [
      "Episodes:  38%|███▊      | 150/400 [1:55:34<4:11:32, 60.37s/it]"
     ]
    },
    {
     "name": "stdout",
     "output_type": "stream",
     "text": [
      "episode: 150/400,\t actions_taken: 773,\t game score: 400.0,\t reward: 1339.52,\t avg reward: 1277.9797,\t hit ratio: 20.000%,\t time: 73.07,\t total time: 6906.03,\t epsilon: 0.0991\n"
     ]
    },
    {
     "name": "stderr",
     "output_type": "stream",
     "text": [
      "Episodes:  38%|███▊      | 151/400 [1:56:56<4:37:23, 66.84s/it]"
     ]
    },
    {
     "name": "stdout",
     "output_type": "stream",
     "text": [
      "episode: 151/400,\t actions_taken: 906,\t game score: 780.0,\t reward: 2290.47,\t avg reward: 1345.5284,\t hit ratio: 4.104%,\t time: 81.77,\t total time: 6987.80,\t epsilon: 0.0991\n"
     ]
    },
    {
     "name": "stderr",
     "output_type": "stream",
     "text": [
      "Episodes:  38%|███▊      | 152/400 [1:57:46<4:15:46, 61.88s/it]"
     ]
    },
    {
     "name": "stdout",
     "output_type": "stream",
     "text": [
      "episode: 152/400,\t actions_taken: 501,\t game score: 380.0,\t reward: 497.36,\t avg reward: 1330.3091,\t hit ratio: 3.614%,\t time: 50.11,\t total time: 7037.91,\t epsilon: 0.0991\n",
      "episode: 153/400,\t actions_taken: 445,\t game score: 580.0,\t reward: 815.81,\t avg reward: 1341.7676,\t hit ratio: 2.525%,\t time: 42.84,\t total time: 7080.75,\t epsilon: 0.0991\n"
     ]
    },
    {
     "name": "stderr",
     "output_type": "stream",
     "text": [
      "Episodes:  38%|███▊      | 154/400 [1:59:55<4:26:51, 65.09s/it]"
     ]
    },
    {
     "name": "stdout",
     "output_type": "stream",
     "text": [
      "episode: 154/400,\t actions_taken: 945,\t game score: 320.0,\t reward: 1053.95,\t avg reward: 1311.8703,\t hit ratio: 1.097%,\t time: 85.57,\t total time: 7166.32,\t epsilon: 0.0991\n",
      "episode: 155/400,\t actions_taken: 695,\t game score: 500.0,\t reward: 1635.43,\t avg reward: 1355.5043,\t hit ratio: 26.667%,\t time: 65.36,\t total time: 7231.68,\t epsilon: 0.0991\n"
     ]
    },
    {
     "name": "stderr",
     "output_type": "stream",
     "text": [
      "Episodes:  39%|███▉      | 156/400 [2:02:21<4:43:41, 69.76s/it]"
     ]
    },
    {
     "name": "stdout",
     "output_type": "stream",
     "text": [
      "episode: 156/400,\t actions_taken: 894,\t game score: 280.0,\t reward: 920.25,\t avg reward: 1327.7018,\t hit ratio: 1.644%,\t time: 80.13,\t total time: 7311.80,\t epsilon: 0.0991\n",
      "episode: 157/400,\t actions_taken: 575,\t game score: 320.0,\t reward: 1010.95,\t avg reward: 1349.4144,\t hit ratio: 7.143%,\t time: 53.57,\t total time: 7365.37,\t epsilon: 0.0991\n"
     ]
    },
    {
     "name": "stderr",
     "output_type": "stream",
     "text": [
      "Episodes:  40%|███▉      | 158/400 [2:04:10<4:09:51, 61.95s/it]"
     ]
    },
    {
     "name": "stdout",
     "output_type": "stream",
     "text": [
      "episode: 158/400,\t actions_taken: 570,\t game score: 360.0,\t reward: 522.05,\t avg reward: 1305.6971,\t hit ratio: 3.150%,\t time: 54.73,\t total time: 7420.10,\t epsilon: 0.0991\n"
     ]
    },
    {
     "name": "stderr",
     "output_type": "stream",
     "text": [
      "Episodes:  40%|███▉      | 159/400 [2:05:33<4:34:33, 68.35s/it]"
     ]
    },
    {
     "name": "stdout",
     "output_type": "stream",
     "text": [
      "episode: 159/400,\t actions_taken: 941,\t game score: 560.0,\t reward: 2054.43,\t avg reward: 1329.8391,\t hit ratio: 4.727%,\t time: 83.11,\t total time: 7503.21,\t epsilon: 0.0991\n"
     ]
    },
    {
     "name": "stderr",
     "output_type": "stream",
     "text": [
      "Episodes:  40%|████      | 160/400 [2:06:24<4:12:22, 63.09s/it]"
     ]
    },
    {
     "name": "stdout",
     "output_type": "stream",
     "text": [
      "episode: 160/400,\t actions_taken: 555,\t game score: 320.0,\t reward: 809.33,\t avg reward: 1340.9292,\t hit ratio: 3.030%,\t time: 50.64,\t total time: 7553.85,\t epsilon: 0.0991\n"
     ]
    },
    {
     "name": "stderr",
     "output_type": "stream",
     "text": [
      "Episodes:  40%|████      | 161/400 [2:07:48<4:36:05, 69.31s/it]"
     ]
    },
    {
     "name": "stdout",
     "output_type": "stream",
     "text": [
      "episode: 161/400,\t actions_taken: 960,\t game score: 340.0,\t reward: 2508.62,\t avg reward: 1390.7065,\t hit ratio: 3.333%,\t time: 83.64,\t total time: 7637.49,\t epsilon: 0.0991\n",
      "episode: 162/400,\t actions_taken: 705,\t game score: 280.0,\t reward: 584.91,\t avg reward: 1379.7946,\t hit ratio: 1.222%,\t time: 61.75,\t total time: 7699.25,\t epsilon: 0.0991\n"
     ]
    },
    {
     "name": "stderr",
     "output_type": "stream",
     "text": [
      "Episodes:  41%|████      | 163/400 [2:09:42<4:08:03, 62.80s/it]"
     ]
    },
    {
     "name": "stdout",
     "output_type": "stream",
     "text": [
      "episode: 163/400,\t actions_taken: 550,\t game score: 400.0,\t reward: 1083.61,\t avg reward: 1316.3265,\t hit ratio: 10.667%,\t time: 52.54,\t total time: 7751.79,\t epsilon: 0.0991\n"
     ]
    },
    {
     "name": "stderr",
     "output_type": "stream",
     "text": [
      "Episodes:  41%|████      | 164/400 [2:10:36<3:55:59, 60.00s/it]"
     ]
    },
    {
     "name": "stdout",
     "output_type": "stream",
     "text": [
      "episode: 164/400,\t actions_taken: 575,\t game score: 340.0,\t reward: 505.52,\t avg reward: 1297.2057,\t hit ratio: 1.664%,\t time: 53.28,\t total time: 7805.08,\t epsilon: 0.0991\n"
     ]
    },
    {
     "name": "stderr",
     "output_type": "stream",
     "text": [
      "Episodes:  41%|████▏     | 165/400 [2:11:25<3:42:28, 56.80s/it]"
     ]
    },
    {
     "name": "stdout",
     "output_type": "stream",
     "text": [
      "episode: 165/400,\t actions_taken: 531,\t game score: 400.0,\t reward: 970.86,\t avg reward: 1296.8949,\t hit ratio: 15.517%,\t time: 49.17,\t total time: 7854.25,\t epsilon: 0.0991\n",
      "episode: 166/400,\t actions_taken: 560,\t game score: 260.0,\t reward: 1114.27,\t avg reward: 1284.9374,\t hit ratio: 35.000%,\t time: 55.59,\t total time: 7909.84,\t epsilon: 0.0991\n"
     ]
    },
    {
     "name": "stderr",
     "output_type": "stream",
     "text": [
      "Episodes:  42%|████▏     | 167/400 [2:13:37<4:02:24, 62.42s/it]"
     ]
    },
    {
     "name": "stdout",
     "output_type": "stream",
     "text": [
      "episode: 167/400,\t actions_taken: 811,\t game score: 200.0,\t reward: 1165.39,\t avg reward: 1287.3196,\t hit ratio: 11.224%,\t time: 76.03,\t total time: 7985.86,\t epsilon: 0.0991\n"
     ]
    },
    {
     "name": "stderr",
     "output_type": "stream",
     "text": [
      "Episodes:  42%|████▏     | 168/400 [2:14:29<3:49:03, 59.24s/it]"
     ]
    },
    {
     "name": "stdout",
     "output_type": "stream",
     "text": [
      "episode: 168/400,\t actions_taken: 570,\t game score: 400.0,\t reward: 855.58,\t avg reward: 1284.9091,\t hit ratio: 1.946%,\t time: 51.63,\t total time: 8037.50,\t epsilon: 0.0991\n"
     ]
    },
    {
     "name": "stderr",
     "output_type": "stream",
     "text": [
      "Episodes:  42%|████▏     | 169/400 [2:15:37<3:57:56, 61.80s/it]"
     ]
    },
    {
     "name": "stdout",
     "output_type": "stream",
     "text": [
      "episode: 169/400,\t actions_taken: 730,\t game score: 340.0,\t reward: 678.96,\t avg reward: 1293.1032,\t hit ratio: 1.699%,\t time: 67.60,\t total time: 8105.09,\t epsilon: 0.0991\n"
     ]
    },
    {
     "name": "stderr",
     "output_type": "stream",
     "text": [
      "Episodes:  42%|████▎     | 170/400 [2:16:57<4:18:16, 67.38s/it]"
     ]
    },
    {
     "name": "stdout",
     "output_type": "stream",
     "text": [
      "episode: 170/400,\t actions_taken: 916,\t game score: 180.0,\t reward: 3622.87,\t avg reward: 1267.3545,\t hit ratio: 7.109%,\t time: 80.20,\t total time: 8185.30,\t epsilon: 0.0991\n"
     ]
    },
    {
     "name": "stderr",
     "output_type": "stream",
     "text": [
      "Episodes:  43%|████▎     | 171/400 [2:17:48<3:58:15, 62.43s/it]"
     ]
    },
    {
     "name": "stdout",
     "output_type": "stream",
     "text": [
      "episode: 171/400,\t actions_taken: 535,\t game score: 220.0,\t reward: 353.34,\t avg reward: 1263.5768,\t hit ratio: 2.439%,\t time: 50.69,\t total time: 8235.99,\t epsilon: 0.0991\n"
     ]
    },
    {
     "name": "stderr",
     "output_type": "stream",
     "text": [
      "Episodes:  43%|████▎     | 172/400 [2:19:15<4:25:45, 69.94s/it]"
     ]
    },
    {
     "name": "stdout",
     "output_type": "stream",
     "text": [
      "episode: 172/400,\t actions_taken: 945,\t game score: 400.0,\t reward: 1884.00,\t avg reward: 1234.7686,\t hit ratio: 3.261%,\t time: 87.27,\t total time: 8323.26,\t epsilon: 0.0991\n",
      "episode: 173/400,\t actions_taken: 1199,\t game score: 660.0,\t reward: 3921.79,\t avg reward: 1327.5487,\t hit ratio: 1.639%,\t time: 108.81,\t total time: 8432.07,\t epsilon: 0.0991\n"
     ]
    },
    {
     "name": "stderr",
     "output_type": "stream",
     "text": [
      "Episodes:  44%|████▎     | 174/400 [2:21:56<4:33:22, 72.58s/it]"
     ]
    },
    {
     "name": "stdout",
     "output_type": "stream",
     "text": [
      "episode: 174/400,\t actions_taken: 570,\t game score: 320.0,\t reward: 631.51,\t avg reward: 1318.2702,\t hit ratio: 19.355%,\t time: 51.16,\t total time: 8483.23,\t epsilon: 0.0991\n",
      "episode: 175/400,\t actions_taken: 669,\t game score: 700.0,\t reward: 961.65,\t avg reward: 1299.7089,\t hit ratio: 4.669%,\t time: 58.42,\t total time: 8541.65,\t epsilon: 0.0991\n"
     ]
    },
    {
     "name": "stderr",
     "output_type": "stream",
     "text": [
      "Episodes:  44%|████▍     | 176/400 [2:24:14<4:28:08, 71.82s/it]"
     ]
    },
    {
     "name": "stdout",
     "output_type": "stream",
     "text": [
      "episode: 176/400,\t actions_taken: 908,\t game score: 540.0,\t reward: 1207.21,\t avg reward: 1294.6198,\t hit ratio: 1.526%,\t time: 79.63,\t total time: 8621.29,\t epsilon: 0.0991\n"
     ]
    },
    {
     "name": "stderr",
     "output_type": "stream",
     "text": [
      "Episodes:  44%|████▍     | 177/400 [2:25:33<4:35:07, 74.03s/it]"
     ]
    },
    {
     "name": "stdout",
     "output_type": "stream",
     "text": [
      "episode: 177/400,\t actions_taken: 909,\t game score: 660.0,\t reward: 3044.52,\t avg reward: 1323.6220,\t hit ratio: 4.038%,\t time: 79.00,\t total time: 8700.29,\t epsilon: 0.0991\n",
      "episode: 178/400,\t actions_taken: 564,\t game score: 500.0,\t reward: 656.66,\t avg reward: 1329.7491,\t hit ratio: 3.503%,\t time: 52.68,\t total time: 8752.97,\t epsilon: 0.0991\n"
     ]
    },
    {
     "name": "stderr",
     "output_type": "stream",
     "text": [
      "Episodes:  44%|████▍     | 178/400 [2:26:26<4:10:26, 67.69s/it]"
     ]
    },
    {
     "name": "stdout",
     "output_type": "stream",
     "text": [
      "episode: 179/400,\t actions_taken: 796,\t game score: 520.0,\t reward: 1858.96,\t avg reward: 1369.8705,\t hit ratio: 3.438%,\t time: 72.26,\t total time: 8825.23,\t epsilon: 0.0991\n"
     ]
    },
    {
     "name": "stderr",
     "output_type": "stream",
     "text": [
      "Episodes:  45%|████▍     | 179/400 [2:27:39<4:14:38, 69.13s/it]"
     ]
    },
    {
     "name": "stdout",
     "output_type": "stream",
     "text": [
      "episode: 180/400,\t actions_taken: 550,\t game score: 640.0,\t reward: 805.64,\t avg reward: 1360.3200,\t hit ratio: 2.308%,\t time: 50.49,\t total time: 8875.72,\t epsilon: 0.0991\n"
     ]
    },
    {
     "name": "stderr",
     "output_type": "stream",
     "text": [
      "Episodes:  45%|████▌     | 181/400 [2:29:22<3:40:23, 60.38s/it]"
     ]
    },
    {
     "name": "stdout",
     "output_type": "stream",
     "text": [
      "episode: 181/400,\t actions_taken: 575,\t game score: 440.0,\t reward: 1096.26,\t avg reward: 1339.5827,\t hit ratio: 29.032%,\t time: 52.65,\t total time: 8928.37,\t epsilon: 0.0991\n"
     ]
    },
    {
     "name": "stderr",
     "output_type": "stream",
     "text": [
      "Episodes:  46%|████▌     | 182/400 [2:30:45<4:03:24, 66.99s/it]"
     ]
    },
    {
     "name": "stdout",
     "output_type": "stream",
     "text": [
      "episode: 182/400,\t actions_taken: 916,\t game score: 240.0,\t reward: 908.56,\t avg reward: 1339.1330,\t hit ratio: 2.607%,\t time: 82.25,\t total time: 9010.62,\t epsilon: 0.0991\n"
     ]
    },
    {
     "name": "stderr",
     "output_type": "stream",
     "text": [
      "Episodes:  46%|████▌     | 183/400 [2:31:36<3:44:35, 62.10s/it]"
     ]
    },
    {
     "name": "stdout",
     "output_type": "stream",
     "text": [
      "episode: 183/400,\t actions_taken: 550,\t game score: 520.0,\t reward: 665.34,\t avg reward: 1325.8406,\t hit ratio: 1.663%,\t time: 50.50,\t total time: 9061.12,\t epsilon: 0.0991\n"
     ]
    },
    {
     "name": "stderr",
     "output_type": "stream",
     "text": [
      "Episodes:  46%|████▌     | 184/400 [2:32:29<3:34:35, 59.61s/it]"
     ]
    },
    {
     "name": "stdout",
     "output_type": "stream",
     "text": [
      "episode: 184/400,\t actions_taken: 565,\t game score: 240.0,\t reward: 935.59,\t avg reward: 1341.7462,\t hit ratio: 30.000%,\t time: 53.63,\t total time: 9114.75,\t epsilon: 0.0991\n"
     ]
    },
    {
     "name": "stderr",
     "output_type": "stream",
     "text": [
      "Episodes:  46%|████▋     | 185/400 [2:33:22<3:25:40, 57.40s/it]"
     ]
    },
    {
     "name": "stdout",
     "output_type": "stream",
     "text": [
      "episode: 185/400,\t actions_taken: 545,\t game score: 340.0,\t reward: 488.73,\t avg reward: 1281.5270,\t hit ratio: 2.318%,\t time: 52.06,\t total time: 9166.81,\t epsilon: 0.0991\n"
     ]
    },
    {
     "name": "stderr",
     "output_type": "stream",
     "text": [
      "Episodes:  46%|████▋     | 186/400 [2:34:15<3:20:54, 56.33s/it]"
     ]
    },
    {
     "name": "stdout",
     "output_type": "stream",
     "text": [
      "episode: 186/400,\t actions_taken: 581,\t game score: 280.0,\t reward: 756.50,\t avg reward: 1279.4953,\t hit ratio: 21.429%,\t time: 53.65,\t total time: 9220.46,\t epsilon: 0.0991\n",
      "episode: 187/400,\t actions_taken: 619,\t game score: 680.0,\t reward: 1851.39,\t avg reward: 1254.2176,\t hit ratio: 7.812%,\t time: 57.70,\t total time: 9278.15,\t epsilon: 0.0991\n"
     ]
    },
    {
     "name": "stderr",
     "output_type": "stream",
     "text": [
      "Episodes:  47%|████▋     | 187/400 [2:35:13<3:21:39, 56.81s/it]"
     ]
    },
    {
     "name": "stdout",
     "output_type": "stream",
     "text": [
      "episode: 188/400,\t actions_taken: 529,\t game score: 420.0,\t reward: 2213.87,\t avg reward: 1316.8698,\t hit ratio: 3.462%,\t time: 51.46,\t total time: 9329.61,\t epsilon: 0.0991\n"
     ]
    },
    {
     "name": "stderr",
     "output_type": "stream",
     "text": [
      "Episodes:  47%|████▋     | 189/400 [2:36:57<3:11:13, 54.38s/it]"
     ]
    },
    {
     "name": "stdout",
     "output_type": "stream",
     "text": [
      "episode: 189/400,\t actions_taken: 555,\t game score: 580.0,\t reward: 733.97,\t avg reward: 1303.4222,\t hit ratio: 2.088%,\t time: 52.11,\t total time: 9381.72,\t epsilon: 0.0991\n"
     ]
    },
    {
     "name": "stderr",
     "output_type": "stream",
     "text": [
      "Episodes:  48%|████▊     | 190/400 [2:38:07<3:26:27, 58.99s/it]"
     ]
    },
    {
     "name": "stdout",
     "output_type": "stream",
     "text": [
      "episode: 190/400,\t actions_taken: 751,\t game score: 460.0,\t reward: 828.56,\t avg reward: 1315.8468,\t hit ratio: 3.597%,\t time: 69.58,\t total time: 9451.30,\t epsilon: 0.0991\n"
     ]
    },
    {
     "name": "stderr",
     "output_type": "stream",
     "text": [
      "Episodes:  48%|████▊     | 191/400 [2:38:49<3:07:26, 53.81s/it]"
     ]
    },
    {
     "name": "stdout",
     "output_type": "stream",
     "text": [
      "episode: 191/400,\t actions_taken: 445,\t game score: 380.0,\t reward: 456.79,\t avg reward: 1296.0749,\t hit ratio: 1.891%,\t time: 41.55,\t total time: 9492.85,\t epsilon: 0.0991\n"
     ]
    },
    {
     "name": "stderr",
     "output_type": "stream",
     "text": [
      "Episodes:  48%|████▊     | 192/400 [2:39:42<3:05:32, 53.52s/it]"
     ]
    },
    {
     "name": "stdout",
     "output_type": "stream",
     "text": [
      "episode: 192/400,\t actions_taken: 555,\t game score: 320.0,\t reward: 471.18,\t avg reward: 1271.3407,\t hit ratio: 1.670%,\t time: 52.66,\t total time: 9545.51,\t epsilon: 0.0991\n"
     ]
    },
    {
     "name": "stderr",
     "output_type": "stream",
     "text": [
      "Episodes:  48%|████▊     | 193/400 [2:40:33<3:02:54, 53.02s/it]"
     ]
    },
    {
     "name": "stdout",
     "output_type": "stream",
     "text": [
      "episode: 193/400,\t actions_taken: 545,\t game score: 180.0,\t reward: 320.96,\t avg reward: 1238.8624,\t hit ratio: 0.832%,\t time: 51.66,\t total time: 9597.17,\t epsilon: 0.0991\n"
     ]
    },
    {
     "name": "stderr",
     "output_type": "stream",
     "text": [
      "Episodes:  48%|████▊     | 194/400 [2:41:40<3:15:45, 57.02s/it]"
     ]
    },
    {
     "name": "stdout",
     "output_type": "stream",
     "text": [
      "episode: 194/400,\t actions_taken: 707,\t game score: 440.0,\t reward: 1900.75,\t avg reward: 1279.0611,\t hit ratio: 26.316%,\t time: 66.18,\t total time: 9663.35,\t epsilon: 0.0991\n"
     ]
    },
    {
     "name": "stderr",
     "output_type": "stream",
     "text": [
      "Episodes:  49%|████▉     | 195/400 [2:42:34<3:12:06, 56.23s/it]"
     ]
    },
    {
     "name": "stdout",
     "output_type": "stream",
     "text": [
      "episode: 195/400,\t actions_taken: 555,\t game score: 140.0,\t reward: 397.60,\t avg reward: 1268.2393,\t hit ratio: 5.479%,\t time: 54.21,\t total time: 9717.56,\t epsilon: 0.0991\n"
     ]
    },
    {
     "name": "stderr",
     "output_type": "stream",
     "text": [
      "Episodes:  49%|████▉     | 196/400 [2:44:04<3:45:22, 66.29s/it]"
     ]
    },
    {
     "name": "stdout",
     "output_type": "stream",
     "text": [
      "episode: 196/400,\t actions_taken: 951,\t game score: 620.0,\t reward: 2083.99,\t avg reward: 1209.0515,\t hit ratio: 3.333%,\t time: 89.59,\t total time: 9807.14,\t epsilon: 0.0991\n"
     ]
    },
    {
     "name": "stderr",
     "output_type": "stream",
     "text": [
      "Episodes:  49%|████▉     | 197/400 [2:45:58<4:32:53, 80.66s/it]"
     ]
    },
    {
     "name": "stdout",
     "output_type": "stream",
     "text": [
      "episode: 197/400,\t actions_taken: 1199,\t game score: 540.0,\t reward: 2038.60,\t avg reward: 1273.8690,\t hit ratio: 1.127%,\t time: 114.00,\t total time: 9921.14,\t epsilon: 0.0991\n"
     ]
    },
    {
     "name": "stderr",
     "output_type": "stream",
     "text": [
      "Episodes:  50%|████▉     | 198/400 [2:47:07<4:19:18, 77.02s/it]"
     ]
    },
    {
     "name": "stdout",
     "output_type": "stream",
     "text": [
      "episode: 198/400,\t actions_taken: 731,\t game score: 480.0,\t reward: 819.88,\t avg reward: 1232.9416,\t hit ratio: 1.449%,\t time: 68.37,\t total time: 9989.51,\t epsilon: 0.0991\n"
     ]
    },
    {
     "name": "stderr",
     "output_type": "stream",
     "text": [
      "Episodes:  50%|████▉     | 199/400 [2:47:54<3:48:38, 68.25s/it]"
     ]
    },
    {
     "name": "stdout",
     "output_type": "stream",
     "text": [
      "episode: 199/400,\t actions_taken: 496,\t game score: 340.0,\t reward: 446.27,\t avg reward: 1099.2680,\t hit ratio: 2.767%,\t time: 47.61,\t total time: 10037.12,\t epsilon: 0.0991\n"
     ]
    },
    {
     "name": "stderr",
     "output_type": "stream",
     "text": [
      "Episodes:  50%|█████     | 200/400 [2:48:51<3:35:36, 64.68s/it]"
     ]
    },
    {
     "name": "stdout",
     "output_type": "stream",
     "text": [
      "episode: 200/400,\t actions_taken: 591,\t game score: 300.0,\t reward: 480.06,\t avg reward: 1093.4430,\t hit ratio: 1.243%,\t time: 56.17,\t total time: 10093.29,\t epsilon: 0.0991\n"
     ]
    },
    {
     "name": "stderr",
     "output_type": "stream",
     "text": [
      "Episodes:  50%|█████     | 201/400 [2:50:17<3:55:50, 71.11s/it]"
     ]
    },
    {
     "name": "stdout",
     "output_type": "stream",
     "text": [
      "episode: 201/400,\t actions_taken: 926,\t game score: 1020.0,\t reward: 1713.18,\t avg reward: 1122.3480,\t hit ratio: 3.080%,\t time: 85.93,\t total time: 10179.22,\t epsilon: 0.0991\n"
     ]
    },
    {
     "name": "stderr",
     "output_type": "stream",
     "text": [
      "Episodes:  50%|█████     | 202/400 [2:51:14<3:40:57, 66.96s/it]"
     ]
    },
    {
     "name": "stdout",
     "output_type": "stream",
     "text": [
      "episode: 202/400,\t actions_taken: 555,\t game score: 440.0,\t reward: 590.46,\t avg reward: 1098.6267,\t hit ratio: 3.289%,\t time: 57.08,\t total time: 10236.30,\t epsilon: 0.0991\n"
     ]
    },
    {
     "name": "stderr",
     "output_type": "stream",
     "text": [
      "Episodes:  51%|█████     | 203/400 [2:52:14<3:32:55, 64.85s/it]"
     ]
    },
    {
     "name": "stdout",
     "output_type": "stream",
     "text": [
      "episode: 203/400,\t actions_taken: 608,\t game score: 200.0,\t reward: 771.89,\t avg reward: 1011.2176,\t hit ratio: 1.412%,\t time: 59.77,\t total time: 10296.07,\t epsilon: 0.0991\n"
     ]
    },
    {
     "name": "stderr",
     "output_type": "stream",
     "text": [
      "Episodes:  51%|█████     | 204/400 [2:53:12<3:24:43, 62.67s/it]"
     ]
    },
    {
     "name": "stdout",
     "output_type": "stream",
     "text": [
      "episode: 204/400,\t actions_taken: 551,\t game score: 800.0,\t reward: 1328.22,\t avg reward: 1037.0466,\t hit ratio: 2.932%,\t time: 57.41,\t total time: 10353.48,\t epsilon: 0.0991\n"
     ]
    },
    {
     "name": "stderr",
     "output_type": "stream",
     "text": [
      "Episodes:  51%|█████▏    | 205/400 [2:54:25<3:34:28, 65.99s/it]"
     ]
    },
    {
     "name": "stdout",
     "output_type": "stream",
     "text": [
      "episode: 205/400,\t actions_taken: 766,\t game score: 640.0,\t reward: 3074.69,\t avg reward: 1083.8054,\t hit ratio: 5.385%,\t time: 73.56,\t total time: 10427.03,\t epsilon: 0.0991\n"
     ]
    },
    {
     "name": "stderr",
     "output_type": "stream",
     "text": [
      "Episodes:  52%|█████▏    | 206/400 [2:55:20<3:21:49, 62.42s/it]"
     ]
    },
    {
     "name": "stdout",
     "output_type": "stream",
     "text": [
      "episode: 206/400,\t actions_taken: 565,\t game score: 240.0,\t reward: 397.40,\t avg reward: 1068.1038,\t hit ratio: 1.115%,\t time: 53.91,\t total time: 10480.94,\t epsilon: 0.0991\n"
     ]
    },
    {
     "name": "stderr",
     "output_type": "stream",
     "text": [
      "Episodes:  52%|█████▏    | 207/400 [2:56:12<3:11:15, 59.46s/it]"
     ]
    },
    {
     "name": "stdout",
     "output_type": "stream",
     "text": [
      "episode: 207/400,\t actions_taken: 535,\t game score: 560.0,\t reward: 1357.76,\t avg reward: 1078.1614,\t hit ratio: 3.103%,\t time: 52.37,\t total time: 10533.31,\t epsilon: 0.0991\n"
     ]
    },
    {
     "name": "stderr",
     "output_type": "stream",
     "text": [
      "Episodes:  52%|█████▏    | 208/400 [2:57:51<3:48:16, 71.33s/it]"
     ]
    },
    {
     "name": "stdout",
     "output_type": "stream",
     "text": [
      "episode: 208/400,\t actions_taken: 1061,\t game score: 460.0,\t reward: 1498.60,\t avg reward: 1100.8554,\t hit ratio: 2.976%,\t time: 98.87,\t total time: 10632.18,\t epsilon: 0.0991\n"
     ]
    },
    {
     "name": "stderr",
     "output_type": "stream",
     "text": [
      "Episodes:  52%|█████▏    | 209/400 [2:58:54<3:38:34, 68.66s/it]"
     ]
    },
    {
     "name": "stdout",
     "output_type": "stream",
     "text": [
      "episode: 209/400,\t actions_taken: 666,\t game score: 360.0,\t reward: 1767.45,\t avg reward: 1143.2443,\t hit ratio: 1.932%,\t time: 62.25,\t total time: 10694.43,\t epsilon: 0.0991\n"
     ]
    },
    {
     "name": "stderr",
     "output_type": "stream",
     "text": [
      "Episodes:  52%|█████▎    | 210/400 [2:59:53<3:29:08, 66.04s/it]"
     ]
    },
    {
     "name": "stdout",
     "output_type": "stream",
     "text": [
      "episode: 210/400,\t actions_taken: 570,\t game score: 320.0,\t reward: 481.22,\t avg reward: 1125.7685,\t hit ratio: 1.099%,\t time: 59.75,\t total time: 10754.18,\t epsilon: 0.0991\n"
     ]
    },
    {
     "name": "stderr",
     "output_type": "stream",
     "text": [
      "Episodes:  53%|█████▎    | 211/400 [3:00:47<3:16:05, 62.25s/it]"
     ]
    },
    {
     "name": "stdout",
     "output_type": "stream",
     "text": [
      "episode: 211/400,\t actions_taken: 540,\t game score: 240.0,\t reward: 377.11,\t avg reward: 1121.4751,\t hit ratio: 0.977%,\t time: 53.22,\t total time: 10807.40,\t epsilon: 0.0991\n"
     ]
    },
    {
     "name": "stderr",
     "output_type": "stream",
     "text": [
      "Episodes:  53%|█████▎    | 212/400 [3:01:41<3:07:27, 59.83s/it]"
     ]
    },
    {
     "name": "stdout",
     "output_type": "stream",
     "text": [
      "episode: 212/400,\t actions_taken: 570,\t game score: 340.0,\t reward: 501.23,\t avg reward: 1111.6570,\t hit ratio: 1.684%,\t time: 54.00,\t total time: 10861.41,\t epsilon: 0.0991\n"
     ]
    },
    {
     "name": "stderr",
     "output_type": "stream",
     "text": [
      "Episodes:  53%|█████▎    | 213/400 [3:02:50<3:15:24, 62.70s/it]"
     ]
    },
    {
     "name": "stdout",
     "output_type": "stream",
     "text": [
      "episode: 213/400,\t actions_taken: 720,\t game score: 380.0,\t reward: 704.77,\t avg reward: 1067.5562,\t hit ratio: 1.458%,\t time: 69.21,\t total time: 10930.62,\t epsilon: 0.0991\n"
     ]
    },
    {
     "name": "stderr",
     "output_type": "stream",
     "text": [
      "Episodes:  54%|█████▎    | 214/400 [3:04:06<3:26:18, 66.55s/it]"
     ]
    },
    {
     "name": "stdout",
     "output_type": "stream",
     "text": [
      "episode: 214/400,\t actions_taken: 781,\t game score: 520.0,\t reward: 1470.19,\t avg reward: 1038.9532,\t hit ratio: 1.606%,\t time: 75.36,\t total time: 11005.98,\t epsilon: 0.0991\n"
     ]
    },
    {
     "name": "stderr",
     "output_type": "stream",
     "text": [
      "Episodes:  54%|█████▍    | 215/400 [3:05:56<4:05:40, 79.68s/it]"
     ]
    },
    {
     "name": "stdout",
     "output_type": "stream",
     "text": [
      "episode: 215/400,\t actions_taken: 1193,\t game score: 720.0,\t reward: 3175.14,\t avg reward: 1132.8443,\t hit ratio: 4.148%,\t time: 110.13,\t total time: 11116.12,\t epsilon: 0.0991\n"
     ]
    },
    {
     "name": "stderr",
     "output_type": "stream",
     "text": [
      "Episodes:  54%|█████▍    | 216/400 [3:06:54<3:44:04, 73.07s/it]"
     ]
    },
    {
     "name": "stdout",
     "output_type": "stream",
     "text": [
      "episode: 216/400,\t actions_taken: 622,\t game score: 440.0,\t reward: 649.71,\t avg reward: 1125.9653,\t hit ratio: 1.672%,\t time: 57.46,\t total time: 11173.58,\t epsilon: 0.0991\n"
     ]
    },
    {
     "name": "stderr",
     "output_type": "stream",
     "text": [
      "Episodes:  54%|█████▍    | 217/400 [3:08:09<3:44:59, 73.77s/it]"
     ]
    },
    {
     "name": "stdout",
     "output_type": "stream",
     "text": [
      "episode: 217/400,\t actions_taken: 836,\t game score: 240.0,\t reward: 748.25,\t avg reward: 1137.1751,\t hit ratio: 0.750%,\t time: 75.22,\t total time: 11248.80,\t epsilon: 0.0991\n"
     ]
    },
    {
     "name": "stderr",
     "output_type": "stream",
     "text": [
      "Episodes:  55%|█████▍    | 218/400 [3:09:14<3:35:45, 71.13s/it]"
     ]
    },
    {
     "name": "stdout",
     "output_type": "stream",
     "text": [
      "episode: 218/400,\t actions_taken: 712,\t game score: 820.0,\t reward: 1134.89,\t avg reward: 1162.7022,\t hit ratio: 1.639%,\t time: 64.79,\t total time: 11313.59,\t epsilon: 0.0991\n"
     ]
    },
    {
     "name": "stderr",
     "output_type": "stream",
     "text": [
      "Episodes:  55%|█████▍    | 219/400 [3:10:07<3:18:18, 65.74s/it]"
     ]
    },
    {
     "name": "stdout",
     "output_type": "stream",
     "text": [
      "episode: 219/400,\t actions_taken: 565,\t game score: 800.0,\t reward: 957.42,\t avg reward: 1187.1817,\t hit ratio: 3.358%,\t time: 52.99,\t total time: 11366.58,\t epsilon: 0.0991\n"
     ]
    },
    {
     "name": "stderr",
     "output_type": "stream",
     "text": [
      "Episodes:  55%|█████▌    | 220/400 [3:11:06<3:10:16, 63.43s/it]"
     ]
    },
    {
     "name": "stdout",
     "output_type": "stream",
     "text": [
      "episode: 220/400,\t actions_taken: 640,\t game score: 400.0,\t reward: 628.34,\t avg reward: 1138.2429,\t hit ratio: 3.435%,\t time: 57.85,\t total time: 11424.43,\t epsilon: 0.0991\n"
     ]
    },
    {
     "name": "stderr",
     "output_type": "stream",
     "text": [
      "Episodes:  55%|█████▌    | 221/400 [3:12:27<3:25:18, 68.82s/it]"
     ]
    },
    {
     "name": "stdout",
     "output_type": "stream",
     "text": [
      "episode: 221/400,\t actions_taken: 870,\t game score: 740.0,\t reward: 4898.67,\t avg reward: 1311.3610,\t hit ratio: 36.000%,\t time: 81.20,\t total time: 11505.63,\t epsilon: 0.0991\n",
      "episode: 222/400,\t actions_taken: 632,\t game score: 360.0,\t reward: 589.28,\t avg reward: 1253.8723,\t hit ratio: 1.950%,\t time: 58.80,\t total time: 11564.43,\t epsilon: 0.0991\n"
     ]
    },
    {
     "name": "stderr",
     "output_type": "stream",
     "text": [
      "Episodes:  56%|█████▌    | 223/400 [3:14:49<3:29:16, 70.94s/it]"
     ]
    },
    {
     "name": "stdout",
     "output_type": "stream",
     "text": [
      "episode: 223/400,\t actions_taken: 906,\t game score: 900.0,\t reward: 2067.99,\t avg reward: 1255.0026,\t hit ratio: 23.636%,\t time: 82.55,\t total time: 11646.98,\t epsilon: 0.0991\n"
     ]
    },
    {
     "name": "stderr",
     "output_type": "stream",
     "text": [
      "Episodes:  56%|█████▌    | 224/400 [3:15:43<3:13:07, 65.84s/it]"
     ]
    },
    {
     "name": "stdout",
     "output_type": "stream",
     "text": [
      "episode: 224/400,\t actions_taken: 555,\t game score: 200.0,\t reward: 388.43,\t avg reward: 1238.4084,\t hit ratio: 16.667%,\t time: 53.75,\t total time: 11700.73,\t epsilon: 0.0991\n"
     ]
    },
    {
     "name": "stderr",
     "output_type": "stream",
     "text": [
      "Episodes:  56%|█████▋    | 225/400 [3:16:34<2:59:43, 61.62s/it]"
     ]
    },
    {
     "name": "stdout",
     "output_type": "stream",
     "text": [
      "episode: 225/400,\t actions_taken: 565,\t game score: 560.0,\t reward: 1150.36,\t avg reward: 1265.4888,\t hit ratio: 1.969%,\t time: 51.61,\t total time: 11752.34,\t epsilon: 0.0991\n"
     ]
    },
    {
     "name": "stderr",
     "output_type": "stream",
     "text": [
      "Episodes:  56%|█████▋    | 226/400 [3:17:26<2:50:09, 58.67s/it]"
     ]
    },
    {
     "name": "stdout",
     "output_type": "stream",
     "text": [
      "episode: 226/400,\t actions_taken: 555,\t game score: 360.0,\t reward: 2746.93,\t avg reward: 1352.6761,\t hit ratio: 29.032%,\t time: 51.62,\t total time: 11803.96,\t epsilon: 0.0991\n"
     ]
    },
    {
     "name": "stderr",
     "output_type": "stream",
     "text": [
      "Episodes:  57%|█████▋    | 227/400 [3:18:20<2:44:41, 57.12s/it]"
     ]
    },
    {
     "name": "stdout",
     "output_type": "stream",
     "text": [
      "episode: 227/400,\t actions_taken: 560,\t game score: 280.0,\t reward: 965.37,\t avg reward: 1323.9141,\t hit ratio: 1.980%,\t time: 53.31,\t total time: 11857.28,\t epsilon: 0.0991\n"
     ]
    },
    {
     "name": "stderr",
     "output_type": "stream",
     "text": [
      "Episodes:  57%|█████▋    | 228/400 [3:19:10<2:37:45, 55.03s/it]"
     ]
    },
    {
     "name": "stdout",
     "output_type": "stream",
     "text": [
      "episode: 228/400,\t actions_taken: 525,\t game score: 360.0,\t reward: 945.59,\t avg reward: 1337.5731,\t hit ratio: 3.226%,\t time: 49.98,\t total time: 11907.26,\t epsilon: 0.0991\n"
     ]
    },
    {
     "name": "stderr",
     "output_type": "stream",
     "text": [
      "Episodes:  57%|█████▋    | 229/400 [3:20:06<2:37:22, 55.22s/it]"
     ]
    },
    {
     "name": "stdout",
     "output_type": "stream",
     "text": [
      "episode: 229/400,\t actions_taken: 592,\t game score: 360.0,\t reward: 974.27,\t avg reward: 1345.3572,\t hit ratio: 27.273%,\t time: 55.48,\t total time: 11962.73,\t epsilon: 0.0991\n"
     ]
    },
    {
     "name": "stderr",
     "output_type": "stream",
     "text": [
      "Episodes:  57%|█████▊    | 230/400 [3:21:01<2:36:18, 55.17s/it]"
     ]
    },
    {
     "name": "stdout",
     "output_type": "stream",
     "text": [
      "episode: 230/400,\t actions_taken: 565,\t game score: 200.0,\t reward: 1005.56,\t avg reward: 1332.9475,\t hit ratio: 4.819%,\t time: 54.87,\t total time: 12017.60,\t epsilon: 0.0991\n"
     ]
    },
    {
     "name": "stderr",
     "output_type": "stream",
     "text": [
      "Episodes:  58%|█████▊    | 231/400 [3:21:55<2:34:21, 54.80s/it]"
     ]
    },
    {
     "name": "stdout",
     "output_type": "stream",
     "text": [
      "episode: 231/400,\t actions_taken: 570,\t game score: 240.0,\t reward: 401.36,\t avg reward: 1230.1271,\t hit ratio: 1.567%,\t time: 53.79,\t total time: 12071.39,\t epsilon: 0.0991\n"
     ]
    },
    {
     "name": "stderr",
     "output_type": "stream",
     "text": [
      "Episodes:  58%|█████▊    | 232/400 [3:22:59<2:41:27, 57.66s/it]"
     ]
    },
    {
     "name": "stdout",
     "output_type": "stream",
     "text": [
      "episode: 232/400,\t actions_taken: 691,\t game score: 320.0,\t reward: 607.11,\t avg reward: 1238.1930,\t hit ratio: 1.062%,\t time: 64.15,\t total time: 12135.54,\t epsilon: 0.0991\n"
     ]
    },
    {
     "name": "stderr",
     "output_type": "stream",
     "text": [
      "Episodes:  58%|█████▊    | 233/400 [3:23:58<2:42:03, 58.23s/it]"
     ]
    },
    {
     "name": "stdout",
     "output_type": "stream",
     "text": [
      "episode: 233/400,\t actions_taken: 612,\t game score: 260.0,\t reward: 459.53,\t avg reward: 1203.6457,\t hit ratio: 1.230%,\t time: 59.37,\t total time: 12194.90,\t epsilon: 0.0991\n"
     ]
    },
    {
     "name": "stderr",
     "output_type": "stream",
     "text": [
      "Episodes:  58%|█████▊    | 234/400 [3:25:02<2:45:22, 59.78s/it]"
     ]
    },
    {
     "name": "stdout",
     "output_type": "stream",
     "text": [
      "episode: 234/400,\t actions_taken: 672,\t game score: 160.0,\t reward: 752.04,\t avg reward: 1174.9317,\t hit ratio: 12.500%,\t time: 63.21,\t total time: 12258.11,\t epsilon: 0.0991\n"
     ]
    },
    {
     "name": "stderr",
     "output_type": "stream",
     "text": [
      "Episodes:  59%|█████▉    | 235/400 [3:26:24<3:02:52, 66.50s/it]"
     ]
    },
    {
     "name": "stdout",
     "output_type": "stream",
     "text": [
      "episode: 235/400,\t actions_taken: 894,\t game score: 540.0,\t reward: 1251.40,\t avg reward: 1155.0836,\t hit ratio: 2.653%,\t time: 82.02,\t total time: 12340.13,\t epsilon: 0.0991\n"
     ]
    },
    {
     "name": "stderr",
     "output_type": "stream",
     "text": [
      "Episodes:  59%|█████▉    | 236/400 [3:27:26<2:58:12, 65.20s/it]"
     ]
    },
    {
     "name": "stdout",
     "output_type": "stream",
     "text": [
      "episode: 236/400,\t actions_taken: 673,\t game score: 400.0,\t reward: 1016.30,\t avg reward: 1175.6633,\t hit ratio: 20.000%,\t time: 61.97,\t total time: 12402.10,\t epsilon: 0.0991\n"
     ]
    },
    {
     "name": "stderr",
     "output_type": "stream",
     "text": [
      "Episodes:  59%|█████▉    | 237/400 [3:28:40<3:04:32, 67.93s/it]"
     ]
    },
    {
     "name": "stdout",
     "output_type": "stream",
     "text": [
      "episode: 237/400,\t actions_taken: 796,\t game score: 420.0,\t reward: 869.74,\t avg reward: 1194.6107,\t hit ratio: 1.300%,\t time: 74.14,\t total time: 12476.24,\t epsilon: 0.0991\n"
     ]
    },
    {
     "name": "stderr",
     "output_type": "stream",
     "text": [
      "Episodes:  60%|█████▉    | 238/400 [3:29:34<2:51:25, 63.49s/it]"
     ]
    },
    {
     "name": "stdout",
     "output_type": "stream",
     "text": [
      "episode: 238/400,\t actions_taken: 545,\t game score: 380.0,\t reward: 742.21,\t avg reward: 1203.8790,\t hit ratio: 3.396%,\t time: 52.96,\t total time: 12529.20,\t epsilon: 0.0991\n"
     ]
    },
    {
     "name": "stderr",
     "output_type": "stream",
     "text": [
      "Episodes:  60%|█████▉    | 239/400 [3:30:26<2:41:23, 60.14s/it]"
     ]
    },
    {
     "name": "stdout",
     "output_type": "stream",
     "text": [
      "episode: 239/400,\t actions_taken: 575,\t game score: 320.0,\t reward: 619.83,\t avg reward: 1200.6117,\t hit ratio: 6.604%,\t time: 52.15,\t total time: 12581.35,\t epsilon: 0.0991\n"
     ]
    },
    {
     "name": "stderr",
     "output_type": "stream",
     "text": [
      "Episodes:  60%|██████    | 240/400 [3:31:17<2:33:07, 57.42s/it]"
     ]
    },
    {
     "name": "stdout",
     "output_type": "stream",
     "text": [
      "episode: 240/400,\t actions_taken: 565,\t game score: 400.0,\t reward: 1346.43,\t avg reward: 1195.8515,\t hit ratio: 3.802%,\t time: 50.89,\t total time: 12632.24,\t epsilon: 0.0991\n"
     ]
    },
    {
     "name": "stderr",
     "output_type": "stream",
     "text": [
      "Episodes:  60%|██████    | 241/400 [3:32:05<2:24:56, 54.70s/it]"
     ]
    },
    {
     "name": "stdout",
     "output_type": "stream",
     "text": [
      "episode: 241/400,\t actions_taken: 504,\t game score: 880.0,\t reward: 992.24,\t avg reward: 1111.8940,\t hit ratio: 1.903%,\t time: 48.17,\t total time: 12680.41,\t epsilon: 0.0991\n"
     ]
    },
    {
     "name": "stderr",
     "output_type": "stream",
     "text": [
      "Episodes:  60%|██████    | 242/400 [3:33:00<2:23:55, 54.66s/it]"
     ]
    },
    {
     "name": "stdout",
     "output_type": "stream",
     "text": [
      "episode: 242/400,\t actions_taken: 580,\t game score: 1100.0,\t reward: 1270.82,\t avg reward: 1135.7828,\t hit ratio: 1.625%,\t time: 54.38,\t total time: 12734.79,\t epsilon: 0.0991\n"
     ]
    },
    {
     "name": "stderr",
     "output_type": "stream",
     "text": [
      "Episodes:  61%|██████    | 243/400 [3:34:12<2:36:45, 59.91s/it]"
     ]
    },
    {
     "name": "stdout",
     "output_type": "stream",
     "text": [
      "episode: 243/400,\t actions_taken: 806,\t game score: 240.0,\t reward: 738.33,\t avg reward: 1135.4012,\t hit ratio: 7.317%,\t time: 72.00,\t total time: 12806.79,\t epsilon: 0.0991\n"
     ]
    },
    {
     "name": "stderr",
     "output_type": "stream",
     "text": [
      "Episodes:  61%|██████    | 244/400 [3:35:35<2:53:47, 66.85s/it]"
     ]
    },
    {
     "name": "stdout",
     "output_type": "stream",
     "text": [
      "episode: 244/400,\t actions_taken: 919,\t game score: 320.0,\t reward: 1261.85,\t avg reward: 1140.2845,\t hit ratio: 2.909%,\t time: 82.86,\t total time: 12889.65,\t epsilon: 0.0991\n"
     ]
    },
    {
     "name": "stderr",
     "output_type": "stream",
     "text": [
      "Episodes:  61%|██████▏   | 245/400 [3:36:22<2:37:05, 60.81s/it]"
     ]
    },
    {
     "name": "stdout",
     "output_type": "stream",
     "text": [
      "episode: 245/400,\t actions_taken: 515,\t game score: 360.0,\t reward: 480.31,\t avg reward: 1121.9339,\t hit ratio: 2.559%,\t time: 46.56,\t total time: 12936.21,\t epsilon: 0.0991\n"
     ]
    },
    {
     "name": "stderr",
     "output_type": "stream",
     "text": [
      "Episodes:  62%|██████▏   | 246/400 [3:37:23<2:36:10, 60.84s/it]"
     ]
    },
    {
     "name": "stdout",
     "output_type": "stream",
     "text": [
      "episode: 246/400,\t actions_taken: 689,\t game score: 440.0,\t reward: 2992.76,\t avg reward: 1212.8730,\t hit ratio: 2.540%,\t time: 60.74,\t total time: 12996.95,\t epsilon: 0.0991\n"
     ]
    },
    {
     "name": "stderr",
     "output_type": "stream",
     "text": [
      "Episodes:  62%|██████▏   | 247/400 [3:38:20<2:32:26, 59.78s/it]"
     ]
    },
    {
     "name": "stdout",
     "output_type": "stream",
     "text": [
      "episode: 247/400,\t actions_taken: 629,\t game score: 280.0,\t reward: 1486.30,\t avg reward: 1081.6282,\t hit ratio: 4.828%,\t time: 57.12,\t total time: 13054.07,\t epsilon: 0.0991\n"
     ]
    },
    {
     "name": "stderr",
     "output_type": "stream",
     "text": [
      "Episodes:  62%|██████▏   | 248/400 [3:39:33<2:41:50, 63.89s/it]"
     ]
    },
    {
     "name": "stdout",
     "output_type": "stream",
     "text": [
      "episode: 248/400,\t actions_taken: 844,\t game score: 400.0,\t reward: 1046.89,\t avg reward: 1099.2285,\t hit ratio: 3.309%,\t time: 73.30,\t total time: 13127.37,\t epsilon: 0.0991\n"
     ]
    },
    {
     "name": "stderr",
     "output_type": "stream",
     "text": [
      "Episodes:  62%|██████▏   | 249/400 [3:40:24<2:30:56, 59.98s/it]"
     ]
    },
    {
     "name": "stdout",
     "output_type": "stream",
     "text": [
      "episode: 249/400,\t actions_taken: 555,\t game score: 380.0,\t reward: 529.73,\t avg reward: 1040.0648,\t hit ratio: 1.509%,\t time: 50.69,\t total time: 13178.06,\t epsilon: 0.0991\n"
     ]
    },
    {
     "name": "stderr",
     "output_type": "stream",
     "text": [
      "Episodes:  62%|██████▎   | 250/400 [3:41:24<2:29:31, 59.81s/it]"
     ]
    },
    {
     "name": "stdout",
     "output_type": "stream",
     "text": [
      "episode: 250/400,\t actions_taken: 656,\t game score: 260.0,\t reward: 505.71,\t avg reward: 1044.5754,\t hit ratio: 1.535%,\t time: 59.23,\t total time: 13237.29,\t epsilon: 0.0991\n"
     ]
    },
    {
     "name": "stderr",
     "output_type": "stream",
     "text": [
      "Episodes:  63%|██████▎   | 251/400 [3:42:20<2:25:33, 58.61s/it]"
     ]
    },
    {
     "name": "stdout",
     "output_type": "stream",
     "text": [
      "episode: 251/400,\t actions_taken: 648,\t game score: 420.0,\t reward: 657.16,\t avg reward: 1025.6061,\t hit ratio: 1.875%,\t time: 55.64,\t total time: 13292.93,\t epsilon: 0.0991\n"
     ]
    },
    {
     "name": "stderr",
     "output_type": "stream",
     "text": [
      "Episodes:  63%|██████▎   | 252/400 [3:43:40<2:41:03, 65.30s/it]"
     ]
    },
    {
     "name": "stdout",
     "output_type": "stream",
     "text": [
      "episode: 252/400,\t actions_taken: 907,\t game score: 580.0,\t reward: 2661.23,\t avg reward: 1022.3100,\t hit ratio: 27.083%,\t time: 80.72,\t total time: 13373.65,\t epsilon: 0.0991\n"
     ]
    },
    {
     "name": "stderr",
     "output_type": "stream",
     "text": [
      "Episodes:  63%|██████▎   | 253/400 [3:45:01<2:50:52, 69.75s/it]"
     ]
    },
    {
     "name": "stdout",
     "output_type": "stream",
     "text": [
      "episode: 253/400,\t actions_taken: 882,\t game score: 260.0,\t reward: 856.80,\t avg reward: 1018.1344,\t hit ratio: 1.238%,\t time: 79.96,\t total time: 13453.61,\t epsilon: 0.0991\n"
     ]
    },
    {
     "name": "stderr",
     "output_type": "stream",
     "text": [
      "Episodes:  64%|██████▎   | 254/400 [3:45:51<2:35:47, 64.02s/it]"
     ]
    },
    {
     "name": "stdout",
     "output_type": "stream",
     "text": [
      "episode: 254/400,\t actions_taken: 545,\t game score: 560.0,\t reward: 717.93,\t avg reward: 1009.3782,\t hit ratio: 1.689%,\t time: 50.49,\t total time: 13504.11,\t epsilon: 0.0991\n"
     ]
    },
    {
     "name": "stderr",
     "output_type": "stream",
     "text": [
      "Episodes:  64%|██████▍   | 255/400 [3:47:08<2:43:45, 67.77s/it]"
     ]
    },
    {
     "name": "stdout",
     "output_type": "stream",
     "text": [
      "episode: 255/400,\t actions_taken: 830,\t game score: 520.0,\t reward: 1025.15,\t avg reward: 1011.3350,\t hit ratio: 2.147%,\t time: 76.32,\t total time: 13580.42,\t epsilon: 0.0991\n"
     ]
    },
    {
     "name": "stderr",
     "output_type": "stream",
     "text": [
      "Episodes:  64%|██████▍   | 256/400 [3:48:03<2:33:50, 64.10s/it]"
     ]
    },
    {
     "name": "stdout",
     "output_type": "stream",
     "text": [
      "episode: 256/400,\t actions_taken: 603,\t game score: 440.0,\t reward: 630.86,\t avg reward: 996.9233,\t hit ratio: 1.724%,\t time: 55.37,\t total time: 13635.79,\t epsilon: 0.0991\n"
     ]
    },
    {
     "name": "stderr",
     "output_type": "stream",
     "text": [
      "Episodes:  64%|██████▍   | 257/400 [3:48:57<2:25:28, 61.04s/it]"
     ]
    },
    {
     "name": "stdout",
     "output_type": "stream",
     "text": [
      "episode: 257/400,\t actions_taken: 570,\t game score: 380.0,\t reward: 1182.81,\t avg reward: 1026.9791,\t hit ratio: 2.532%,\t time: 53.72,\t total time: 13689.52,\t epsilon: 0.0991\n"
     ]
    },
    {
     "name": "stderr",
     "output_type": "stream",
     "text": [
      "Episodes:  64%|██████▍   | 258/400 [3:50:22<2:41:13, 68.12s/it]"
     ]
    },
    {
     "name": "stdout",
     "output_type": "stream",
     "text": [
      "episode: 258/400,\t actions_taken: 940,\t game score: 820.0,\t reward: 1542.39,\t avg reward: 1062.9516,\t hit ratio: 1.774%,\t time: 84.46,\t total time: 13773.98,\t epsilon: 0.0991\n"
     ]
    },
    {
     "name": "stderr",
     "output_type": "stream",
     "text": [
      "Episodes:  65%|██████▍   | 259/400 [3:51:09<2:25:06, 61.75s/it]"
     ]
    },
    {
     "name": "stdout",
     "output_type": "stream",
     "text": [
      "episode: 259/400,\t actions_taken: 505,\t game score: 280.0,\t reward: 392.16,\t avg reward: 1060.3607,\t hit ratio: 2.335%,\t time: 46.69,\t total time: 13820.67,\t epsilon: 0.0991\n"
     ]
    },
    {
     "name": "stderr",
     "output_type": "stream",
     "text": [
      "Episodes:  65%|██████▌   | 260/400 [3:52:56<2:55:54, 75.39s/it]"
     ]
    },
    {
     "name": "stdout",
     "output_type": "stream",
     "text": [
      "episode: 260/400,\t actions_taken: 1199,\t game score: 580.0,\t reward: 2078.63,\t avg reward: 1111.3836,\t hit ratio: 1.873%,\t time: 107.04,\t total time: 13927.71,\t epsilon: 0.0991\n"
     ]
    },
    {
     "name": "stderr",
     "output_type": "stream",
     "text": [
      "Episodes:  65%|██████▌   | 261/400 [3:53:52<2:41:04, 69.53s/it]"
     ]
    },
    {
     "name": "stdout",
     "output_type": "stream",
     "text": [
      "episode: 261/400,\t actions_taken: 609,\t game score: 320.0,\t reward: 953.66,\t avg reward: 1099.9320,\t hit ratio: 21.875%,\t time: 55.68,\t total time: 13983.38,\t epsilon: 0.0991\n"
     ]
    },
    {
     "name": "stderr",
     "output_type": "stream",
     "text": [
      "Episodes:  66%|██████▌   | 262/400 [3:54:56<2:36:31, 68.06s/it]"
     ]
    },
    {
     "name": "stdout",
     "output_type": "stream",
     "text": [
      "episode: 262/400,\t actions_taken: 728,\t game score: 400.0,\t reward: 2449.97,\t avg reward: 1155.0731,\t hit ratio: 3.673%,\t time: 64.45,\t total time: 14047.83,\t epsilon: 0.0991\n"
     ]
    },
    {
     "name": "stderr",
     "output_type": "stream",
     "text": [
      "Episodes:  66%|██████▌   | 263/400 [3:55:57<2:30:08, 65.76s/it]"
     ]
    },
    {
     "name": "stdout",
     "output_type": "stream",
     "text": [
      "episode: 263/400,\t actions_taken: 667,\t game score: 320.0,\t reward: 578.25,\t avg reward: 1143.8621,\t hit ratio: 1.626%,\t time: 60.22,\t total time: 14108.06,\t epsilon: 0.0991\n"
     ]
    },
    {
     "name": "stderr",
     "output_type": "stream",
     "text": [
      "Episodes:  66%|██████▌   | 264/400 [3:56:55<2:24:09, 63.60s/it]"
     ]
    },
    {
     "name": "stdout",
     "output_type": "stream",
     "text": [
      "episode: 264/400,\t actions_taken: 634,\t game score: 560.0,\t reward: 5098.90,\t avg reward: 1311.4270,\t hit ratio: 8.163%,\t time: 58.39,\t total time: 14166.45,\t epsilon: 0.0991\n"
     ]
    },
    {
     "name": "stderr",
     "output_type": "stream",
     "text": [
      "Episodes:  66%|██████▋   | 265/400 [3:58:22<2:38:41, 70.53s/it]"
     ]
    },
    {
     "name": "stdout",
     "output_type": "stream",
     "text": [
      "episode: 265/400,\t actions_taken: 941,\t game score: 520.0,\t reward: 1893.84,\t avg reward: 1360.4278,\t hit ratio: 24.528%,\t time: 86.53,\t total time: 14252.97,\t epsilon: 0.0991\n"
     ]
    },
    {
     "name": "stderr",
     "output_type": "stream",
     "text": [
      "Episodes:  66%|██████▋   | 266/400 [3:59:18<2:27:31, 66.06s/it]"
     ]
    },
    {
     "name": "stdout",
     "output_type": "stream",
     "text": [
      "episode: 266/400,\t actions_taken: 609,\t game score: 180.0,\t reward: 383.38,\t avg reward: 1323.3874,\t hit ratio: 1.034%,\t time: 55.41,\t total time: 14308.38,\t epsilon: 0.0991\n"
     ]
    },
    {
     "name": "stderr",
     "output_type": "stream",
     "text": [
      "Episodes:  67%|██████▋   | 267/400 [4:00:37<2:35:15, 70.04s/it]"
     ]
    },
    {
     "name": "stdout",
     "output_type": "stream",
     "text": [
      "episode: 267/400,\t actions_taken: 895,\t game score: 1040.0,\t reward: 2815.56,\t avg reward: 1393.5150,\t hit ratio: 9.091%,\t time: 79.16,\t total time: 14387.54,\t epsilon: 0.0991\n"
     ]
    },
    {
     "name": "stderr",
     "output_type": "stream",
     "text": [
      "Episodes:  67%|██████▋   | 268/400 [4:02:04<2:45:09, 75.07s/it]"
     ]
    },
    {
     "name": "stdout",
     "output_type": "stream",
     "text": [
      "episode: 268/400,\t actions_taken: 976,\t game score: 420.0,\t reward: 1228.98,\t avg reward: 1391.9060,\t hit ratio: 1.422%,\t time: 86.64,\t total time: 14474.18,\t epsilon: 0.0991\n"
     ]
    },
    {
     "name": "stderr",
     "output_type": "stream",
     "text": [
      "Episodes:  67%|██████▋   | 269/400 [4:02:56<2:29:07, 68.30s/it]"
     ]
    },
    {
     "name": "stdout",
     "output_type": "stream",
     "text": [
      "episode: 269/400,\t actions_taken: 575,\t game score: 360.0,\t reward: 1041.20,\t avg reward: 1403.5551,\t hit ratio: 24.324%,\t time: 52.32,\t total time: 14526.50,\t epsilon: 0.0991\n"
     ]
    },
    {
     "name": "stderr",
     "output_type": "stream",
     "text": [
      "Episodes:  68%|██████▊   | 270/400 [4:03:51<2:18:51, 64.09s/it]"
     ]
    },
    {
     "name": "stdout",
     "output_type": "stream",
     "text": [
      "episode: 270/400,\t actions_taken: 550,\t game score: 360.0,\t reward: 3009.78,\t avg reward: 1470.7830,\t hit ratio: 29.630%,\t time: 54.09,\t total time: 14580.59,\t epsilon: 0.0991\n"
     ]
    },
    {
     "name": "stderr",
     "output_type": "stream",
     "text": [
      "Episodes:  68%|██████▊   | 271/400 [4:04:46<2:11:51, 61.33s/it]"
     ]
    },
    {
     "name": "stdout",
     "output_type": "stream",
     "text": [
      "episode: 271/400,\t actions_taken: 570,\t game score: 300.0,\t reward: 956.52,\t avg reward: 1489.0987,\t hit ratio: 7.955%,\t time: 54.70,\t total time: 14635.29,\t epsilon: 0.0991\n"
     ]
    },
    {
     "name": "stderr",
     "output_type": "stream",
     "text": [
      "Episodes:  68%|██████▊   | 272/400 [4:06:10<2:25:52, 68.38s/it]"
     ]
    },
    {
     "name": "stdout",
     "output_type": "stream",
     "text": [
      "episode: 272/400,\t actions_taken: 948,\t game score: 240.0,\t reward: 1003.45,\t avg reward: 1412.5868,\t hit ratio: 2.414%,\t time: 84.64,\t total time: 14719.93,\t epsilon: 0.0991\n"
     ]
    },
    {
     "name": "stderr",
     "output_type": "stream",
     "text": [
      "Episodes:  68%|██████▊   | 273/400 [4:07:04<2:15:16, 63.91s/it]"
     ]
    },
    {
     "name": "stdout",
     "output_type": "stream",
     "text": [
      "episode: 273/400,\t actions_taken: 545,\t game score: 380.0,\t reward: 542.41,\t avg reward: 1376.2832,\t hit ratio: 1.863%,\t time: 53.32,\t total time: 14773.25,\t epsilon: 0.0991\n"
     ]
    },
    {
     "name": "stderr",
     "output_type": "stream",
     "text": [
      "Episodes:  68%|██████▊   | 274/400 [4:07:59<2:08:24, 61.15s/it]"
     ]
    },
    {
     "name": "stdout",
     "output_type": "stream",
     "text": [
      "episode: 274/400,\t actions_taken: 575,\t game score: 340.0,\t reward: 1193.48,\t avg reward: 1381.9214,\t hit ratio: 7.447%,\t time: 54.52,\t total time: 14827.77,\t epsilon: 0.0991\n"
     ]
    },
    {
     "name": "stderr",
     "output_type": "stream",
     "text": [
      "Episodes:  69%|██████▉   | 275/400 [4:08:52<2:02:29, 58.80s/it]"
     ]
    },
    {
     "name": "stdout",
     "output_type": "stream",
     "text": [
      "episode: 275/400,\t actions_taken: 575,\t game score: 280.0,\t reward: 446.60,\t avg reward: 1378.7241,\t hit ratio: 1.247%,\t time: 53.13,\t total time: 14880.91,\t epsilon: 0.0991\n"
     ]
    },
    {
     "name": "stderr",
     "output_type": "stream",
     "text": [
      "Episodes:  69%|██████▉   | 276/400 [4:09:52<2:02:31, 59.29s/it]"
     ]
    },
    {
     "name": "stdout",
     "output_type": "stream",
     "text": [
      "episode: 276/400,\t actions_taken: 639,\t game score: 360.0,\t reward: 587.46,\t avg reward: 1381.8683,\t hit ratio: 1.863%,\t time: 60.24,\t total time: 14941.15,\t epsilon: 0.0991\n"
     ]
    },
    {
     "name": "stderr",
     "output_type": "stream",
     "text": [
      "Episodes:  69%|██████▉   | 277/400 [4:11:04<2:09:13, 63.04s/it]"
     ]
    },
    {
     "name": "stdout",
     "output_type": "stream",
     "text": [
      "episode: 277/400,\t actions_taken: 754,\t game score: 460.0,\t reward: 1567.96,\t avg reward: 1416.8991,\t hit ratio: 2.028%,\t time: 71.63,\t total time: 15012.78,\t epsilon: 0.0991\n"
     ]
    },
    {
     "name": "stderr",
     "output_type": "stream",
     "text": [
      "Episodes:  70%|██████▉   | 278/400 [4:12:19<2:15:25, 66.60s/it]"
     ]
    },
    {
     "name": "stdout",
     "output_type": "stream",
     "text": [
      "episode: 278/400,\t actions_taken: 800,\t game score: 380.0,\t reward: 962.81,\t avg reward: 1351.5752,\t hit ratio: 3.383%,\t time: 74.74,\t total time: 15087.52,\t epsilon: 0.0991\n"
     ]
    },
    {
     "name": "stderr",
     "output_type": "stream",
     "text": [
      "Episodes:  70%|██████▉   | 279/400 [4:13:17<2:09:06, 64.02s/it]"
     ]
    },
    {
     "name": "stdout",
     "output_type": "stream",
     "text": [
      "episode: 279/400,\t actions_taken: 615,\t game score: 500.0,\t reward: 702.65,\t avg reward: 1345.6462,\t hit ratio: 2.321%,\t time: 57.82,\t total time: 15145.34,\t epsilon: 0.0991\n"
     ]
    },
    {
     "name": "stderr",
     "output_type": "stream",
     "text": [
      "Episodes:  70%|███████   | 280/400 [4:14:47<2:23:27, 71.73s/it]"
     ]
    },
    {
     "name": "stdout",
     "output_type": "stream",
     "text": [
      "episode: 280/400,\t actions_taken: 980,\t game score: 440.0,\t reward: 1258.52,\t avg reward: 1366.4381,\t hit ratio: 1.815%,\t time: 89.53,\t total time: 15234.87,\t epsilon: 0.0991\n"
     ]
    },
    {
     "name": "stderr",
     "output_type": "stream",
     "text": [
      "Episodes:  70%|███████   | 281/400 [4:15:42<2:12:30, 66.81s/it]"
     ]
    },
    {
     "name": "stdout",
     "output_type": "stream",
     "text": [
      "episode: 281/400,\t actions_taken: 575,\t game score: 440.0,\t reward: 3666.81,\t avg reward: 1468.0403,\t hit ratio: 9.091%,\t time: 55.16,\t total time: 15290.03,\t epsilon: 0.0991\n"
     ]
    },
    {
     "name": "stderr",
     "output_type": "stream",
     "text": [
      "Episodes:  70%|███████   | 282/400 [4:16:59<2:17:08, 69.73s/it]"
     ]
    },
    {
     "name": "stdout",
     "output_type": "stream",
     "text": [
      "episode: 282/400,\t actions_taken: 826,\t game score: 240.0,\t reward: 754.64,\t avg reward: 1472.8010,\t hit ratio: 1.887%,\t time: 76.37,\t total time: 15366.40,\t epsilon: 0.0991\n"
     ]
    },
    {
     "name": "stderr",
     "output_type": "stream",
     "text": [
      "Episodes:  71%|███████   | 283/400 [4:18:24<2:24:58, 74.35s/it]"
     ]
    },
    {
     "name": "stdout",
     "output_type": "stream",
     "text": [
      "episode: 283/400,\t actions_taken: 946,\t game score: 320.0,\t reward: 1060.53,\t avg reward: 1468.0979,\t hit ratio: 1.026%,\t time: 84.94,\t total time: 15451.34,\t epsilon: 0.0991\n"
     ]
    },
    {
     "name": "stderr",
     "output_type": "stream",
     "text": [
      "Episodes:  71%|███████   | 284/400 [4:19:30<2:19:20, 72.07s/it]"
     ]
    },
    {
     "name": "stdout",
     "output_type": "stream",
     "text": [
      "episode: 284/400,\t actions_taken: 748,\t game score: 440.0,\t reward: 804.12,\t avg reward: 1439.7027,\t hit ratio: 1.400%,\t time: 66.58,\t total time: 15517.92,\t epsilon: 0.0991\n"
     ]
    },
    {
     "name": "stderr",
     "output_type": "stream",
     "text": [
      "Episodes:  71%|███████▏  | 285/400 [4:20:19<2:04:50, 65.14s/it]"
     ]
    },
    {
     "name": "stdout",
     "output_type": "stream",
     "text": [
      "episode: 285/400,\t actions_taken: 535,\t game score: 440.0,\t reward: 1455.58,\t avg reward: 1480.6034,\t hit ratio: 32.143%,\t time: 48.78,\t total time: 15566.70,\t epsilon: 0.0991\n"
     ]
    },
    {
     "name": "stderr",
     "output_type": "stream",
     "text": [
      "Episodes:  72%|███████▏  | 286/400 [4:21:10<1:55:37, 60.85s/it]"
     ]
    },
    {
     "name": "stdout",
     "output_type": "stream",
     "text": [
      "episode: 286/400,\t actions_taken: 555,\t game score: 400.0,\t reward: 552.11,\t avg reward: 1421.8908,\t hit ratio: 1.547%,\t time: 50.68,\t total time: 15617.38,\t epsilon: 0.0991\n"
     ]
    },
    {
     "name": "stderr",
     "output_type": "stream",
     "text": [
      "Episodes:  72%|███████▏  | 287/400 [4:22:14<1:56:12, 61.70s/it]"
     ]
    },
    {
     "name": "stdout",
     "output_type": "stream",
     "text": [
      "episode: 287/400,\t actions_taken: 725,\t game score: 340.0,\t reward: 775.89,\t avg reward: 1415.0533,\t hit ratio: 1.735%,\t time: 63.51,\t total time: 15680.89,\t epsilon: 0.0991\n"
     ]
    },
    {
     "name": "stderr",
     "output_type": "stream",
     "text": [
      "Episodes:  72%|███████▏  | 288/400 [4:23:37<2:07:07, 68.11s/it]"
     ]
    },
    {
     "name": "stdout",
     "output_type": "stream",
     "text": [
      "episode: 288/400,\t actions_taken: 906,\t game score: 380.0,\t reward: 1026.91,\t avg reward: 1360.3203,\t hit ratio: 1.796%,\t time: 82.88,\t total time: 15763.77,\t epsilon: 0.0991\n"
     ]
    },
    {
     "name": "stderr",
     "output_type": "stream",
     "text": [
      "Episodes:  72%|███████▏  | 289/400 [4:24:30<1:57:49, 63.69s/it]"
     ]
    },
    {
     "name": "stdout",
     "output_type": "stream",
     "text": [
      "episode: 289/400,\t actions_taken: 545,\t game score: 320.0,\t reward: 700.17,\t avg reward: 1365.0094,\t hit ratio: 9.524%,\t time: 53.20,\t total time: 15816.97,\t epsilon: 0.0991\n"
     ]
    },
    {
     "name": "stderr",
     "output_type": "stream",
     "text": [
      "Episodes:  72%|███████▎  | 290/400 [4:25:20<1:49:15, 59.59s/it]"
     ]
    },
    {
     "name": "stdout",
     "output_type": "stream",
     "text": [
      "episode: 290/400,\t actions_taken: 516,\t game score: 340.0,\t reward: 459.67,\t avg reward: 1186.5775,\t hit ratio: 1.867%,\t time: 49.86,\t total time: 15866.83,\t epsilon: 0.0991\n"
     ]
    },
    {
     "name": "stderr",
     "output_type": "stream",
     "text": [
      "Episodes:  73%|███████▎  | 291/400 [4:26:23<1:49:43, 60.40s/it]"
     ]
    },
    {
     "name": "stdout",
     "output_type": "stream",
     "text": [
      "episode: 291/400,\t actions_taken: 706,\t game score: 360.0,\t reward: 2149.87,\t avg reward: 1196.4246,\t hit ratio: 36.000%,\t time: 62.12,\t total time: 15928.95,\t epsilon: 0.0991\n"
     ]
    },
    {
     "name": "stderr",
     "output_type": "stream",
     "text": [
      "Episodes:  73%|███████▎  | 292/400 [4:28:10<2:13:56, 74.41s/it]"
     ]
    },
    {
     "name": "stdout",
     "output_type": "stream",
     "text": [
      "episode: 292/400,\t actions_taken: 1199,\t game score: 960.0,\t reward: 2463.13,\t avg reward: 1276.4151,\t hit ratio: 2.165%,\t time: 106.93,\t total time: 16035.88,\t epsilon: 0.0991\n"
     ]
    },
    {
     "name": "stderr",
     "output_type": "stream",
     "text": [
      "Episodes:  73%|███████▎  | 293/400 [4:29:01<2:00:13, 67.42s/it]"
     ]
    },
    {
     "name": "stdout",
     "output_type": "stream",
     "text": [
      "episode: 293/400,\t actions_taken: 560,\t game score: 580.0,\t reward: 733.12,\t avg reward: 1196.3212,\t hit ratio: 3.101%,\t time: 50.92,\t total time: 16086.80,\t epsilon: 0.0991\n"
     ]
    },
    {
     "name": "stderr",
     "output_type": "stream",
     "text": [
      "Episodes:  74%|███████▎  | 294/400 [4:29:43<1:45:25, 59.67s/it]"
     ]
    },
    {
     "name": "stdout",
     "output_type": "stream",
     "text": [
      "episode: 294/400,\t actions_taken: 458,\t game score: 520.0,\t reward: 603.71,\t avg reward: 1172.2723,\t hit ratio: 1.613%,\t time: 41.42,\t total time: 16128.22,\t epsilon: 0.0991\n"
     ]
    },
    {
     "name": "stderr",
     "output_type": "stream",
     "text": [
      "Episodes:  74%|███████▍  | 295/400 [4:30:39<1:42:56, 58.82s/it]"
     ]
    },
    {
     "name": "stdout",
     "output_type": "stream",
     "text": [
      "episode: 295/400,\t actions_taken: 559,\t game score: 520.0,\t reward: 2977.37,\t avg reward: 1246.7402,\t hit ratio: 36.667%,\t time: 56.66,\t total time: 16184.88,\t epsilon: 0.0991\n"
     ]
    },
    {
     "name": "stderr",
     "output_type": "stream",
     "text": [
      "Episodes:  74%|███████▍  | 296/400 [4:31:39<1:42:37, 59.21s/it]"
     ]
    },
    {
     "name": "stdout",
     "output_type": "stream",
     "text": [
      "episode: 296/400,\t actions_taken: 649,\t game score: 320.0,\t reward: 1241.75,\t avg reward: 1178.7389,\t hit ratio: 4.678%,\t time: 59.93,\t total time: 16244.81,\t epsilon: 0.0991\n"
     ]
    },
    {
     "name": "stderr",
     "output_type": "stream",
     "text": [
      "Episodes:  74%|███████▍  | 297/400 [4:32:30<1:37:25, 56.75s/it]"
     ]
    },
    {
     "name": "stdout",
     "output_type": "stream",
     "text": [
      "episode: 297/400,\t actions_taken: 541,\t game score: 480.0,\t reward: 617.90,\t avg reward: 1165.7150,\t hit ratio: 2.321%,\t time: 50.85,\t total time: 16295.66,\t epsilon: 0.0991\n"
     ]
    },
    {
     "name": "stderr",
     "output_type": "stream",
     "text": [
      "Episodes:  74%|███████▍  | 298/400 [4:33:24<1:34:39, 55.68s/it]"
     ]
    },
    {
     "name": "stdout",
     "output_type": "stream",
     "text": [
      "episode: 298/400,\t actions_taken: 539,\t game score: 600.0,\t reward: 3121.57,\t avg reward: 1247.1811,\t hit ratio: 18.333%,\t time: 52.99,\t total time: 16348.65,\t epsilon: 0.0991\n"
     ]
    },
    {
     "name": "stderr",
     "output_type": "stream",
     "text": [
      "Episodes:  75%|███████▍  | 299/400 [4:34:51<1:49:42, 65.17s/it]"
     ]
    },
    {
     "name": "stdout",
     "output_type": "stream",
     "text": [
      "episode: 299/400,\t actions_taken: 957,\t game score: 320.0,\t reward: 1082.26,\t avg reward: 1267.9445,\t hit ratio: 1.161%,\t time: 87.14,\t total time: 16435.79,\t epsilon: 0.0991\n"
     ]
    },
    {
     "name": "stderr",
     "output_type": "stream",
     "text": [
      "Episodes:  75%|███████▌  | 300/400 [4:35:57<1:48:51, 65.31s/it]"
     ]
    },
    {
     "name": "stdout",
     "output_type": "stream",
     "text": [
      "episode: 300/400,\t actions_taken: 728,\t game score: 1000.0,\t reward: 1335.72,\t avg reward: 1273.4151,\t hit ratio: 1.580%,\t time: 65.47,\t total time: 16501.25,\t epsilon: 0.0991\n"
     ]
    },
    {
     "name": "stderr",
     "output_type": "stream",
     "text": [
      "Episodes:  75%|███████▌  | 301/400 [4:37:38<2:05:38, 76.14s/it]"
     ]
    },
    {
     "name": "stdout",
     "output_type": "stream",
     "text": [
      "episode: 301/400,\t actions_taken: 1139,\t game score: 540.0,\t reward: 1824.93,\t avg reward: 1326.4277,\t hit ratio: 2.400%,\t time: 101.24,\t total time: 16602.49,\t epsilon: 0.0991\n"
     ]
    },
    {
     "name": "stderr",
     "output_type": "stream",
     "text": [
      "Episodes:  76%|███████▌  | 302/400 [4:38:28<1:51:36, 68.33s/it]"
     ]
    },
    {
     "name": "stdout",
     "output_type": "stream",
     "text": [
      "episode: 302/400,\t actions_taken: 550,\t game score: 280.0,\t reward: 1122.04,\t avg reward: 1346.9885,\t hit ratio: 2.834%,\t time: 49.94,\t total time: 16652.43,\t epsilon: 0.0991\n"
     ]
    },
    {
     "name": "stderr",
     "output_type": "stream",
     "text": [
      "Episodes:  76%|███████▌  | 303/400 [4:39:43<1:53:47, 70.39s/it]"
     ]
    },
    {
     "name": "stdout",
     "output_type": "stream",
     "text": [
      "episode: 303/400,\t actions_taken: 824,\t game score: 440.0,\t reward: 1791.17,\t avg reward: 1355.5733,\t hit ratio: 7.759%,\t time: 75.01,\t total time: 16727.44,\t epsilon: 0.0991\n"
     ]
    },
    {
     "name": "stderr",
     "output_type": "stream",
     "text": [
      "Episodes:  76%|███████▌  | 304/400 [4:40:36<1:44:16, 65.17s/it]"
     ]
    },
    {
     "name": "stdout",
     "output_type": "stream",
     "text": [
      "episode: 304/400,\t actions_taken: 575,\t game score: 600.0,\t reward: 765.50,\t avg reward: 1347.9844,\t hit ratio: 1.828%,\t time: 52.82,\t total time: 16780.26,\t epsilon: 0.0991\n"
     ]
    },
    {
     "name": "stderr",
     "output_type": "stream",
     "text": [
      "Episodes:  76%|███████▋  | 305/400 [4:41:50<1:47:26, 67.85s/it]"
     ]
    },
    {
     "name": "stdout",
     "output_type": "stream",
     "text": [
      "episode: 305/400,\t actions_taken: 802,\t game score: 260.0,\t reward: 829.77,\t avg reward: 1352.8737,\t hit ratio: 1.217%,\t time: 73.94,\t total time: 16854.20,\t epsilon: 0.0991\n"
     ]
    },
    {
     "name": "stderr",
     "output_type": "stream",
     "text": [
      "Episodes:  76%|███████▋  | 306/400 [4:43:01<1:47:29, 68.61s/it]"
     ]
    },
    {
     "name": "stdout",
     "output_type": "stream",
     "text": [
      "episode: 306/400,\t actions_taken: 774,\t game score: 400.0,\t reward: 1773.74,\t avg reward: 1372.6900,\t hit ratio: 2.807%,\t time: 70.21,\t total time: 16924.41,\t epsilon: 0.0991\n"
     ]
    },
    {
     "name": "stderr",
     "output_type": "stream",
     "text": [
      "Episodes:  77%|███████▋  | 307/400 [4:43:57<1:40:44, 65.00s/it]"
     ]
    },
    {
     "name": "stdout",
     "output_type": "stream",
     "text": [
      "episode: 307/400,\t actions_taken: 671,\t game score: 560.0,\t reward: 822.92,\t avg reward: 1263.3096,\t hit ratio: 1.270%,\t time: 56.40,\t total time: 16980.80,\t epsilon: 0.0991\n"
     ]
    },
    {
     "name": "stderr",
     "output_type": "stream",
     "text": [
      "Episodes:  77%|███████▋  | 308/400 [4:44:53<1:35:31, 62.30s/it]"
     ]
    },
    {
     "name": "stdout",
     "output_type": "stream",
     "text": [
      "episode: 308/400,\t actions_taken: 633,\t game score: 500.0,\t reward: 720.76,\t avg reward: 1262.0066,\t hit ratio: 1.843%,\t time: 55.83,\t total time: 17036.63,\t epsilon: 0.0991\n"
     ]
    },
    {
     "name": "stderr",
     "output_type": "stream",
     "text": [
      "Episodes:  77%|███████▋  | 309/400 [4:46:05<1:38:40, 65.06s/it]"
     ]
    },
    {
     "name": "stdout",
     "output_type": "stream",
     "text": [
      "episode: 309/400,\t actions_taken: 809,\t game score: 940.0,\t reward: 1740.22,\t avg reward: 1288.1485,\t hit ratio: 2.222%,\t time: 71.34,\t total time: 17107.97,\t epsilon: 0.0991\n"
     ]
    },
    {
     "name": "stderr",
     "output_type": "stream",
     "text": [
      "Episodes:  78%|███████▊  | 310/400 [4:46:55<1:30:39, 60.44s/it]"
     ]
    },
    {
     "name": "stdout",
     "output_type": "stream",
     "text": [
      "episode: 310/400,\t actions_taken: 555,\t game score: 1160.0,\t reward: 1319.81,\t avg reward: 1307.9828,\t hit ratio: 2.101%,\t time: 49.47,\t total time: 17157.44,\t epsilon: 0.0991\n"
     ]
    },
    {
     "name": "stderr",
     "output_type": "stream",
     "text": [
      "Episodes:  78%|███████▊  | 311/400 [4:47:45<1:25:19, 57.52s/it]"
     ]
    },
    {
     "name": "stdout",
     "output_type": "stream",
     "text": [
      "episode: 311/400,\t actions_taken: 545,\t game score: 360.0,\t reward: 500.96,\t avg reward: 1271.2665,\t hit ratio: 1.691%,\t time: 50.55,\t total time: 17207.99,\t epsilon: 0.0991\n"
     ]
    },
    {
     "name": "stderr",
     "output_type": "stream",
     "text": [
      "Episodes:  78%|███████▊  | 312/400 [4:48:23<1:15:36, 51.55s/it]"
     ]
    },
    {
     "name": "stdout",
     "output_type": "stream",
     "text": [
      "episode: 312/400,\t actions_taken: 431,\t game score: 260.0,\t reward: 330.62,\t avg reward: 1262.7478,\t hit ratio: 1.220%,\t time: 37.43,\t total time: 17245.42,\t epsilon: 0.0991\n"
     ]
    },
    {
     "name": "stderr",
     "output_type": "stream",
     "text": [
      "Episodes:  78%|███████▊  | 313/400 [4:49:14<1:14:23, 51.30s/it]"
     ]
    },
    {
     "name": "stdout",
     "output_type": "stream",
     "text": [
      "episode: 313/400,\t actions_taken: 555,\t game score: 440.0,\t reward: 2252.58,\t avg reward: 1319.5436,\t hit ratio: 7.895%,\t time: 50.56,\t total time: 17295.98,\t epsilon: 0.0991\n"
     ]
    },
    {
     "name": "stderr",
     "output_type": "stream",
     "text": [
      "Episodes:  78%|███████▊  | 314/400 [4:50:08<1:14:51, 52.22s/it]"
     ]
    },
    {
     "name": "stdout",
     "output_type": "stream",
     "text": [
      "episode: 314/400,\t actions_taken: 610,\t game score: 300.0,\t reward: 779.67,\t avg reward: 1310.0345,\t hit ratio: 1.944%,\t time: 54.20,\t total time: 17350.17,\t epsilon: 0.0991\n"
     ]
    },
    {
     "name": "stderr",
     "output_type": "stream",
     "text": [
      "Episodes:  79%|███████▉  | 315/400 [4:50:50<1:09:29, 49.05s/it]"
     ]
    },
    {
     "name": "stdout",
     "output_type": "stream",
     "text": [
      "episode: 315/400,\t actions_taken: 476,\t game score: 440.0,\t reward: 540.48,\t avg reward: 1303.8928,\t hit ratio: 1.770%,\t time: 41.47,\t total time: 17391.64,\t epsilon: 0.0991\n"
     ]
    },
    {
     "name": "stderr",
     "output_type": "stream",
     "text": [
      "Episodes:  79%|███████▉  | 316/400 [4:52:09<1:21:20, 58.10s/it]"
     ]
    },
    {
     "name": "stdout",
     "output_type": "stream",
     "text": [
      "episode: 316/400,\t actions_taken: 911,\t game score: 520.0,\t reward: 1177.84,\t avg reward: 1331.5150,\t hit ratio: 2.449%,\t time: 79.06,\t total time: 17470.70,\t epsilon: 0.0991\n"
     ]
    },
    {
     "name": "stderr",
     "output_type": "stream",
     "text": [
      "Episodes:  79%|███████▉  | 317/400 [4:53:48<1:37:33, 70.52s/it]"
     ]
    },
    {
     "name": "stdout",
     "output_type": "stream",
     "text": [
      "episode: 317/400,\t actions_taken: 1117,\t game score: 660.0,\t reward: 4391.52,\t avg reward: 1417.7325,\t hit ratio: 2.276%,\t time: 99.32,\t total time: 17570.02,\t epsilon: 0.0991\n"
     ]
    },
    {
     "name": "stderr",
     "output_type": "stream",
     "text": [
      "Episodes:  80%|███████▉  | 318/400 [4:54:39<1:28:11, 64.53s/it]"
     ]
    },
    {
     "name": "stdout",
     "output_type": "stream",
     "text": [
      "episode: 318/400,\t actions_taken: 575,\t game score: 220.0,\t reward: 385.82,\t avg reward: 1337.8357,\t hit ratio: 1.476%,\t time: 50.38,\t total time: 17620.39,\t epsilon: 0.0991\n"
     ]
    },
    {
     "name": "stderr",
     "output_type": "stream",
     "text": [
      "Episodes:  80%|███████▉  | 319/400 [4:55:43<1:26:48, 64.31s/it]"
     ]
    },
    {
     "name": "stdout",
     "output_type": "stream",
     "text": [
      "episode: 319/400,\t actions_taken: 748,\t game score: 520.0,\t reward: 1356.18,\t avg reward: 1361.7997,\t hit ratio: 3.042%,\t time: 63.62,\t total time: 17684.01,\t epsilon: 0.0991\n"
     ]
    },
    {
     "name": "stderr",
     "output_type": "stream",
     "text": [
      "Episodes:  80%|████████  | 320/400 [4:57:02<1:31:55, 68.95s/it]"
     ]
    },
    {
     "name": "stdout",
     "output_type": "stream",
     "text": [
      "episode: 320/400,\t actions_taken: 897,\t game score: 400.0,\t reward: 1698.10,\t avg reward: 1403.8916,\t hit ratio: 2.267%,\t time: 79.60,\t total time: 17763.61,\t epsilon: 0.0991\n"
     ]
    },
    {
     "name": "stderr",
     "output_type": "stream",
     "text": [
      "Episodes:  80%|████████  | 321/400 [4:58:38<1:41:23, 77.01s/it]"
     ]
    },
    {
     "name": "stdout",
     "output_type": "stream",
     "text": [
      "episode: 321/400,\t actions_taken: 1061,\t game score: 520.0,\t reward: 1558.76,\t avg reward: 1349.3296,\t hit ratio: 1.913%,\t time: 95.65,\t total time: 17859.26,\t epsilon: 0.0991\n"
     ]
    },
    {
     "name": "stderr",
     "output_type": "stream",
     "text": [
      "Episodes:  80%|████████  | 322/400 [4:59:31<1:30:36, 69.69s/it]"
     ]
    },
    {
     "name": "stdout",
     "output_type": "stream",
     "text": [
      "episode: 322/400,\t actions_taken: 570,\t game score: 240.0,\t reward: 401.23,\t avg reward: 1317.0020,\t hit ratio: 1.087%,\t time: 52.45,\t total time: 17911.71,\t epsilon: 0.0991\n"
     ]
    },
    {
     "name": "stderr",
     "output_type": "stream",
     "text": [
      "Episodes:  81%|████████  | 323/400 [5:00:27<1:24:23, 65.76s/it]"
     ]
    },
    {
     "name": "stdout",
     "output_type": "stream",
     "text": [
      "episode: 323/400,\t actions_taken: 635,\t game score: 380.0,\t reward: 602.86,\t avg reward: 1316.4237,\t hit ratio: 1.490%,\t time: 56.40,\t total time: 17968.11,\t epsilon: 0.0991\n"
     ]
    },
    {
     "name": "stderr",
     "output_type": "stream",
     "text": [
      "Episodes:  81%|████████  | 324/400 [5:01:18<1:17:38, 61.30s/it]"
     ]
    },
    {
     "name": "stdout",
     "output_type": "stream",
     "text": [
      "episode: 324/400,\t actions_taken: 560,\t game score: 480.0,\t reward: 632.90,\t avg reward: 1220.7059,\t hit ratio: 1.901%,\t time: 50.71,\t total time: 18018.82,\t epsilon: 0.0991\n"
     ]
    },
    {
     "name": "stderr",
     "output_type": "stream",
     "text": [
      "Episodes:  81%|████████▏ | 325/400 [5:02:09<1:12:34, 58.05s/it]"
     ]
    },
    {
     "name": "stdout",
     "output_type": "stream",
     "text": [
      "episode: 325/400,\t actions_taken: 550,\t game score: 220.0,\t reward: 364.86,\t avg reward: 1193.1139,\t hit ratio: 0.945%,\t time: 50.32,\t total time: 18069.14,\t epsilon: 0.0991\n"
     ]
    },
    {
     "name": "stderr",
     "output_type": "stream",
     "text": [
      "Episodes:  82%|████████▏ | 326/400 [5:02:50<1:05:15, 52.91s/it]"
     ]
    },
    {
     "name": "stdout",
     "output_type": "stream",
     "text": [
      "episode: 326/400,\t actions_taken: 487,\t game score: 500.0,\t reward: 600.63,\t avg reward: 1164.8412,\t hit ratio: 3.213%,\t time: 40.74,\t total time: 18109.88,\t epsilon: 0.0991\n"
     ]
    },
    {
     "name": "stderr",
     "output_type": "stream",
     "text": [
      "Episodes:  82%|████████▏ | 327/400 [5:03:43<1:04:23, 52.92s/it]"
     ]
    },
    {
     "name": "stdout",
     "output_type": "stream",
     "text": [
      "episode: 327/400,\t actions_taken: 634,\t game score: 380.0,\t reward: 601.82,\t avg reward: 1117.7987,\t hit ratio: 1.940%,\t time: 52.77,\t total time: 18162.64,\t epsilon: 0.0991\n"
     ]
    },
    {
     "name": "stderr",
     "output_type": "stream",
     "text": [
      "Episodes:  82%|████████▏ | 328/400 [5:04:40<1:05:04, 54.23s/it]"
     ]
    },
    {
     "name": "stdout",
     "output_type": "stream",
     "text": [
      "episode: 328/400,\t actions_taken: 636,\t game score: 360.0,\t reward: 1709.38,\t avg reward: 1140.3885,\t hit ratio: 22.857%,\t time: 57.12,\t total time: 18219.77,\t epsilon: 0.0991\n"
     ]
    },
    {
     "name": "stderr",
     "output_type": "stream",
     "text": [
      "Episodes:  82%|████████▏ | 329/400 [5:05:29<1:02:25, 52.76s/it]"
     ]
    },
    {
     "name": "stdout",
     "output_type": "stream",
     "text": [
      "episode: 329/400,\t actions_taken: 550,\t game score: 240.0,\t reward: 679.02,\t avg reward: 1097.6137,\t hit ratio: 20.000%,\t time: 49.14,\t total time: 18268.91,\t epsilon: 0.0991\n"
     ]
    },
    {
     "name": "stderr",
     "output_type": "stream",
     "text": [
      "Episodes:  82%|████████▎ | 330/400 [5:06:29<1:03:49, 54.70s/it]"
     ]
    },
    {
     "name": "stdout",
     "output_type": "stream",
     "text": [
      "episode: 330/400,\t actions_taken: 688,\t game score: 380.0,\t reward: 663.42,\t avg reward: 1093.6879,\t hit ratio: 1.220%,\t time: 59.06,\t total time: 18327.97,\t epsilon: 0.0991\n"
     ]
    },
    {
     "name": "stderr",
     "output_type": "stream",
     "text": [
      "Episodes:  83%|████████▎ | 331/400 [5:07:42<1:09:25, 60.37s/it]"
     ]
    },
    {
     "name": "stdout",
     "output_type": "stream",
     "text": [
      "episode: 331/400,\t actions_taken: 791,\t game score: 240.0,\t reward: 996.41,\t avg reward: 1100.0972,\t hit ratio: 2.020%,\t time: 73.41,\t total time: 18401.38,\t epsilon: 0.0991\n"
     ]
    },
    {
     "name": "stderr",
     "output_type": "stream",
     "text": [
      "Episodes:  83%|████████▎ | 332/400 [5:08:31<1:04:24, 56.83s/it]"
     ]
    },
    {
     "name": "stdout",
     "output_type": "stream",
     "text": [
      "episode: 332/400,\t actions_taken: 530,\t game score: 400.0,\t reward: 1135.36,\t avg reward: 1075.5441,\t hit ratio: 14.286%,\t time: 48.42,\t total time: 18449.79,\t epsilon: 0.0991\n"
     ]
    },
    {
     "name": "stderr",
     "output_type": "stream",
     "text": [
      "Episodes:  83%|████████▎ | 333/400 [5:09:27<1:03:24, 56.78s/it]"
     ]
    },
    {
     "name": "stdout",
     "output_type": "stream",
     "text": [
      "episode: 333/400,\t actions_taken: 640,\t game score: 420.0,\t reward: 704.72,\t avg reward: 1070.9979,\t hit ratio: 2.413%,\t time: 56.48,\t total time: 18506.28,\t epsilon: 0.0991\n"
     ]
    },
    {
     "name": "stderr",
     "output_type": "stream",
     "text": [
      "Episodes:  84%|████████▎ | 334/400 [5:10:20<1:00:55, 55.38s/it]"
     ]
    },
    {
     "name": "stdout",
     "output_type": "stream",
     "text": [
      "episode: 334/400,\t actions_taken: 540,\t game score: 600.0,\t reward: 737.11,\t avg reward: 1071.6268,\t hit ratio: 1.667%,\t time: 51.94,\t total time: 18558.22,\t epsilon: 0.0991\n"
     ]
    },
    {
     "name": "stderr",
     "output_type": "stream",
     "text": [
      "Episodes:  84%|████████▍ | 335/400 [5:11:19<1:01:18, 56.60s/it]"
     ]
    },
    {
     "name": "stdout",
     "output_type": "stream",
     "text": [
      "episode: 335/400,\t actions_taken: 653,\t game score: 680.0,\t reward: 1423.40,\t avg reward: 1059.4411,\t hit ratio: 2.233%,\t time: 59.26,\t total time: 18617.48,\t epsilon: 0.0991\n"
     ]
    },
    {
     "name": "stderr",
     "output_type": "stream",
     "text": [
      "Episodes:  84%|████████▍ | 336/400 [5:12:20<1:01:46, 57.92s/it]"
     ]
    },
    {
     "name": "stdout",
     "output_type": "stream",
     "text": [
      "episode: 336/400,\t actions_taken: 671,\t game score: 980.0,\t reward: 1332.94,\t avg reward: 1059.9461,\t hit ratio: 2.404%,\t time: 60.82,\t total time: 18678.29,\t epsilon: 0.0991\n"
     ]
    },
    {
     "name": "stderr",
     "output_type": "stream",
     "text": [
      "Episodes:  84%|████████▍ | 337/400 [5:13:03<56:08, 53.46s/it]  "
     ]
    },
    {
     "name": "stdout",
     "output_type": "stream",
     "text": [
      "episode: 337/400,\t actions_taken: 474,\t game score: 260.0,\t reward: 352.77,\t avg reward: 1054.2466,\t hit ratio: 2.419%,\t time: 42.89,\t total time: 18721.19,\t epsilon: 0.0991\n"
     ]
    },
    {
     "name": "stderr",
     "output_type": "stream",
     "text": [
      "Episodes:  84%|████████▍ | 338/400 [5:13:54<54:33, 52.81s/it]"
     ]
    },
    {
     "name": "stdout",
     "output_type": "stream",
     "text": [
      "episode: 338/400,\t actions_taken: 545,\t game score: 360.0,\t reward: 501.10,\t avg reward: 1060.8034,\t hit ratio: 3.114%,\t time: 51.09,\t total time: 18772.28,\t epsilon: 0.0991\n"
     ]
    },
    {
     "name": "stderr",
     "output_type": "stream",
     "text": [
      "Episodes:  85%|████████▍ | 339/400 [5:15:42<1:10:19, 69.17s/it]"
     ]
    },
    {
     "name": "stdout",
     "output_type": "stream",
     "text": [
      "episode: 339/400,\t actions_taken: 1199,\t game score: 920.0,\t reward: 2463.04,\t avg reward: 1068.8982,\t hit ratio: 2.628%,\t time: 107.18,\t total time: 18879.46,\t epsilon: 0.0991\n"
     ]
    },
    {
     "name": "stderr",
     "output_type": "stream",
     "text": [
      "Episodes:  85%|████████▌ | 340/400 [5:16:33<1:03:44, 63.74s/it]"
     ]
    },
    {
     "name": "stdout",
     "output_type": "stream",
     "text": [
      "episode: 340/400,\t actions_taken: 555,\t game score: 380.0,\t reward: 2006.24,\t avg reward: 1116.0739,\t hit ratio: 2.640%,\t time: 50.88,\t total time: 18930.34,\t epsilon: 0.0991\n"
     ]
    },
    {
     "name": "stderr",
     "output_type": "stream",
     "text": [
      "Episodes:  85%|████████▌ | 341/400 [5:18:13<1:13:24, 74.66s/it]"
     ]
    },
    {
     "name": "stdout",
     "output_type": "stream",
     "text": [
      "episode: 341/400,\t actions_taken: 1118,\t game score: 660.0,\t reward: 1875.05,\t avg reward: 1167.4034,\t hit ratio: 1.414%,\t time: 99.97,\t total time: 19030.30,\t epsilon: 0.0991\n"
     ]
    },
    {
     "name": "stderr",
     "output_type": "stream",
     "text": [
      "Episodes:  86%|████████▌ | 342/400 [5:19:41<1:16:04, 78.69s/it]"
     ]
    },
    {
     "name": "stdout",
     "output_type": "stream",
     "text": [
      "episode: 342/400,\t actions_taken: 994,\t game score: 280.0,\t reward: 1134.28,\t avg reward: 1165.7277,\t hit ratio: 1.087%,\t time: 87.93,\t total time: 19118.24,\t epsilon: 0.0991\n"
     ]
    },
    {
     "name": "stderr",
     "output_type": "stream",
     "text": [
      "Episodes:  86%|████████▌ | 343/400 [5:20:30<1:06:17, 69.78s/it]"
     ]
    },
    {
     "name": "stdout",
     "output_type": "stream",
     "text": [
      "episode: 343/400,\t actions_taken: 535,\t game score: 620.0,\t reward: 753.31,\t avg reward: 1025.7964,\t hit ratio: 0.973%,\t time: 48.81,\t total time: 19167.05,\t epsilon: 0.0991\n"
     ]
    },
    {
     "name": "stderr",
     "output_type": "stream",
     "text": [
      "Episodes:  86%|████████▌ | 344/400 [5:21:20<59:35, 63.84s/it]  "
     ]
    },
    {
     "name": "stdout",
     "output_type": "stream",
     "text": [
      "episode: 344/400,\t actions_taken: 545,\t game score: 340.0,\t reward: 480.98,\t avg reward: 1029.4565,\t hit ratio: 2.721%,\t time: 49.82,\t total time: 19216.86,\t epsilon: 0.0991\n"
     ]
    },
    {
     "name": "stderr",
     "output_type": "stream",
     "text": [
      "Episodes:  86%|████████▋ | 345/400 [5:23:01<1:08:48, 75.06s/it]"
     ]
    },
    {
     "name": "stdout",
     "output_type": "stream",
     "text": [
      "episode: 345/400,\t actions_taken: 1145,\t game score: 1060.0,\t reward: 2365.98,\t avg reward: 1068.2947,\t hit ratio: 2.116%,\t time: 101.06,\t total time: 19317.92,\t epsilon: 0.0991\n"
     ]
    },
    {
     "name": "stderr",
     "output_type": "stream",
     "text": [
      "Episodes:  86%|████████▋ | 346/400 [5:23:59<1:02:55, 69.91s/it]"
     ]
    },
    {
     "name": "stdout",
     "output_type": "stream",
     "text": [
      "episode: 346/400,\t actions_taken: 638,\t game score: 320.0,\t reward: 546.03,\t avg reward: 1023.9845,\t hit ratio: 1.461%,\t time: 57.72,\t total time: 19375.64,\t epsilon: 0.0991\n"
     ]
    },
    {
     "name": "stderr",
     "output_type": "stream",
     "text": [
      "Episodes:  87%|████████▋ | 347/400 [5:25:01<59:43, 67.62s/it]  "
     ]
    },
    {
     "name": "stdout",
     "output_type": "stream",
     "text": [
      "episode: 347/400,\t actions_taken: 669,\t game score: 440.0,\t reward: 1624.95,\t avg reward: 1026.5301,\t hit ratio: 2.410%,\t time: 62.09,\t total time: 19437.73,\t epsilon: 0.0991\n"
     ]
    },
    {
     "name": "stderr",
     "output_type": "stream",
     "text": [
      "Episodes:  87%|████████▋ | 348/400 [5:25:52<54:08, 62.47s/it]"
     ]
    },
    {
     "name": "stdout",
     "output_type": "stream",
     "text": [
      "episode: 348/400,\t actions_taken: 530,\t game score: 780.0,\t reward: 2603.45,\t avg reward: 1111.2308,\t hit ratio: 28.571%,\t time: 50.30,\t total time: 19488.03,\t epsilon: 0.0991\n"
     ]
    },
    {
     "name": "stderr",
     "output_type": "stream",
     "text": [
      "Episodes:  87%|████████▋ | 349/400 [5:26:46<51:05, 60.10s/it]"
     ]
    },
    {
     "name": "stdout",
     "output_type": "stream",
     "text": [
      "episode: 349/400,\t actions_taken: 608,\t game score: 200.0,\t reward: 412.26,\t avg reward: 1103.9001,\t hit ratio: 1.140%,\t time: 54.39,\t total time: 19542.41,\t epsilon: 0.0991\n"
     ]
    },
    {
     "name": "stderr",
     "output_type": "stream",
     "text": [
      "Episodes:  88%|████████▊ | 350/400 [5:27:46<50:04, 60.10s/it]"
     ]
    },
    {
     "name": "stdout",
     "output_type": "stream",
     "text": [
      "episode: 350/400,\t actions_taken: 666,\t game score: 1120.0,\t reward: 1378.31,\t avg reward: 1132.5697,\t hit ratio: 2.703%,\t time: 59.91,\t total time: 19602.33,\t epsilon: 0.0991\n"
     ]
    },
    {
     "name": "stderr",
     "output_type": "stream",
     "text": [
      "Episodes:  88%|████████▊ | 351/400 [5:28:37<46:38, 57.12s/it]"
     ]
    },
    {
     "name": "stdout",
     "output_type": "stream",
     "text": [
      "episode: 351/400,\t actions_taken: 535,\t game score: 380.0,\t reward: 513.67,\t avg reward: 1138.2932,\t hit ratio: 2.527%,\t time: 50.00,\t total time: 19652.33,\t epsilon: 0.0991\n"
     ]
    },
    {
     "name": "stderr",
     "output_type": "stream",
     "text": [
      "Episodes:  88%|████████▊ | 352/400 [5:29:13<40:44, 50.93s/it]"
     ]
    },
    {
     "name": "stdout",
     "output_type": "stream",
     "text": [
      "episode: 352/400,\t actions_taken: 421,\t game score: 420.0,\t reward: 1926.88,\t avg reward: 1189.3028,\t hit ratio: 25.000%,\t time: 36.30,\t total time: 19688.62,\t epsilon: 0.0991\n"
     ]
    },
    {
     "name": "stderr",
     "output_type": "stream",
     "text": [
      "Episodes:  88%|████████▊ | 353/400 [5:30:08<40:50, 52.13s/it]"
     ]
    },
    {
     "name": "stdout",
     "output_type": "stream",
     "text": [
      "episode: 353/400,\t actions_taken: 592,\t game score: 340.0,\t reward: 520.64,\t avg reward: 1186.1806,\t hit ratio: 3.113%,\t time: 54.76,\t total time: 19743.39,\t epsilon: 0.0991\n"
     ]
    },
    {
     "name": "stderr",
     "output_type": "stream",
     "text": [
      "Episodes:  88%|████████▊ | 354/400 [5:30:55<38:52, 50.70s/it]"
     ]
    },
    {
     "name": "stdout",
     "output_type": "stream",
     "text": [
      "episode: 354/400,\t actions_taken: 509,\t game score: 320.0,\t reward: 1093.33,\t avg reward: 1162.4864,\t hit ratio: 26.667%,\t time: 47.18,\t total time: 19790.57,\t epsilon: 0.0991\n"
     ]
    },
    {
     "name": "stderr",
     "output_type": "stream",
     "text": [
      "Episodes:  89%|████████▉ | 355/400 [5:32:36<49:17, 65.73s/it]"
     ]
    },
    {
     "name": "stdout",
     "output_type": "stream",
     "text": [
      "episode: 355/400,\t actions_taken: 1081,\t game score: 580.0,\t reward: 2737.64,\t avg reward: 1241.6639,\t hit ratio: 5.517%,\t time: 100.62,\t total time: 19891.19,\t epsilon: 0.0991\n"
     ]
    },
    {
     "name": "stderr",
     "output_type": "stream",
     "text": [
      "Episodes:  89%|████████▉ | 356/400 [5:33:38<47:26, 64.69s/it]"
     ]
    },
    {
     "name": "stdout",
     "output_type": "stream",
     "text": [
      "episode: 356/400,\t actions_taken: 634,\t game score: 420.0,\t reward: 641.85,\t avg reward: 1240.8343,\t hit ratio: 3.529%,\t time: 62.09,\t total time: 19953.28,\t epsilon: 0.0991\n"
     ]
    },
    {
     "name": "stderr",
     "output_type": "stream",
     "text": [
      "Episodes:  89%|████████▉ | 357/400 [5:34:34<44:28, 62.07s/it]"
     ]
    },
    {
     "name": "stdout",
     "output_type": "stream",
     "text": [
      "episode: 357/400,\t actions_taken: 570,\t game score: 260.0,\t reward: 578.16,\t avg reward: 1224.7478,\t hit ratio: 5.814%,\t time: 55.76,\t total time: 20009.04,\t epsilon: 0.0991\n"
     ]
    },
    {
     "name": "stderr",
     "output_type": "stream",
     "text": [
      "Episodes:  90%|████████▉ | 358/400 [5:35:44<44:59, 64.27s/it]"
     ]
    },
    {
     "name": "stdout",
     "output_type": "stream",
     "text": [
      "episode: 358/400,\t actions_taken: 739,\t game score: 540.0,\t reward: 891.15,\t avg reward: 1215.3552,\t hit ratio: 2.000%,\t time: 69.23,\t total time: 20078.26,\t epsilon: 0.0991\n"
     ]
    },
    {
     "name": "stderr",
     "output_type": "stream",
     "text": [
      "Episodes:  90%|████████▉ | 359/400 [5:36:37<41:33, 60.81s/it]"
     ]
    },
    {
     "name": "stdout",
     "output_type": "stream",
     "text": [
      "episode: 359/400,\t actions_taken: 535,\t game score: 400.0,\t reward: 1528.35,\t avg reward: 1247.0334,\t hit ratio: 3.103%,\t time: 52.56,\t total time: 20130.82,\t epsilon: 0.0991\n"
     ]
    },
    {
     "name": "stderr",
     "output_type": "stream",
     "text": [
      "Episodes:  90%|█████████ | 360/400 [5:37:15<36:07, 54.20s/it]"
     ]
    },
    {
     "name": "stdout",
     "output_type": "stream",
     "text": [
      "episode: 360/400,\t actions_taken: 436,\t game score: 400.0,\t reward: 1074.02,\t avg reward: 1259.9915,\t hit ratio: 31.034%,\t time: 38.59,\t total time: 20169.41,\t epsilon: 0.0991\n"
     ]
    },
    {
     "name": "stderr",
     "output_type": "stream",
     "text": [
      "Episodes:  90%|█████████ | 361/400 [5:38:11<35:35, 54.77s/it]"
     ]
    },
    {
     "name": "stdout",
     "output_type": "stream",
     "text": [
      "episode: 361/400,\t actions_taken: 624,\t game score: 200.0,\t reward: 411.49,\t avg reward: 1221.0719,\t hit ratio: 1.240%,\t time: 55.93,\t total time: 20225.34,\t epsilon: 0.0991\n"
     ]
    },
    {
     "name": "stderr",
     "output_type": "stream",
     "text": [
      "Episodes:  90%|█████████ | 362/400 [5:39:12<35:45, 56.46s/it]"
     ]
    },
    {
     "name": "stdout",
     "output_type": "stream",
     "text": [
      "episode: 362/400,\t actions_taken: 659,\t game score: 400.0,\t reward: 1148.45,\t avg reward: 1213.9763,\t hit ratio: 5.056%,\t time: 60.23,\t total time: 20285.57,\t epsilon: 0.0991\n"
     ]
    },
    {
     "name": "stderr",
     "output_type": "stream",
     "text": [
      "Episodes:  91%|█████████ | 363/400 [5:40:02<33:36, 54.51s/it]"
     ]
    },
    {
     "name": "stdout",
     "output_type": "stream",
     "text": [
      "episode: 363/400,\t actions_taken: 545,\t game score: 820.0,\t reward: 961.24,\t avg reward: 1237.3791,\t hit ratio: 2.340%,\t time: 49.79,\t total time: 20335.36,\t epsilon: 0.0991\n"
     ]
    },
    {
     "name": "stderr",
     "output_type": "stream",
     "text": [
      "Episodes:  91%|█████████ | 364/400 [5:40:51<31:48, 53.02s/it]"
     ]
    },
    {
     "name": "stdout",
     "output_type": "stream",
     "text": [
      "episode: 364/400,\t actions_taken: 550,\t game score: 520.0,\t reward: 664.86,\t avg reward: 1243.6776,\t hit ratio: 1.477%,\t time: 49.36,\t total time: 20384.72,\t epsilon: 0.0991\n"
     ]
    },
    {
     "name": "stderr",
     "output_type": "stream",
     "text": [
      "Episodes:  91%|█████████▏| 365/400 [5:42:10<35:25, 60.74s/it]"
     ]
    },
    {
     "name": "stdout",
     "output_type": "stream",
     "text": [
      "episode: 365/400,\t actions_taken: 875,\t game score: 420.0,\t reward: 1007.02,\t avg reward: 1187.6765,\t hit ratio: 1.809%,\t time: 78.57,\t total time: 20463.29,\t epsilon: 0.0991\n"
     ]
    },
    {
     "name": "stderr",
     "output_type": "stream",
     "text": [
      "Episodes:  92%|█████████▏| 366/400 [5:43:06<33:31, 59.15s/it]"
     ]
    },
    {
     "name": "stdout",
     "output_type": "stream",
     "text": [
      "episode: 366/400,\t actions_taken: 593,\t game score: 320.0,\t reward: 501.63,\t avg reward: 1129.8069,\t hit ratio: 1.656%,\t time: 55.27,\t total time: 20518.55,\t epsilon: 0.0991\n"
     ]
    },
    {
     "name": "stderr",
     "output_type": "stream",
     "text": [
      "Episodes:  92%|█████████▏| 367/400 [5:44:14<34:09, 62.09s/it]"
     ]
    },
    {
     "name": "stdout",
     "output_type": "stream",
     "text": [
      "episode: 367/400,\t actions_taken: 760,\t game score: 440.0,\t reward: 1019.13,\t avg reward: 1096.8870,\t hit ratio: 2.058%,\t time: 68.79,\t total time: 20587.34,\t epsilon: 0.0991\n"
     ]
    },
    {
     "name": "stderr",
     "output_type": "stream",
     "text": [
      "Episodes:  92%|█████████▏| 368/400 [5:45:05<31:18, 58.70s/it]"
     ]
    },
    {
     "name": "stdout",
     "output_type": "stream",
     "text": [
      "episode: 368/400,\t actions_taken: 550,\t game score: 420.0,\t reward: 1253.47,\t avg reward: 1101.4714,\t hit ratio: 28.125%,\t time: 50.62,\t total time: 20637.96,\t epsilon: 0.0991\n"
     ]
    },
    {
     "name": "stderr",
     "output_type": "stream",
     "text": [
      "Episodes:  92%|█████████▏| 369/400 [5:46:16<32:11, 62.32s/it]"
     ]
    },
    {
     "name": "stdout",
     "output_type": "stream",
     "text": [
      "episode: 369/400,\t actions_taken: 782,\t game score: 440.0,\t reward: 856.04,\t avg reward: 1105.4225,\t hit ratio: 1.357%,\t time: 70.58,\t total time: 20708.54,\t epsilon: 0.0991\n"
     ]
    },
    {
     "name": "stderr",
     "output_type": "stream",
     "text": [
      "Episodes:  92%|█████████▎| 370/400 [5:47:57<36:58, 73.94s/it]"
     ]
    },
    {
     "name": "stdout",
     "output_type": "stream",
     "text": [
      "episode: 370/400,\t actions_taken: 1199,\t game score: 1020.0,\t reward: 4878.54,\t avg reward: 1274.5595,\t hit ratio: 3.632%,\t time: 100.90,\t total time: 20809.44,\t epsilon: 0.0991\n"
     ]
    },
    {
     "name": "stderr",
     "output_type": "stream",
     "text": [
      "Episodes:  93%|█████████▎| 371/400 [5:49:39<39:46, 82.29s/it]"
     ]
    },
    {
     "name": "stdout",
     "output_type": "stream",
     "text": [
      "episode: 371/400,\t actions_taken: 1199,\t game score: 560.0,\t reward: 2618.31,\t avg reward: 1284.2647,\t hit ratio: 4.965%,\t time: 101.61,\t total time: 20911.05,\t epsilon: 0.0991\n"
     ]
    },
    {
     "name": "stderr",
     "output_type": "stream",
     "text": [
      "Episodes:  93%|█████████▎| 372/400 [5:50:30<34:04, 73.03s/it]"
     ]
    },
    {
     "name": "stdout",
     "output_type": "stream",
     "text": [
      "episode: 372/400,\t actions_taken: 565,\t game score: 480.0,\t reward: 637.04,\t avg reward: 1287.7649,\t hit ratio: 1.507%,\t time: 51.24,\t total time: 20962.29,\t epsilon: 0.0991\n"
     ]
    },
    {
     "name": "stderr",
     "output_type": "stream",
     "text": [
      "Episodes:  93%|█████████▎| 373/400 [5:51:20<29:46, 66.17s/it]"
     ]
    },
    {
     "name": "stdout",
     "output_type": "stream",
     "text": [
      "episode: 373/400,\t actions_taken: 540,\t game score: 340.0,\t reward: 477.66,\t avg reward: 1243.6383,\t hit ratio: 3.226%,\t time: 49.99,\t total time: 21012.28,\t epsilon: 0.0991\n"
     ]
    },
    {
     "name": "stderr",
     "output_type": "stream",
     "text": [
      "Episodes:  94%|█████████▎| 374/400 [5:52:19<27:39, 63.83s/it]"
     ]
    },
    {
     "name": "stdout",
     "output_type": "stream",
     "text": [
      "episode: 374/400,\t actions_taken: 651,\t game score: 680.0,\t reward: 1447.53,\t avg reward: 1199.1800,\t hit ratio: 2.250%,\t time: 58.20,\t total time: 21070.48,\t epsilon: 0.0991\n"
     ]
    },
    {
     "name": "stderr",
     "output_type": "stream",
     "text": [
      "Episodes:  94%|█████████▍| 375/400 [5:53:16<25:49, 61.98s/it]"
     ]
    },
    {
     "name": "stdout",
     "output_type": "stream",
     "text": [
      "episode: 375/400,\t actions_taken: 616,\t game score: 120.0,\t reward: 323.47,\t avg reward: 1195.7648,\t hit ratio: 0.830%,\t time: 57.46,\t total time: 21127.93,\t epsilon: 0.0991\n"
     ]
    },
    {
     "name": "stderr",
     "output_type": "stream",
     "text": [
      "Episodes:  94%|█████████▍| 376/400 [5:54:06<23:15, 58.14s/it]"
     ]
    },
    {
     "name": "stdout",
     "output_type": "stream",
     "text": [
      "episode: 376/400,\t actions_taken: 535,\t game score: 360.0,\t reward: 1000.75,\t avg reward: 1181.2431,\t hit ratio: 23.333%,\t time: 49.00,\t total time: 21176.93,\t epsilon: 0.0991\n"
     ]
    },
    {
     "name": "stderr",
     "output_type": "stream",
     "text": [
      "Episodes:  94%|█████████▍| 377/400 [5:55:05<22:23, 58.42s/it]"
     ]
    },
    {
     "name": "stdout",
     "output_type": "stream",
     "text": [
      "episode: 377/400,\t actions_taken: 688,\t game score: 220.0,\t reward: 503.51,\t avg reward: 1180.8523,\t hit ratio: 2.177%,\t time: 58.89,\t total time: 21235.83,\t epsilon: 0.0991\n"
     ]
    },
    {
     "name": "stderr",
     "output_type": "stream",
     "text": [
      "Episodes:  94%|█████████▍| 378/400 [5:55:55<20:31, 55.99s/it]"
     ]
    },
    {
     "name": "stdout",
     "output_type": "stream",
     "text": [
      "episode: 378/400,\t actions_taken: 540,\t game score: 840.0,\t reward: 3339.38,\t avg reward: 1235.1792,\t hit ratio: 3.780%,\t time: 50.17,\t total time: 21285.99,\t epsilon: 0.0991\n"
     ]
    },
    {
     "name": "stderr",
     "output_type": "stream",
     "text": [
      "Episodes:  95%|█████████▍| 379/400 [5:57:00<20:33, 58.73s/it]"
     ]
    },
    {
     "name": "stdout",
     "output_type": "stream",
     "text": [
      "episode: 379/400,\t actions_taken: 735,\t game score: 460.0,\t reward: 805.63,\t avg reward: 1246.1403,\t hit ratio: 2.316%,\t time: 64.95,\t total time: 21350.94,\t epsilon: 0.0991\n"
     ]
    },
    {
     "name": "stderr",
     "output_type": "stream",
     "text": [
      "Episodes:  95%|█████████▌| 380/400 [5:57:52<18:52, 56.60s/it]"
     ]
    },
    {
     "name": "stdout",
     "output_type": "stream",
     "text": [
      "episode: 380/400,\t actions_taken: 565,\t game score: 560.0,\t reward: 1061.90,\t avg reward: 1244.9315,\t hit ratio: 21.739%,\t time: 51.46,\t total time: 21402.40,\t epsilon: 0.0991\n"
     ]
    },
    {
     "name": "stderr",
     "output_type": "stream",
     "text": [
      "Episodes:  95%|█████████▌| 381/400 [5:58:44<17:27, 55.14s/it]"
     ]
    },
    {
     "name": "stdout",
     "output_type": "stream",
     "text": [
      "episode: 381/400,\t actions_taken: 570,\t game score: 240.0,\t reward: 556.45,\t avg reward: 1161.0395,\t hit ratio: 1.923%,\t time: 51.57,\t total time: 21453.97,\t epsilon: 0.0991\n"
     ]
    },
    {
     "name": "stderr",
     "output_type": "stream",
     "text": [
      "Episodes:  96%|█████████▌| 382/400 [5:59:52<17:44, 59.16s/it]"
     ]
    },
    {
     "name": "stdout",
     "output_type": "stream",
     "text": [
      "episode: 382/400,\t actions_taken: 755,\t game score: 520.0,\t reward: 896.11,\t avg reward: 1170.8184,\t hit ratio: 3.061%,\t time: 68.35,\t total time: 21522.33,\t epsilon: 0.0991\n"
     ]
    },
    {
     "name": "stderr",
     "output_type": "stream",
     "text": [
      "Episodes:  96%|█████████▌| 383/400 [6:00:43<16:01, 56.55s/it]"
     ]
    },
    {
     "name": "stdout",
     "output_type": "stream",
     "text": [
      "episode: 383/400,\t actions_taken: 575,\t game score: 680.0,\t reward: 1118.30,\t avg reward: 1191.5927,\t hit ratio: 2.786%,\t time: 50.30,\t total time: 21572.62,\t epsilon: 0.0991\n"
     ]
    },
    {
     "name": "stderr",
     "output_type": "stream",
     "text": [
      "Episodes:  96%|█████████▌| 384/400 [6:01:41<15:12, 57.04s/it]"
     ]
    },
    {
     "name": "stdout",
     "output_type": "stream",
     "text": [
      "episode: 384/400,\t actions_taken: 664,\t game score: 300.0,\t reward: 597.13,\t avg reward: 1180.2842,\t hit ratio: 2.642%,\t time: 58.00,\t total time: 21630.63,\t epsilon: 0.0991\n"
     ]
    },
    {
     "name": "stderr",
     "output_type": "stream",
     "text": [
      "Episodes:  96%|█████████▋| 385/400 [6:02:43<14:38, 58.59s/it]"
     ]
    },
    {
     "name": "stdout",
     "output_type": "stream",
     "text": [
      "episode: 385/400,\t actions_taken: 735,\t game score: 400.0,\t reward: 745.61,\t avg reward: 1150.1789,\t hit ratio: 2.141%,\t time: 62.02,\t total time: 21692.64,\t epsilon: 0.0991\n"
     ]
    },
    {
     "name": "stderr",
     "output_type": "stream",
     "text": [
      "Episodes:  96%|█████████▋| 386/400 [6:03:32<13:01, 55.86s/it]"
     ]
    },
    {
     "name": "stdout",
     "output_type": "stream",
     "text": [
      "episode: 386/400,\t actions_taken: 575,\t game score: 280.0,\t reward: 445.74,\t avg reward: 1126.0143,\t hit ratio: 1.572%,\t time: 49.31,\t total time: 21741.95,\t epsilon: 0.0991\n"
     ]
    },
    {
     "name": "stderr",
     "output_type": "stream",
     "text": [
      "Episodes:  97%|█████████▋| 387/400 [6:04:28<12:04, 55.73s/it]"
     ]
    },
    {
     "name": "stdout",
     "output_type": "stream",
     "text": [
      "episode: 387/400,\t actions_taken: 645,\t game score: 440.0,\t reward: 868.22,\t avg reward: 1143.5807,\t hit ratio: 3.629%,\t time: 55.26,\t total time: 21797.21,\t epsilon: 0.0991\n"
     ]
    },
    {
     "name": "stderr",
     "output_type": "stream",
     "text": [
      "Episodes:  97%|█████████▋| 388/400 [6:05:18<10:49, 54.14s/it]"
     ]
    },
    {
     "name": "stdout",
     "output_type": "stream",
     "text": [
      "episode: 388/400,\t actions_taken: 585,\t game score: 580.0,\t reward: 754.41,\t avg reward: 1128.4254,\t hit ratio: 2.736%,\t time: 50.26,\t total time: 21847.47,\t epsilon: 0.0991\n"
     ]
    },
    {
     "name": "stderr",
     "output_type": "stream",
     "text": [
      "Episodes:  97%|█████████▋| 389/400 [6:06:07<09:38, 52.56s/it]"
     ]
    },
    {
     "name": "stdout",
     "output_type": "stream",
     "text": [
      "episode: 389/400,\t actions_taken: 565,\t game score: 540.0,\t reward: 1395.75,\t avg reward: 1145.1371,\t hit ratio: 11.236%,\t time: 48.71,\t total time: 21896.18,\t epsilon: 0.0991\n"
     ]
    },
    {
     "name": "stderr",
     "output_type": "stream",
     "text": [
      "Episodes:  98%|█████████▊| 390/400 [6:06:57<08:36, 51.69s/it]"
     ]
    },
    {
     "name": "stdout",
     "output_type": "stream",
     "text": [
      "episode: 390/400,\t actions_taken: 565,\t game score: 200.0,\t reward: 357.45,\t avg reward: 1133.3138,\t hit ratio: 2.390%,\t time: 49.50,\t total time: 21945.68,\t epsilon: 0.0991\n"
     ]
    },
    {
     "name": "stderr",
     "output_type": "stream",
     "text": [
      "Episodes:  98%|█████████▊| 391/400 [6:08:24<09:21, 62.35s/it]"
     ]
    },
    {
     "name": "stdout",
     "output_type": "stream",
     "text": [
      "episode: 391/400,\t actions_taken: 1008,\t game score: 60.0,\t reward: 950.70,\t avg reward: 1131.1478,\t hit ratio: 1.223%,\t time: 87.05,\t total time: 22032.73,\t epsilon: 0.0991\n"
     ]
    },
    {
     "name": "stderr",
     "output_type": "stream",
     "text": [
      "Episodes:  98%|█████████▊| 392/400 [6:09:29<08:24, 63.00s/it]"
     ]
    },
    {
     "name": "stdout",
     "output_type": "stream",
     "text": [
      "episode: 392/400,\t actions_taken: 759,\t game score: 320.0,\t reward: 1282.60,\t avg reward: 1161.1854,\t hit ratio: 3.053%,\t time: 64.34,\t total time: 22097.07,\t epsilon: 0.0991\n"
     ]
    },
    {
     "name": "stderr",
     "output_type": "stream",
     "text": [
      "Episodes:  98%|█████████▊| 393/400 [6:10:22<07:00, 60.14s/it]"
     ]
    },
    {
     "name": "stdout",
     "output_type": "stream",
     "text": [
      "episode: 393/400,\t actions_taken: 621,\t game score: 280.0,\t reward: 488.45,\t avg reward: 1140.7744,\t hit ratio: 1.015%,\t time: 53.29,\t total time: 22150.37,\t epsilon: 0.0991\n"
     ]
    },
    {
     "name": "stderr",
     "output_type": "stream",
     "text": [
      "Episodes:  98%|█████████▊| 394/400 [6:10:59<05:19, 53.26s/it]"
     ]
    },
    {
     "name": "stdout",
     "output_type": "stream",
     "text": [
      "episode: 394/400,\t actions_taken: 436,\t game score: 460.0,\t reward: 532.42,\t avg reward: 1113.0418,\t hit ratio: 4.049%,\t time: 37.03,\t total time: 22187.39,\t epsilon: 0.0991\n"
     ]
    },
    {
     "name": "stderr",
     "output_type": "stream",
     "text": [
      "Episodes:  99%|█████████▉| 395/400 [6:11:49<04:20, 52.18s/it]"
     ]
    },
    {
     "name": "stdout",
     "output_type": "stream",
     "text": [
      "episode: 395/400,\t actions_taken: 565,\t game score: 360.0,\t reward: 517.25,\t avg reward: 1100.0115,\t hit ratio: 1.676%,\t time: 49.48,\t total time: 22236.87,\t epsilon: 0.0991\n"
     ]
    },
    {
     "name": "stderr",
     "output_type": "stream",
     "text": [
      "Episodes:  99%|█████████▉| 396/400 [6:12:41<03:28, 52.19s/it]"
     ]
    },
    {
     "name": "stdout",
     "output_type": "stream",
     "text": [
      "episode: 396/400,\t actions_taken: 597,\t game score: 540.0,\t reward: 763.14,\t avg reward: 941.7270,\t hit ratio: 1.198%,\t time: 52.03,\t total time: 22288.90,\t epsilon: 0.0991\n"
     ]
    },
    {
     "name": "stderr",
     "output_type": "stream",
     "text": [
      "Episodes:  99%|█████████▉| 397/400 [6:13:32<02:35, 51.80s/it]"
     ]
    },
    {
     "name": "stdout",
     "output_type": "stream",
     "text": [
      "episode: 397/400,\t actions_taken: 575,\t game score: 460.0,\t reward: 625.62,\t avg reward: 865.0851,\t hit ratio: 4.000%,\t time: 50.72,\t total time: 22339.63,\t epsilon: 0.0991\n"
     ]
    },
    {
     "name": "stderr",
     "output_type": "stream",
     "text": [
      "Episodes: 100%|█████████▉| 398/400 [6:14:21<01:41, 50.98s/it]"
     ]
    },
    {
     "name": "stdout",
     "output_type": "stream",
     "text": [
      "episode: 398/400,\t actions_taken: 570,\t game score: 460.0,\t reward: 1782.00,\t avg reward: 909.1223,\t hit ratio: 3.937%,\t time: 48.90,\t total time: 22388.52,\t epsilon: 0.0991\n"
     ]
    },
    {
     "name": "stderr",
     "output_type": "stream",
     "text": [
      "Episodes: 100%|█████████▉| 399/400 [6:15:27<00:55, 55.54s/it]"
     ]
    },
    {
     "name": "stdout",
     "output_type": "stream",
     "text": [
      "episode: 399/400,\t actions_taken: 759,\t game score: 900.0,\t reward: 1280.65,\t avg reward: 940.0067,\t hit ratio: 3.650%,\t time: 66.01,\t total time: 22454.53,\t epsilon: 0.0991\n"
     ]
    },
    {
     "name": "stderr",
     "output_type": "stream",
     "text": [
      "Episodes: 100%|██████████| 400/400 [6:16:19<00:00, 56.45s/it]"
     ]
    },
    {
     "name": "stdout",
     "output_type": "stream",
     "text": [
      "episode: 400/400,\t actions_taken: 594,\t game score: 400.0,\t reward: 3694.07,\t avg reward: 1026.4118,\t hit ratio: 8.772%,\t time: 51.25,\t total time: 22505.78,\t epsilon: 0.0991\n"
     ]
    },
    {
     "name": "stderr",
     "output_type": "stream",
     "text": [
      "\n"
     ]
    }
   ],
   "source": [
    "import random\n",
    "import gymnasium as gym\n",
    "import numpy as np\n",
    "from collections import deque\n",
    "import tensorflow as tf\n",
    "from keras.models import Sequential\n",
    "from keras.layers import Dense, Activation, Flatten, Conv2D, MaxPooling2D, Input\n",
    "from time import time\n",
    "import datetime\n",
    "import cv2\n",
    "import os\n",
    "from tqdm import tqdm\n",
    "\n",
    "tf.get_logger().setLevel('ERROR')\n",
    "os.environ['TF_CPP_MIN_LOG_LEVEL'] = '3'\n",
    "\n",
    "state_size = (96, 80, 1)\n",
    "\n",
    "class DQN_Agent:\n",
    "    # Initializes attributes and constructs CNN model and target_model\n",
    "    def __init__(self, state_size, action_size):\n",
    "        self.state_size = state_size\n",
    "        self.action_size = action_size\n",
    "        self.memory = deque(maxlen=8000)  # Replay memory\n",
    "\n",
    "        # Hyperparameters\n",
    "        self.gamma = 0.95  # Discount rate, how much is future reward worth\n",
    "        self.epsilon = 0.99  # Exploration rate\n",
    "        self.epsilon_min = 0.1  # Minimal exploration rate (epsilon-greedy)\n",
    "        self.epsilon_decay = 0.99  # Decay rate for epsilon per episode\n",
    "        self.update_rate = 4  # Number of steps until updating the target network\n",
    "\n",
    "        # CNN Hyperparameters\n",
    "        self.learning_rate = 0.02\n",
    "        self.loss = tf.compat.v1.losses.huber_loss \n",
    "        self.optimizer = tf.keras.optimizers.RMSprop(\n",
    "            learning_rate=self.learning_rate,\n",
    "            rho=0.5,  # Parameter to consider historic learning to make training more stable\n",
    "            momentum=0.1,  # Parameter to stronger update gradients going several episodes into the same direction\n",
    "            epsilon=0.00001,\n",
    "            centered=True\n",
    "        )\n",
    "# # Alternative optimizer tested in several runs\n",
    "#         self.optimizer = tf.keras.optimizers.Adam(\n",
    "#             learning_rate=self.learning_rate,\n",
    "#             beta_1=0.8,\n",
    "#             beta_2=0.99,\n",
    "#             epsilon=1e-07\n",
    "#         )\n",
    "\n",
    "        # Construct DQN models\n",
    "        self.model = self._build_model()\n",
    "        self.target_model = self._build_model()\n",
    "        self.target_model.set_weights(self.model.get_weights())\n",
    "        self.model.summary()\n",
    "\n",
    "    # Constructs CNN\n",
    "    def _build_model(self):\n",
    "        model = Sequential()\n",
    "\n",
    "        model.add(Input(shape=self.state_size))\n",
    "        # Convolutional Layers\n",
    "        # The first number is the output depth. The tuples are kernel size.\n",
    "        model.add(Conv2D(32, (8, 8), strides=4, padding='same', activation='relu'))\n",
    "        model.add(Conv2D(64, (4, 4), strides=2, padding='same', activation='relu'))\n",
    "        model.add(Conv2D(64, (3, 3), strides=1, padding='same', activation='relu'))\n",
    "        model.add(Flatten())\n",
    "\n",
    "        # Fully Connected Layers\n",
    "        model.add(Dense(512, activation='relu'))\n",
    "        model.add(Dense(self.action_size, activation='linear'))\n",
    "        model.add(Flatten())\n",
    "        model.compile(loss=self.loss, optimizer=self.optimizer)\n",
    "        return model\n",
    "\n",
    "    # Stores experience in replay memory\n",
    "    def remember(self, state, action, reward, next_state, done):\n",
    "        self.memory.append((state, action, reward, next_state, done))\n",
    "\n",
    "    # Chooses action based on epsilon-greedy policy\n",
    "    def act(self, state):\n",
    "        # Random exploration\n",
    "        if np.random.rand() <= self.epsilon:\n",
    "            return random.randrange(self.action_size)\n",
    "\n",
    "        act_values = self.model.predict(state, verbose=0)\n",
    "\n",
    "        return np.argmax(act_values[0])  # Returns action using policy\n",
    "\n",
    "    # Trains the model using randomly selected experiences in the replay memory\n",
    "    def replay(self, batch_size):\n",
    "        minibatch = random.sample(self.memory, batch_size)  # Batch size is the return size\n",
    "\n",
    "        for state, action, reward, next_state, done in minibatch:\n",
    "\n",
    "            if not done:\n",
    "                target = (reward + self.gamma * np.amax(self.target_model.predict(next_state, verbose=0)))  # TD\n",
    "            else:\n",
    "                target = reward\n",
    "\n",
    "            # Construct the target vector as follows:\n",
    "            # Use the current model to output the Q-value predictions.\n",
    "            target_f = self.model.predict(state, verbose=0)  # This constructs our Q value\n",
    "\n",
    "            # Rewrite the chosen action value with the computed target\n",
    "            target_f[0][action] = target\n",
    "\n",
    "            self.model.fit(state, target_f, epochs=1, verbose=0)  # Train model so Q-value match the target function\n",
    "\n",
    "        #  Simple decay rate\n",
    "        if self.epsilon > self.epsilon_min:\n",
    "            self.epsilon *= self.epsilon_decay\n",
    "\n",
    "    # Sets the target model parameters to the current model parameters\n",
    "    def update_target_model(self):\n",
    "        self.target_model.set_weights(self.model.get_weights())\n",
    "\n",
    "    def load(self, name):\n",
    "        self.model.load_weights(name)\n",
    "\n",
    "    def save(self, name):\n",
    "        self.model.save_weights(name)\n",
    "\n",
    "'''Preprocessing: To save on computations by converting RGB-observations into Grayscale'''\n",
    "\n",
    "# Helpful preprocessing taken from github.com/ageron/tiny-dqn\n",
    "def process_frame(frame):\n",
    "    frame_np = np.array(frame[0])  # Convert frame[0] to numpy array\n",
    "\n",
    "    # Check if frame is grayscale or RGB and convert accordingly\n",
    "    if len(frame_np.shape) == 2:  # Grayscale image\n",
    "        img = frame_np\n",
    "    elif len(frame_np.shape) == 3 and frame_np.shape[2] == 3:\n",
    "        img = cv2.cvtColor(frame_np, cv2.COLOR_RGB2GRAY)\n",
    "    else:\n",
    "        raise ValueError(\"ACHTUNG! Unsupported frame format or number of channels.\")\n",
    "\n",
    "    img = img / 255  # Normalize\n",
    "    img = cv2.resize(img, state_size[:2])  # Resize the image\n",
    "    return np.expand_dims(img.reshape(state_size), axis=0)\n",
    "\n",
    "# Use blending by creating an average image based on past images to transport information about changes over time e.g. movements into the model\n",
    "def blend_images(images, blend):\n",
    "    avg_image = np.expand_dims(np.zeros(state_size, np.float64), axis=0)\n",
    "\n",
    "    for image in images:\n",
    "        avg_image += image\n",
    "\n",
    "    if len(images) < blend:\n",
    "        return avg_image / len(images)\n",
    "    else:\n",
    "        return avg_image / blend\n",
    "    \n",
    "    \n",
    "if __name__ == '__main__':\n",
    "    # Utilize a GPU if one is available\n",
    "    physical_devices = tf.config.list_physical_devices('GPU')\n",
    "    if physical_devices:\n",
    "        try:\n",
    "            tf.config.experimental.set_memory_growth(physical_devices[0], True)\n",
    "        except:\n",
    "            pass\n",
    "    \n",
    "    checkpoint_filepath = './DQN_weights/checkpoint'\n",
    "    env = gym.make('ALE/Carnival-v5', render_mode=None)  # Disable rendering to save perfomance during training\n",
    "\n",
    "    action_size = env.action_space.n\n",
    "    agent = DQN_Agent(state_size, action_size)\n",
    "    episodes = 400                                               #+++++++++++++++++No of EPISODES++++++++++++++++++++++\n",
    "    list_of_episode_rewards = []\n",
    "    list_of_hit_ratios = []\n",
    "    list_of_actions_taken = []\n",
    "    batch_size = 12  #Length of the series the model is trained with\n",
    "    skip_start = 50  \n",
    "    total_time = 0  # Counter for total number of steps taken\n",
    "    all_rewards = 0  # Used to compute avg reward over time\n",
    "    blend = 6  # Number of images to blend\n",
    "    done = False\n",
    "\n",
    "    current_time = datetime.datetime.now().strftime(\"%Y%m%d-%H%M%S\")\n",
    "    log_dir = 'logs/Carnivaldqn/' + current_time\n",
    "    summary_writer = tf.summary.create_file_writer(log_dir)\n",
    "\n",
    "    # An episode is essentially an Epoch.\n",
    "    for e in tqdm(range(episodes), desc=\"Episodes\"):\n",
    "        start = time()\n",
    "        episode_reward = 0\n",
    "        game_score = 0\n",
    "        state = process_frame(env.reset())\n",
    "        images = deque(maxlen=blend)  # Array of images to be blended\n",
    "        images.append(state)\n",
    "        done = False\n",
    "        shots = 1\n",
    "        hit = 0\n",
    "        for t in range(1200):\n",
    "            # Return the avg of the last 4 frames.\n",
    "            state = blend_images(images, blend)\n",
    "\n",
    "            # Transition\n",
    "            action = agent.act(state)\n",
    "            step_result = env.step(action)\n",
    "            next_state, reward, done, _ = step_result[:4]\n",
    "            game_score += reward\n",
    "            # Detect if the agent selected to shoot\n",
    "            if action in [1,4,5]:\n",
    "                shots += 1\n",
    "            if reward > 0:\n",
    "                    hit +=1\n",
    "\n",
    "            hit_ratio = hit/shots\n",
    "            # Reward the agent exponentially for achieving a high hit ratio\n",
    "            if reward > 0:\n",
    "                reward = round(reward * ((4 * hit_ratio - 0.07)**3 + 1), 3)\n",
    "            # possible extra reward of +1500 over all 1200 steps, rewarding the agent exponentially for surviving longer\n",
    "            reward += 0.000002605  * t ** 2\n",
    "            \n",
    "            # Return the avg of the last 4 frames\n",
    "            next_state = process_frame(next_state)\n",
    "            images.append(next_state)\n",
    "            next_state = blend_images(images, blend)\n",
    "            \n",
    "            # Store sequence in replay memory\n",
    "            agent.remember(state, action, reward, next_state, done)\n",
    "            \n",
    "            state = next_state\n",
    "            episode_reward += reward\n",
    "            if done:\n",
    "                break\n",
    "            # Training the agent´s model with memories, extra criterium with modulo was added to increase episodes. Otherwise timeouts are very likely for training over a lot of episodes\n",
    "            if (len(agent.memory) > 500) and (t%250==0):\n",
    "                agent.replay(batch_size)            \n",
    "            if t % agent.update_rate == 0:\n",
    "                agent.update_target_model()\n",
    "\n",
    "        all_rewards += game_score\n",
    "        list_of_episode_rewards.append(episode_reward)\n",
    "        list_of_hit_ratios.append(hit_ratio)\n",
    "        list_of_actions_taken.append(t)\n",
    "        avg_rewards = np.mean(list_of_episode_rewards[max(0, e - 25):(e + 1)])  # Moving average\n",
    "        end_time = (time() - start)\n",
    "        total_time += end_time\n",
    "        print(\n",
    "            \"episode: {}/{},\\t actions_taken: {},\\t game score: {},\\t reward: {:.2f},\\t avg reward: {:.4f},\\t hit ratio: {:.3f}%,\\t time: {:.2f},\\t total time: {:.2f},\\t epsilon: {:.4f}\".format(\n",
    "                e + 1, episodes, t, game_score, episode_reward, avg_rewards, hit_ratio * 100, end_time, total_time, agent.epsilon\n",
    "            )\n",
    "        )\n",
    "\n",
    "        with summary_writer.as_default():\n",
    "            tf.summary.scalar('episode reward', episode_reward, step=e)\n",
    "            tf.summary.scalar('running avg reward(25)', avg_rewards, step=e)\n",
    "            tf.summary.scalar('number of steps', t, step=e)\n",
    "            tf.summary.scalar('Time this episode', end_time, step=e)\n",
    "        agent.save('/kaggle/working/Gewichte.weights.h5')\n",
    "\n",
    "    env.close()"
   ]
  },
  {
   "cell_type": "markdown",
   "id": "137c5c5e",
   "metadata": {
    "papermill": {
     "duration": 0.084973,
     "end_time": "2024-07-26T03:53:45.029650",
     "exception": false,
     "start_time": "2024-07-26T03:53:44.944677",
     "status": "completed"
    },
    "tags": []
   },
   "source": [
    "## Visualizations of important performance measures"
   ]
  },
  {
   "cell_type": "code",
   "execution_count": 3,
   "id": "3f11b227",
   "metadata": {
    "execution": {
     "iopub.execute_input": "2024-07-26T03:53:45.201249Z",
     "iopub.status.busy": "2024-07-26T03:53:45.199633Z",
     "iopub.status.idle": "2024-07-26T03:53:45.616557Z",
     "shell.execute_reply": "2024-07-26T03:53:45.615349Z"
    },
    "papermill": {
     "duration": 0.505444,
     "end_time": "2024-07-26T03:53:45.619497",
     "exception": false,
     "start_time": "2024-07-26T03:53:45.114053",
     "status": "completed"
    },
    "tags": []
   },
   "outputs": [
    {
     "data": {
      "image/png": "[encoded data removed]",
      "text/plain": [
       "<Figure size 1000x500 with 1 Axes>"
      ]
     },
     "metadata": {},
     "output_type": "display_data"
    }
   ],
   "source": [
    "import matplotlib.pyplot as plt\n",
    "\n",
    "# Plot the episode rewards\n",
    "plt.figure(figsize=(10, 5))\n",
    "plt.plot(list_of_episode_rewards, label='Episode Reward')\n",
    "\n",
    "# Calculate and plot the trendline\n",
    "x = np.arange(len(list_of_episode_rewards))\n",
    "z = np.polyfit(x, list_of_episode_rewards, 1)\n",
    "p = np.poly1d(z)\n",
    "plt.plot(x, p(x), \"r--\", label='Trendline')\n",
    "\n",
    "plt.xlabel('Episode')\n",
    "plt.ylabel('Reward')\n",
    "plt.title('Episode Rewards Over Time')\n",
    "plt.legend()\n",
    "plt.show()"
   ]
  },
  {
   "cell_type": "code",
   "execution_count": 4,
   "id": "09d1434f",
   "metadata": {
    "execution": {
     "iopub.execute_input": "2024-07-26T03:53:45.796443Z",
     "iopub.status.busy": "2024-07-26T03:53:45.796034Z",
     "iopub.status.idle": "2024-07-26T03:53:46.181938Z",
     "shell.execute_reply": "2024-07-26T03:53:46.180763Z"
    },
    "papermill": {
     "duration": 0.478722,
     "end_time": "2024-07-26T03:53:46.185267",
     "exception": false,
     "start_time": "2024-07-26T03:53:45.706545",
     "status": "completed"
    },
    "tags": []
   },
   "outputs": [
    {
     "data": {
      "image/png": "[encoded data removed]",
      "text/plain": [
       "<Figure size 1000x500 with 1 Axes>"
      ]
     },
     "metadata": {},
     "output_type": "display_data"
    }
   ],
   "source": [
    "# Plot the episode hit ratio\n",
    "plt.figure(figsize=(10, 5))\n",
    "plt.plot(list_of_hit_ratios, label='Episode Hit Ratio')\n",
    "\n",
    "# Calculate and plot the trendline\n",
    "x = np.arange(len(list_of_hit_ratios))\n",
    "z = np.polyfit(x, list_of_hit_ratios, 1)\n",
    "p = np.poly1d(z)\n",
    "plt.plot(x, p(x), \"r--\", label='Trendline')\n",
    "\n",
    "plt.xlabel('Episode')\n",
    "plt.ylabel('Hit Ratio')\n",
    "plt.title('Episode Hit Ratio over Time')\n",
    "plt.legend()\n",
    "plt.show()"
   ]
  },
  {
   "cell_type": "code",
   "execution_count": 5,
   "id": "e512ef83",
   "metadata": {
    "execution": {
     "iopub.execute_input": "2024-07-26T03:53:46.376586Z",
     "iopub.status.busy": "2024-07-26T03:53:46.376177Z",
     "iopub.status.idle": "2024-07-26T03:53:46.758884Z",
     "shell.execute_reply": "2024-07-26T03:53:46.756941Z"
    },
    "papermill": {
     "duration": 0.479439,
     "end_time": "2024-07-26T03:53:46.762998",
     "exception": false,
     "start_time": "2024-07-26T03:53:46.283559",
     "status": "completed"
    },
    "tags": []
   },
   "outputs": [
    {
     "data": {
      "image/png": "[encoded data removed]",
      "text/plain": [
       "<Figure size 1000x500 with 1 Axes>"
      ]
     },
     "metadata": {},
     "output_type": "display_data"
    }
   ],
   "source": [
    "# Plot the episode Actions taken\n",
    "plt.figure(figsize=(10, 5))\n",
    "plt.plot(list_of_actions_taken, label='Episode Number of Actions taken')\n",
    "\n",
    "# Calculate and plot the trendline\n",
    "x = np.arange(len(list_of_actions_taken))\n",
    "z = np.polyfit(x, list_of_actions_taken, 1)\n",
    "p = np.poly1d(z)\n",
    "plt.plot(x, p(x), \"r--\", label='Trendline')\n",
    "\n",
    "plt.xlabel('Episode')\n",
    "plt.ylabel('Number of Actions Taken')\n",
    "plt.title('Episode Number of Actions taken over Time')\n",
    "plt.legend()\n",
    "plt.show()"
   ]
  }
 ],
 "metadata": {
  "kaggle": {
   "accelerator": "none",
   "dataSources": [],
   "dockerImageVersionId": 30746,
   "isGpuEnabled": false,
   "isInternetEnabled": true,
   "language": "python",
   "sourceType": "notebook"
  },
  "kernelspec": {
   "display_name": "Python 3",
   "language": "python",
   "name": "python3"
  },
  "language_info": {
   "codemirror_mode": {
    "name": "ipython",
    "version": 3
   },
   "file_extension": ".py",
   "mimetype": "text/x-python",
   "name": "python",
   "nbconvert_exporter": "python",
   "pygments_lexer": "ipython3",
   "version": "3.10.13"
  },
  "papermill": {
   "default_parameters": {},
   "duration": 22673.471103,
   "end_time": "2024-07-26T03:53:48.845308",
   "environment_variables": {},
   "exception": null,
   "input_path": "__notebook__.ipynb",
   "output_path": "__notebook__.ipynb",
   "parameters": {},
   "start_time": "2024-07-25T21:35:55.374205",
   "version": "2.5.0"
  }
 },
 "nbformat": 4,
 "nbformat_minor": 5
}
