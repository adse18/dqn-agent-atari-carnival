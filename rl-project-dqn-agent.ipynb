{
 "cells": [
  {
   "cell_type": "markdown",
   "id": "924ec169",
   "metadata": {},
   "source": [
    "# Older version of the Kaggle Notebook\n",
    "\n",
    "Serves as placeholder until the final cleaned version is finished"
   ]
  },
  {
   "cell_type": "code",
   "execution_count": null,
   "id": "a4be1f0a",
   "metadata": {
    "execution": {
     "iopub.execute_input": "2024-07-25T11:34:07.229352Z",
     "iopub.status.busy": "2024-07-25T11:34:07.228918Z",
     "iopub.status.idle": "2024-07-25T11:35:17.536975Z",
     "shell.execute_reply": "2024-07-25T11:35:17.534916Z"
    },
    "papermill": {
     "duration": 70.317673,
     "end_time": "2024-07-25T11:35:17.540589",
     "exception": false,
     "start_time": "2024-07-25T11:34:07.222916",
     "status": "completed"
    },
    "tags": []
   },
   "outputs": [
    {
     "name": "stdout",
     "output_type": "stream",
     "text": [
      "Requirement already satisfied: gymnasium[accept-rom-license] in /opt/conda/lib/python3.10/site-packages (0.29.0)\r\n",
      "Requirement already satisfied: numpy>=1.21.0 in /opt/conda/lib/python3.10/site-packages (from gymnasium[accept-rom-license]) (1.26.4)\r\n",
      "Requirement already satisfied: cloudpickle>=1.2.0 in /opt/conda/lib/python3.10/site-packages (from gymnasium[accept-rom-license]) (2.2.1)\r\n",
      "Requirement already satisfied: typing-extensions>=4.3.0 in /opt/conda/lib/python3.10/site-packages (from gymnasium[accept-rom-license]) (4.9.0)\r\n",
      "Requirement already satisfied: farama-notifications>=0.0.1 in /opt/conda/lib/python3.10/site-packages (from gymnasium[accept-rom-license]) (0.0.4)\r\n",
      "Collecting autorom~=0.4.2 (from autorom[accept-rom-license]~=0.4.2; extra == \"accept-rom-license\"->gymnasium[accept-rom-license])\r\n",
      "  Downloading AutoROM-0.4.2-py3-none-any.whl.metadata (2.8 kB)\r\n",
      "Requirement already satisfied: click in /opt/conda/lib/python3.10/site-packages (from autorom~=0.4.2->autorom[accept-rom-license]~=0.4.2; extra == \"accept-rom-license\"->gymnasium[accept-rom-license]) (8.1.7)\r\n",
      "Requirement already satisfied: requests in /opt/conda/lib/python3.10/site-packages (from autorom~=0.4.2->autorom[accept-rom-license]~=0.4.2; extra == \"accept-rom-license\"->gymnasium[accept-rom-license]) (2.32.3)\r\n",
      "Requirement already satisfied: tqdm in /opt/conda/lib/python3.10/site-packages (from autorom~=0.4.2->autorom[accept-rom-license]~=0.4.2; extra == \"accept-rom-license\"->gymnasium[accept-rom-license]) (4.66.4)\r\n",
      "Collecting AutoROM.accept-rom-license (from autorom[accept-rom-license]~=0.4.2; extra == \"accept-rom-license\"->gymnasium[accept-rom-license])\r\n",
      "  Downloading AutoROM.accept-rom-license-0.6.1.tar.gz (434 kB)\r\n",
      "\u001b[2K     \u001b[90m━━━━━━━━━━━━━━━━━━━━━━━━━━━━━━━━━━━━━━━\u001b[0m \u001b[32m434.7/434.7 kB\u001b[0m \u001b[31m7.4 MB/s\u001b[0m eta \u001b[36m0:00:00\u001b[0m\r\n",
      "\u001b[?25h  Installing build dependencies ... \u001b[?25l-\b \b\\\b \b|\b \b/\b \b-\b \b\\\b \b|\b \b/\b \b-\b \b\\\b \b|\b \b/\b \b-\b \b\\\b \bdone\r\n",
      "\u001b[?25h  Getting requirements to build wheel ... \u001b[?25l-\b \bdone\r\n",
      "\u001b[?25h  Preparing metadata (pyproject.toml) ... \u001b[?25l-\b \bdone\r\n",
      "\u001b[?25hRequirement already satisfied: charset-normalizer<4,>=2 in /opt/conda/lib/python3.10/site-packages (from requests->autorom~=0.4.2->autorom[accept-rom-license]~=0.4.2; extra == \"accept-rom-license\"->gymnasium[accept-rom-license]) (3.3.2)\r\n",
      "Requirement already satisfied: idna<4,>=2.5 in /opt/conda/lib/python3.10/site-packages (from requests->autorom~=0.4.2->autorom[accept-rom-license]~=0.4.2; extra == \"accept-rom-license\"->gymnasium[accept-rom-license]) (3.6)\r\n",
      "Requirement already satisfied: urllib3<3,>=1.21.1 in /opt/conda/lib/python3.10/site-packages (from requests->autorom~=0.4.2->autorom[accept-rom-license]~=0.4.2; extra == \"accept-rom-license\"->gymnasium[accept-rom-license]) (1.26.18)\r\n",
      "Requirement already satisfied: certifi>=2017.4.17 in /opt/conda/lib/python3.10/site-packages (from requests->autorom~=0.4.2->autorom[accept-rom-license]~=0.4.2; extra == \"accept-rom-license\"->gymnasium[accept-rom-license]) (2024.7.4)\r\n",
      "Downloading AutoROM-0.4.2-py3-none-any.whl (16 kB)\r\n",
      "Building wheels for collected packages: AutoROM.accept-rom-license\r\n",
      "  Building wheel for AutoROM.accept-rom-license (pyproject.toml) ... \u001b[?25l-\b \b\\\b \bdone\r\n",
      "\u001b[?25h  Created wheel for AutoROM.accept-rom-license: filename=AutoROM.accept_rom_license-0.6.1-py3-none-any.whl size=446664 sha256=f321e926d956c6904ea59978b73b9559c563d6f9afb25bd1edf872ede600e84e\r\n",
      "  Stored in directory: /root/.cache/pip/wheels/6b/1b/ef/a43ff1a2f1736d5711faa1ba4c1f61be1131b8899e6a057811\r\n",
      "Successfully built AutoROM.accept-rom-license\r\n",
      "Installing collected packages: AutoROM.accept-rom-license, autorom\r\n",
      "Successfully installed AutoROM.accept-rom-license-0.6.1 autorom-0.4.2\r\n",
      "Requirement already satisfied: gymnasium[atari] in /opt/conda/lib/python3.10/site-packages (0.29.0)\r\n",
      "Requirement already satisfied: numpy>=1.21.0 in /opt/conda/lib/python3.10/site-packages (from gymnasium[atari]) (1.26.4)\r\n",
      "Requirement already satisfied: cloudpickle>=1.2.0 in /opt/conda/lib/python3.10/site-packages (from gymnasium[atari]) (2.2.1)\r\n",
      "Requirement already satisfied: typing-extensions>=4.3.0 in /opt/conda/lib/python3.10/site-packages (from gymnasium[atari]) (4.9.0)\r\n",
      "Requirement already satisfied: farama-notifications>=0.0.1 in /opt/conda/lib/python3.10/site-packages (from gymnasium[atari]) (0.0.4)\r\n",
      "Collecting shimmy<1.0,>=0.1.0 (from shimmy[atari]<1.0,>=0.1.0; extra == \"atari\"->gymnasium[atari])\r\n",
      "  Downloading Shimmy-0.2.1-py3-none-any.whl.metadata (2.3 kB)\r\n",
      "Collecting ale-py~=0.8.1 (from shimmy[atari]<1.0,>=0.1.0; extra == \"atari\"->gymnasium[atari])\r\n",
      "  Downloading ale_py-0.8.1-cp310-cp310-manylinux_2_17_x86_64.manylinux2014_x86_64.whl.metadata (8.1 kB)\r\n",
      "Requirement already satisfied: importlib-resources in /opt/conda/lib/python3.10/site-packages (from ale-py~=0.8.1->shimmy[atari]<1.0,>=0.1.0; extra == \"atari\"->gymnasium[atari]) (6.1.1)\r\n",
      "Downloading Shimmy-0.2.1-py3-none-any.whl (25 kB)\r\n",
      "Downloading ale_py-0.8.1-cp310-cp310-manylinux_2_17_x86_64.manylinux2014_x86_64.whl (1.7 MB)\r\n",
      "\u001b[2K   \u001b[90m━━━━━━━━━━━━━━━━━━━━━━━━━━━━━━━━━━━━━━━━\u001b[0m \u001b[32m1.7/1.7 MB\u001b[0m \u001b[31m30.8 MB/s\u001b[0m eta \u001b[36m0:00:00\u001b[0m\r\n",
      "\u001b[?25hInstalling collected packages: ale-py, shimmy\r\n",
      "  Attempting uninstall: shimmy\r\n",
      "    Found existing installation: Shimmy 1.3.0\r\n",
      "    Uninstalling Shimmy-1.3.0:\r\n",
      "      Successfully uninstalled Shimmy-1.3.0\r\n",
      "\u001b[31mERROR: pip's dependency resolver does not currently take into account all the packages that are installed. This behaviour is the source of the following dependency conflicts.\r\n",
      "kaggle-environments 1.14.15 requires shimmy>=1.2.1, but you have shimmy 0.2.1 which is incompatible.\u001b[0m\u001b[31m\r\n",
      "\u001b[0mSuccessfully installed ale-py-0.8.1 shimmy-0.2.1\r\n",
      "Requirement already satisfied: tqdm in /opt/conda/lib/python3.10/site-packages (4.66.4)\r\n"
     ]
    }
   ],
   "source": [
    "!pip install gymnasium[accept-rom-license]\n",
    "!pip install gymnasium[atari]\n",
    "!pip install tqdm\n",
    "\n",
    "# !pip install ale-py\n",
    "# !pip install shimmy>=1.2.1"
   ]
  },
  {
   "cell_type": "code",
   "execution_count": 2,
   "id": "3dd1a7c6",
   "metadata": {
    "_cell_guid": "b1076dfc-b9ad-4769-8c92-a6c4dae69d19",
    "_uuid": "8f2839f25d086af736a60e9eeb907d3b93b6e0e5",
    "execution": {
     "iopub.execute_input": "2024-07-25T11:35:17.561390Z",
     "iopub.status.busy": "2024-07-25T11:35:17.560902Z",
     "iopub.status.idle": "2024-07-25T14:31:43.177681Z",
     "shell.execute_reply": "2024-07-25T14:31:43.176167Z"
    },
    "papermill": {
     "duration": 10585.681325,
     "end_time": "2024-07-25T14:31:43.231139",
     "exception": false,
     "start_time": "2024-07-25T11:35:17.549814",
     "status": "completed"
    },
    "tags": []
   },
   "outputs": [
    {
     "name": "stderr",
     "output_type": "stream",
     "text": [
      "2024-07-25 11:35:21.225772: E external/local_xla/xla/stream_executor/cuda/cuda_dnn.cc:9261] Unable to register cuDNN factory: Attempting to register factory for plugin cuDNN when one has already been registered\n",
      "2024-07-25 11:35:21.225972: E external/local_xla/xla/stream_executor/cuda/cuda_fft.cc:607] Unable to register cuFFT factory: Attempting to register factory for plugin cuFFT when one has already been registered\n",
      "2024-07-25 11:35:21.414131: E external/local_xla/xla/stream_executor/cuda/cuda_blas.cc:1515] Unable to register cuBLAS factory: Attempting to register factory for plugin cuBLAS when one has already been registered\n",
      "A.L.E: Arcade Learning Environment (version 0.8.1+53f58b7)\n",
      "[Powered by Stella]\n"
     ]
    },
    {
     "data": {
      "text/html": [
       "<pre style=\"white-space:pre;overflow-x:auto;line-height:normal;font-family:Menlo,'DejaVu Sans Mono',consolas,'Courier New',monospace\"><span style=\"font-weight: bold\">Model: \"sequential\"</span>\n",
       "</pre>\n"
      ],
      "text/plain": [
       "\u001b[1mModel: \"sequential\"\u001b[0m\n"
      ]
     },
     "metadata": {},
     "output_type": "display_data"
    },
    {
     "data": {
      "text/html": [
       "<pre style=\"white-space:pre;overflow-x:auto;line-height:normal;font-family:Menlo,'DejaVu Sans Mono',consolas,'Courier New',monospace\">┏━━━━━━━━━━━━━━━━━━━━━━━━━━━━━━━━━┳━━━━━━━━━━━━━━━━━━━━━━━━┳━━━━━━━━━━━━━━━┓\n",
       "┃<span style=\"font-weight: bold\"> Layer (type)                    </span>┃<span style=\"font-weight: bold\"> Output Shape           </span>┃<span style=\"font-weight: bold\">       Param # </span>┃\n",
       "┡━━━━━━━━━━━━━━━━━━━━━━━━━━━━━━━━━╇━━━━━━━━━━━━━━━━━━━━━━━━╇━━━━━━━━━━━━━━━┩\n",
       "│ conv2d (<span style=\"color: #0087ff; text-decoration-color: #0087ff\">Conv2D</span>)                 │ (<span style=\"color: #00d7ff; text-decoration-color: #00d7ff\">None</span>, <span style=\"color: #00af00; text-decoration-color: #00af00\">24</span>, <span style=\"color: #00af00; text-decoration-color: #00af00\">20</span>, <span style=\"color: #00af00; text-decoration-color: #00af00\">32</span>)     │         <span style=\"color: #00af00; text-decoration-color: #00af00\">2,080</span> │\n",
       "├─────────────────────────────────┼────────────────────────┼───────────────┤\n",
       "│ conv2d_1 (<span style=\"color: #0087ff; text-decoration-color: #0087ff\">Conv2D</span>)               │ (<span style=\"color: #00d7ff; text-decoration-color: #00d7ff\">None</span>, <span style=\"color: #00af00; text-decoration-color: #00af00\">12</span>, <span style=\"color: #00af00; text-decoration-color: #00af00\">10</span>, <span style=\"color: #00af00; text-decoration-color: #00af00\">64</span>)     │        <span style=\"color: #00af00; text-decoration-color: #00af00\">32,832</span> │\n",
       "├─────────────────────────────────┼────────────────────────┼───────────────┤\n",
       "│ conv2d_2 (<span style=\"color: #0087ff; text-decoration-color: #0087ff\">Conv2D</span>)               │ (<span style=\"color: #00d7ff; text-decoration-color: #00d7ff\">None</span>, <span style=\"color: #00af00; text-decoration-color: #00af00\">12</span>, <span style=\"color: #00af00; text-decoration-color: #00af00\">10</span>, <span style=\"color: #00af00; text-decoration-color: #00af00\">64</span>)     │        <span style=\"color: #00af00; text-decoration-color: #00af00\">36,928</span> │\n",
       "├─────────────────────────────────┼────────────────────────┼───────────────┤\n",
       "│ flatten (<span style=\"color: #0087ff; text-decoration-color: #0087ff\">Flatten</span>)               │ (<span style=\"color: #00d7ff; text-decoration-color: #00d7ff\">None</span>, <span style=\"color: #00af00; text-decoration-color: #00af00\">7680</span>)           │             <span style=\"color: #00af00; text-decoration-color: #00af00\">0</span> │\n",
       "├─────────────────────────────────┼────────────────────────┼───────────────┤\n",
       "│ dense (<span style=\"color: #0087ff; text-decoration-color: #0087ff\">Dense</span>)                   │ (<span style=\"color: #00d7ff; text-decoration-color: #00d7ff\">None</span>, <span style=\"color: #00af00; text-decoration-color: #00af00\">512</span>)            │     <span style=\"color: #00af00; text-decoration-color: #00af00\">3,932,672</span> │\n",
       "├─────────────────────────────────┼────────────────────────┼───────────────┤\n",
       "│ dense_1 (<span style=\"color: #0087ff; text-decoration-color: #0087ff\">Dense</span>)                 │ (<span style=\"color: #00d7ff; text-decoration-color: #00d7ff\">None</span>, <span style=\"color: #00af00; text-decoration-color: #00af00\">6</span>)              │         <span style=\"color: #00af00; text-decoration-color: #00af00\">3,078</span> │\n",
       "├─────────────────────────────────┼────────────────────────┼───────────────┤\n",
       "│ flatten_1 (<span style=\"color: #0087ff; text-decoration-color: #0087ff\">Flatten</span>)             │ (<span style=\"color: #00d7ff; text-decoration-color: #00d7ff\">None</span>, <span style=\"color: #00af00; text-decoration-color: #00af00\">6</span>)              │             <span style=\"color: #00af00; text-decoration-color: #00af00\">0</span> │\n",
       "└─────────────────────────────────┴────────────────────────┴───────────────┘\n",
       "</pre>\n"
      ],
      "text/plain": [
       "┏━━━━━━━━━━━━━━━━━━━━━━━━━━━━━━━━━┳━━━━━━━━━━━━━━━━━━━━━━━━┳━━━━━━━━━━━━━━━┓\n",
       "┃\u001b[1m \u001b[0m\u001b[1mLayer (type)                   \u001b[0m\u001b[1m \u001b[0m┃\u001b[1m \u001b[0m\u001b[1mOutput Shape          \u001b[0m\u001b[1m \u001b[0m┃\u001b[1m \u001b[0m\u001b[1m      Param #\u001b[0m\u001b[1m \u001b[0m┃\n",
       "┡━━━━━━━━━━━━━━━━━━━━━━━━━━━━━━━━━╇━━━━━━━━━━━━━━━━━━━━━━━━╇━━━━━━━━━━━━━━━┩\n",
       "│ conv2d (\u001b[38;5;33mConv2D\u001b[0m)                 │ (\u001b[38;5;45mNone\u001b[0m, \u001b[38;5;34m24\u001b[0m, \u001b[38;5;34m20\u001b[0m, \u001b[38;5;34m32\u001b[0m)     │         \u001b[38;5;34m2,080\u001b[0m │\n",
       "├─────────────────────────────────┼────────────────────────┼───────────────┤\n",
       "│ conv2d_1 (\u001b[38;5;33mConv2D\u001b[0m)               │ (\u001b[38;5;45mNone\u001b[0m, \u001b[38;5;34m12\u001b[0m, \u001b[38;5;34m10\u001b[0m, \u001b[38;5;34m64\u001b[0m)     │        \u001b[38;5;34m32,832\u001b[0m │\n",
       "├─────────────────────────────────┼────────────────────────┼───────────────┤\n",
       "│ conv2d_2 (\u001b[38;5;33mConv2D\u001b[0m)               │ (\u001b[38;5;45mNone\u001b[0m, \u001b[38;5;34m12\u001b[0m, \u001b[38;5;34m10\u001b[0m, \u001b[38;5;34m64\u001b[0m)     │        \u001b[38;5;34m36,928\u001b[0m │\n",
       "├─────────────────────────────────┼────────────────────────┼───────────────┤\n",
       "│ flatten (\u001b[38;5;33mFlatten\u001b[0m)               │ (\u001b[38;5;45mNone\u001b[0m, \u001b[38;5;34m7680\u001b[0m)           │             \u001b[38;5;34m0\u001b[0m │\n",
       "├─────────────────────────────────┼────────────────────────┼───────────────┤\n",
       "│ dense (\u001b[38;5;33mDense\u001b[0m)                   │ (\u001b[38;5;45mNone\u001b[0m, \u001b[38;5;34m512\u001b[0m)            │     \u001b[38;5;34m3,932,672\u001b[0m │\n",
       "├─────────────────────────────────┼────────────────────────┼───────────────┤\n",
       "│ dense_1 (\u001b[38;5;33mDense\u001b[0m)                 │ (\u001b[38;5;45mNone\u001b[0m, \u001b[38;5;34m6\u001b[0m)              │         \u001b[38;5;34m3,078\u001b[0m │\n",
       "├─────────────────────────────────┼────────────────────────┼───────────────┤\n",
       "│ flatten_1 (\u001b[38;5;33mFlatten\u001b[0m)             │ (\u001b[38;5;45mNone\u001b[0m, \u001b[38;5;34m6\u001b[0m)              │             \u001b[38;5;34m0\u001b[0m │\n",
       "└─────────────────────────────────┴────────────────────────┴───────────────┘\n"
      ]
     },
     "metadata": {},
     "output_type": "display_data"
    },
    {
     "data": {
      "text/html": [
       "<pre style=\"white-space:pre;overflow-x:auto;line-height:normal;font-family:Menlo,'DejaVu Sans Mono',consolas,'Courier New',monospace\"><span style=\"font-weight: bold\"> Total params: </span><span style=\"color: #00af00; text-decoration-color: #00af00\">4,007,590</span> (15.29 MB)\n",
       "</pre>\n"
      ],
      "text/plain": [
       "\u001b[1m Total params: \u001b[0m\u001b[38;5;34m4,007,590\u001b[0m (15.29 MB)\n"
      ]
     },
     "metadata": {},
     "output_type": "display_data"
    },
    {
     "data": {
      "text/html": [
       "<pre style=\"white-space:pre;overflow-x:auto;line-height:normal;font-family:Menlo,'DejaVu Sans Mono',consolas,'Courier New',monospace\"><span style=\"font-weight: bold\"> Trainable params: </span><span style=\"color: #00af00; text-decoration-color: #00af00\">4,007,590</span> (15.29 MB)\n",
       "</pre>\n"
      ],
      "text/plain": [
       "\u001b[1m Trainable params: \u001b[0m\u001b[38;5;34m4,007,590\u001b[0m (15.29 MB)\n"
      ]
     },
     "metadata": {},
     "output_type": "display_data"
    },
    {
     "data": {
      "text/html": [
       "<pre style=\"white-space:pre;overflow-x:auto;line-height:normal;font-family:Menlo,'DejaVu Sans Mono',consolas,'Courier New',monospace\"><span style=\"font-weight: bold\"> Non-trainable params: </span><span style=\"color: #00af00; text-decoration-color: #00af00\">0</span> (0.00 B)\n",
       "</pre>\n"
      ],
      "text/plain": [
       "\u001b[1m Non-trainable params: \u001b[0m\u001b[38;5;34m0\u001b[0m (0.00 B)\n"
      ]
     },
     "metadata": {},
     "output_type": "display_data"
    },
    {
     "name": "stderr",
     "output_type": "stream",
     "text": [
      "Episodes:   0%|          | 1/200 [00:02<08:08,  2.45s/it]"
     ]
    },
    {
     "name": "stdout",
     "output_type": "stream",
     "text": [
      "episode: 1/200,\t actions_taken: 396,\t game score: 440.0,\t reward: 483.15,\t avg reward: 483.1498,\t hit ratio: 4.717%,\t time: 2.39,\t total time: 2.39,\t epsilon: 0.9900\n",
      "episode: 2/200,\t actions_taken: 467,\t game score: 880.0,\t reward: 1042.51,\t avg reward: 762.8299,\t hit ratio: 7.512%,\t time: 8.84,\t total time: 11.22,\t epsilon: 0.9801\n"
     ]
    },
    {
     "name": "stderr",
     "output_type": "stream",
     "text": [
      "Episodes:   2%|▏         | 3/200 [00:21<26:57,  8.21s/it]"
     ]
    },
    {
     "name": "stdout",
     "output_type": "stream",
     "text": [
      "episode: 3/200,\t actions_taken: 463,\t game score: 920.0,\t reward: 1004.04,\t avg reward: 843.2320,\t hit ratio: 5.830%,\t time: 10.27,\t total time: 21.49,\t epsilon: 0.9606\n"
     ]
    },
    {
     "name": "stderr",
     "output_type": "stream",
     "text": [
      "Episodes:   2%|▏         | 4/200 [00:32<30:20,  9.29s/it]"
     ]
    },
    {
     "name": "stdout",
     "output_type": "stream",
     "text": [
      "episode: 4/200,\t actions_taken: 388,\t game score: 940.0,\t reward: 1133.38,\t avg reward: 915.7685,\t hit ratio: 7.778%,\t time: 10.76,\t total time: 32.25,\t epsilon: 0.9415\n"
     ]
    },
    {
     "name": "stderr",
     "output_type": "stream",
     "text": [
      "Episodes:   2%|▎         | 5/200 [00:45<33:53, 10.43s/it]"
     ]
    },
    {
     "name": "stdout",
     "output_type": "stream",
     "text": [
      "episode: 5/200,\t actions_taken: 431,\t game score: 940.0,\t reward: 1135.42,\t avg reward: 959.6988,\t hit ratio: 6.195%,\t time: 12.28,\t total time: 44.52,\t epsilon: 0.9227\n"
     ]
    },
    {
     "name": "stderr",
     "output_type": "stream",
     "text": [
      "Episodes:   3%|▎         | 6/200 [00:57<36:04, 11.16s/it]"
     ]
    },
    {
     "name": "stdout",
     "output_type": "stream",
     "text": [
      "episode: 6/200,\t actions_taken: 417,\t game score: 1580.0,\t reward: 1646.87,\t avg reward: 1074.2275,\t hit ratio: 8.163%,\t time: 12.40,\t total time: 56.93,\t epsilon: 0.9044\n"
     ]
    },
    {
     "name": "stderr",
     "output_type": "stream",
     "text": [
      "Episodes:   4%|▎         | 7/200 [01:10<37:11, 11.56s/it]"
     ]
    },
    {
     "name": "stdout",
     "output_type": "stream",
     "text": [
      "episode: 7/200,\t actions_taken: 386,\t game score: 480.0,\t reward: 516.59,\t avg reward: 994.5656,\t hit ratio: 5.164%,\t time: 12.22,\t total time: 69.15,\t epsilon: 0.8864\n"
     ]
    },
    {
     "name": "stderr",
     "output_type": "stream",
     "text": [
      "Episodes:   4%|▍         | 8/200 [01:29<44:42, 13.97s/it]"
     ]
    },
    {
     "name": "stdout",
     "output_type": "stream",
     "text": [
      "episode: 8/200,\t actions_taken: 522,\t game score: 2020.0,\t reward: 2427.57,\t avg reward: 1173.6914,\t hit ratio: 6.550%,\t time: 18.94,\t total time: 88.09,\t epsilon: 0.8601\n"
     ]
    },
    {
     "name": "stderr",
     "output_type": "stream",
     "text": [
      "Episodes:   4%|▍         | 9/200 [01:44<45:34, 14.32s/it]"
     ]
    },
    {
     "name": "stdout",
     "output_type": "stream",
     "text": [
      "episode: 9/200,\t actions_taken: 450,\t game score: 340.0,\t reward: 395.41,\t avg reward: 1087.2162,\t hit ratio: 4.202%,\t time: 14.90,\t total time: 102.99,\t epsilon: 0.8429\n"
     ]
    },
    {
     "name": "stderr",
     "output_type": "stream",
     "text": [
      "Episodes:   5%|▌         | 10/200 [02:00<46:33, 14.70s/it]"
     ]
    },
    {
     "name": "stdout",
     "output_type": "stream",
     "text": [
      "episode: 10/200,\t actions_taken: 407,\t game score: 640.0,\t reward: 730.86,\t avg reward: 1051.5811,\t hit ratio: 6.566%,\t time: 15.39,\t total time: 118.38,\t epsilon: 0.8262\n"
     ]
    },
    {
     "name": "stderr",
     "output_type": "stream",
     "text": [
      "Episodes:   6%|▌         | 11/200 [02:15<46:34, 14.78s/it]"
     ]
    },
    {
     "name": "stdout",
     "output_type": "stream",
     "text": [
      "episode: 11/200,\t actions_taken: 380,\t game score: 740.0,\t reward: 850.69,\t avg reward: 1033.3181,\t hit ratio: 7.650%,\t time: 14.79,\t total time: 133.17,\t epsilon: 0.8097\n"
     ]
    },
    {
     "name": "stderr",
     "output_type": "stream",
     "text": [
      "Episodes:   6%|▌         | 12/200 [02:31<47:44, 15.23s/it]"
     ]
    },
    {
     "name": "stdout",
     "output_type": "stream",
     "text": [
      "episode: 12/200,\t actions_taken: 421,\t game score: 380.0,\t reward: 434.98,\t avg reward: 983.4563,\t hit ratio: 5.488%,\t time: 16.08,\t total time: 149.25,\t epsilon: 0.7936\n"
     ]
    },
    {
     "name": "stderr",
     "output_type": "stream",
     "text": [
      "Episodes:   6%|▋         | 13/200 [02:47<48:48, 15.66s/it]"
     ]
    },
    {
     "name": "stdout",
     "output_type": "stream",
     "text": [
      "episode: 13/200,\t actions_taken: 330,\t game score: 1100.0,\t reward: 1155.29,\t avg reward: 996.6743,\t hit ratio: 6.849%,\t time: 16.46,\t total time: 165.71,\t epsilon: 0.7778\n"
     ]
    },
    {
     "name": "stderr",
     "output_type": "stream",
     "text": [
      "Episodes:   7%|▋         | 14/200 [03:14<58:16, 18.80s/it]"
     ]
    },
    {
     "name": "stdout",
     "output_type": "stream",
     "text": [
      "episode: 14/200,\t actions_taken: 562,\t game score: 1300.0,\t reward: 1501.93,\t avg reward: 1032.7639,\t hit ratio: 4.899%,\t time: 25.87,\t total time: 191.59,\t epsilon: 0.7547\n"
     ]
    },
    {
     "name": "stderr",
     "output_type": "stream",
     "text": [
      "Episodes:   8%|▊         | 15/200 [03:32<57:13, 18.56s/it]"
     ]
    },
    {
     "name": "stdout",
     "output_type": "stream",
     "text": [
      "episode: 15/200,\t actions_taken: 391,\t game score: 480.0,\t reward: 544.97,\t avg reward: 1000.2442,\t hit ratio: 5.314%,\t time: 17.82,\t total time: 209.41,\t epsilon: 0.7397\n"
     ]
    },
    {
     "name": "stderr",
     "output_type": "stream",
     "text": [
      "Episodes:   8%|▊         | 16/200 [03:51<57:52, 18.87s/it]"
     ]
    },
    {
     "name": "stdout",
     "output_type": "stream",
     "text": [
      "episode: 16/200,\t actions_taken: 454,\t game score: 560.0,\t reward: 626.67,\t avg reward: 976.8959,\t hit ratio: 3.913%,\t time: 19.41,\t total time: 228.82,\t epsilon: 0.7250\n"
     ]
    },
    {
     "name": "stderr",
     "output_type": "stream",
     "text": [
      "Episodes:   8%|▊         | 17/200 [04:21<1:08:01, 22.30s/it]"
     ]
    },
    {
     "name": "stdout",
     "output_type": "stream",
     "text": [
      "episode: 17/200,\t actions_taken: 574,\t game score: 860.0,\t reward: 998.23,\t avg reward: 978.1510,\t hit ratio: 6.909%,\t time: 30.11,\t total time: 258.93,\t epsilon: 0.7034\n"
     ]
    },
    {
     "name": "stderr",
     "output_type": "stream",
     "text": [
      "Episodes:   9%|▉         | 18/200 [04:44<1:07:52, 22.38s/it]"
     ]
    },
    {
     "name": "stdout",
     "output_type": "stream",
     "text": [
      "episode: 18/200,\t actions_taken: 470,\t game score: 1940.0,\t reward: 2034.71,\t avg reward: 1036.8485,\t hit ratio: 5.096%,\t time: 22.38,\t total time: 281.30,\t epsilon: 0.6894\n"
     ]
    },
    {
     "name": "stderr",
     "output_type": "stream",
     "text": [
      "Episodes:  10%|▉         | 19/200 [05:05<1:06:05, 21.91s/it]"
     ]
    },
    {
     "name": "stdout",
     "output_type": "stream",
     "text": [
      "episode: 19/200,\t actions_taken: 388,\t game score: 1100.0,\t reward: 1180.28,\t avg reward: 1044.3978,\t hit ratio: 5.535%,\t time: 20.63,\t total time: 301.93,\t epsilon: 0.6757\n"
     ]
    },
    {
     "name": "stderr",
     "output_type": "stream",
     "text": [
      "Episodes:  10%|█         | 20/200 [05:27<1:05:49, 21.94s/it]"
     ]
    },
    {
     "name": "stdout",
     "output_type": "stream",
     "text": [
      "episode: 20/200,\t actions_taken: 421,\t game score: 480.0,\t reward: 583.27,\t avg reward: 1021.3414,\t hit ratio: 5.699%,\t time: 21.83,\t total time: 323.76,\t epsilon: 0.6623\n"
     ]
    },
    {
     "name": "stderr",
     "output_type": "stream",
     "text": [
      "Episodes:  10%|█         | 21/200 [05:48<1:04:40, 21.68s/it]"
     ]
    },
    {
     "name": "stdout",
     "output_type": "stream",
     "text": [
      "episode: 21/200,\t actions_taken: 365,\t game score: 740.0,\t reward: 781.21,\t avg reward: 1009.9067,\t hit ratio: 5.221%,\t time: 20.89,\t total time: 344.65,\t epsilon: 0.6491\n"
     ]
    },
    {
     "name": "stderr",
     "output_type": "stream",
     "text": [
      "Episodes:  11%|█         | 22/200 [06:14<1:08:10, 22.98s/it]"
     ]
    },
    {
     "name": "stdout",
     "output_type": "stream",
     "text": [
      "episode: 22/200,\t actions_taken: 464,\t game score: 620.0,\t reward: 794.91,\t avg reward: 1000.1339,\t hit ratio: 6.897%,\t time: 25.85,\t total time: 370.50,\t epsilon: 0.6362\n"
     ]
    },
    {
     "name": "stderr",
     "output_type": "stream",
     "text": [
      "Episodes:  12%|█▏        | 23/200 [06:39<1:09:49, 23.67s/it]"
     ]
    },
    {
     "name": "stdout",
     "output_type": "stream",
     "text": [
      "episode: 23/200,\t actions_taken: 426,\t game score: 420.0,\t reward: 478.05,\t avg reward: 977.4348,\t hit ratio: 3.460%,\t time: 25.08,\t total time: 395.57,\t epsilon: 0.6235\n"
     ]
    },
    {
     "name": "stderr",
     "output_type": "stream",
     "text": [
      "Episodes:  12%|█▏        | 24/200 [07:02<1:08:29, 23.35s/it]"
     ]
    },
    {
     "name": "stdout",
     "output_type": "stream",
     "text": [
      "episode: 24/200,\t actions_taken: 374,\t game score: 480.0,\t reward: 515.74,\t avg reward: 958.1977,\t hit ratio: 5.164%,\t time: 22.42,\t total time: 417.99,\t epsilon: 0.6111\n"
     ]
    },
    {
     "name": "stderr",
     "output_type": "stream",
     "text": [
      "Episodes:  12%|█▎        | 25/200 [07:35<1:17:01, 26.41s/it]"
     ]
    },
    {
     "name": "stdout",
     "output_type": "stream",
     "text": [
      "episode: 25/200,\t actions_taken: 526,\t game score: 680.0,\t reward: 770.83,\t avg reward: 950.7028,\t hit ratio: 5.976%,\t time: 33.34,\t total time: 451.34,\t epsilon: 0.5930\n"
     ]
    },
    {
     "name": "stderr",
     "output_type": "stream",
     "text": [
      "Episodes:  13%|█▎        | 26/200 [07:59<1:14:27, 25.67s/it]"
     ]
    },
    {
     "name": "stdout",
     "output_type": "stream",
     "text": [
      "episode: 26/200,\t actions_taken: 390,\t game score: 960.0,\t reward: 1028.92,\t avg reward: 953.7112,\t hit ratio: 10.185%,\t time: 23.78,\t total time: 475.12,\t epsilon: 0.5812\n"
     ]
    },
    {
     "name": "stderr",
     "output_type": "stream",
     "text": [
      "Episodes:  14%|█▎        | 27/200 [08:26<1:14:44, 25.92s/it]"
     ]
    },
    {
     "name": "stdout",
     "output_type": "stream",
     "text": [
      "episode: 27/200,\t actions_taken: 436,\t game score: 680.0,\t reward: 1062.36,\t avg reward: 975.9883,\t hit ratio: 10.000%,\t time: 26.32,\t total time: 501.44,\t epsilon: 0.5696\n"
     ]
    },
    {
     "name": "stderr",
     "output_type": "stream",
     "text": [
      "Episodes:  14%|█▍        | 28/200 [08:53<1:15:38, 26.39s/it]"
     ]
    },
    {
     "name": "stdout",
     "output_type": "stream",
     "text": [
      "episode: 28/200,\t actions_taken: 452,\t game score: 680.0,\t reward: 736.40,\t avg reward: 964.2149,\t hit ratio: 5.247%,\t time: 27.28,\t total time: 528.72,\t epsilon: 0.5583\n"
     ]
    },
    {
     "name": "stderr",
     "output_type": "stream",
     "text": [
      "Episodes:  14%|█▍        | 29/200 [09:30<1:23:58, 29.47s/it]"
     ]
    },
    {
     "name": "stdout",
     "output_type": "stream",
     "text": [
      "episode: 29/200,\t actions_taken: 539,\t game score: 940.0,\t reward: 1035.78,\t avg reward: 965.4358,\t hit ratio: 5.512%,\t time: 36.47,\t total time: 565.19,\t epsilon: 0.5417\n"
     ]
    },
    {
     "name": "stderr",
     "output_type": "stream",
     "text": [
      "Episodes:  15%|█▌        | 30/200 [10:02<1:25:30, 30.18s/it]"
     ]
    },
    {
     "name": "stdout",
     "output_type": "stream",
     "text": [
      "episode: 30/200,\t actions_taken: 500,\t game score: 440.0,\t reward: 518.85,\t avg reward: 941.8001,\t hit ratio: 4.453%,\t time: 31.66,\t total time: 596.85,\t epsilon: 0.5309\n"
     ]
    },
    {
     "name": "stderr",
     "output_type": "stream",
     "text": [
      "Episodes:  16%|█▌        | 31/200 [10:39<1:31:16, 32.41s/it]"
     ]
    },
    {
     "name": "stdout",
     "output_type": "stream",
     "text": [
      "episode: 31/200,\t actions_taken: 521,\t game score: 840.0,\t reward: 931.50,\t avg reward: 933.9572,\t hit ratio: 5.283%,\t time: 37.41,\t total time: 634.26,\t epsilon: 0.5151\n"
     ]
    },
    {
     "name": "stderr",
     "output_type": "stream",
     "text": [
      "Episodes:  16%|█▌        | 32/200 [11:09<1:28:40, 31.67s/it]"
     ]
    },
    {
     "name": "stdout",
     "output_type": "stream",
     "text": [
      "episode: 32/200,\t actions_taken: 441,\t game score: 800.0,\t reward: 963.38,\t avg reward: 907.6692,\t hit ratio: 10.891%,\t time: 29.76,\t total time: 664.02,\t epsilon: 0.5049\n"
     ]
    },
    {
     "name": "stderr",
     "output_type": "stream",
     "text": [
      "Episodes:  16%|█▋        | 33/200 [11:36<1:24:21, 30.31s/it]"
     ]
    },
    {
     "name": "stdout",
     "output_type": "stream",
     "text": [
      "episode: 33/200,\t actions_taken: 411,\t game score: 480.0,\t reward: 578.61,\t avg reward: 910.0545,\t hit ratio: 11.340%,\t time: 26.93,\t total time: 690.95,\t epsilon: 0.4948\n"
     ]
    },
    {
     "name": "stderr",
     "output_type": "stream",
     "text": [
      "Episodes:  17%|█▋        | 34/200 [12:03<1:20:47, 29.20s/it]"
     ]
    },
    {
     "name": "stdout",
     "output_type": "stream",
     "text": [
      "episode: 34/200,\t actions_taken: 416,\t game score: 500.0,\t reward: 685.82,\t avg reward: 843.0643,\t hit ratio: 11.579%,\t time: 26.44,\t total time: 717.39,\t epsilon: 0.4850\n"
     ]
    },
    {
     "name": "stderr",
     "output_type": "stream",
     "text": [
      "Episodes:  18%|█▊        | 35/200 [12:33<1:21:13, 29.53s/it]"
     ]
    },
    {
     "name": "stdout",
     "output_type": "stream",
     "text": [
      "episode: 35/200,\t actions_taken: 421,\t game score: 620.0,\t reward: 763.56,\t avg reward: 857.2238,\t hit ratio: 5.851%,\t time: 30.11,\t total time: 747.51,\t epsilon: 0.4753\n"
     ]
    },
    {
     "name": "stderr",
     "output_type": "stream",
     "text": [
      "Episodes:  18%|█▊        | 36/200 [13:05<1:22:04, 30.03s/it]"
     ]
    },
    {
     "name": "stdout",
     "output_type": "stream",
     "text": [
      "episode: 36/200,\t actions_taken: 436,\t game score: 120.0,\t reward: 170.17,\t avg reward: 835.6586,\t hit ratio: 3.734%,\t time: 30.99,\t total time: 778.50,\t epsilon: 0.4659\n",
      "episode: 37/200,\t actions_taken: 471,\t game score: 820.0,\t reward: 901.05,\t avg reward: 837.5955,\t hit ratio: 4.959%,\t time: 30.34,\t total time: 808.84,\t epsilon: 0.4566\n"
     ]
    },
    {
     "name": "stderr",
     "output_type": "stream",
     "text": [
      "Episodes:  19%|█▉        | 38/200 [14:08<1:23:42, 31.00s/it]"
     ]
    },
    {
     "name": "stdout",
     "output_type": "stream",
     "text": [
      "episode: 38/200,\t actions_taken: 465,\t game score: 360.0,\t reward: 517.53,\t avg reward: 840.7708,\t hit ratio: 2.881%,\t time: 32.72,\t total time: 841.56,\t epsilon: 0.4475\n",
      "episode: 39/200,\t actions_taken: 421,\t game score: 740.0,\t reward: 787.75,\t avg reward: 826.6346,\t hit ratio: 5.532%,\t time: 31.15,\t total time: 872.71,\t epsilon: 0.4386\n"
     ]
    },
    {
     "name": "stderr",
     "output_type": "stream",
     "text": [
      "Episodes:  20%|█▉        | 39/200 [14:39<1:23:28, 31.11s/it]"
     ]
    },
    {
     "name": "stdout",
     "output_type": "stream",
     "text": [
      "episode: 40/200,\t actions_taken: 480,\t game score: 540.0,\t reward: 1017.73,\t avg reward: 808.0117,\t hit ratio: 12.000%,\t time: 33.66,\t total time: 906.37,\t epsilon: 0.4299\n"
     ]
    },
    {
     "name": "stderr",
     "output_type": "stream",
     "text": [
      "Episodes:  20%|██        | 40/200 [15:13<1:25:10, 31.94s/it]"
     ]
    },
    {
     "name": "stdout",
     "output_type": "stream",
     "text": [
      "episode: 41/200,\t actions_taken: 425,\t game score: 600.0,\t reward: 697.29,\t avg reward: 813.8701,\t hit ratio: 4.179%,\t time: 32.86,\t total time: 939.23,\t epsilon: 0.4213\n"
     ]
    },
    {
     "name": "stderr",
     "output_type": "stream",
     "text": [
      "Episodes:  21%|██        | 42/200 [16:19<1:25:27, 32.45s/it]"
     ]
    },
    {
     "name": "stdout",
     "output_type": "stream",
     "text": [
      "episode: 42/200,\t actions_taken: 421,\t game score: 540.0,\t reward: 775.49,\t avg reward: 819.5940,\t hit ratio: 13.187%,\t time: 32.66,\t total time: 971.89,\t epsilon: 0.4129\n"
     ]
    },
    {
     "name": "stderr",
     "output_type": "stream",
     "text": [
      "Episodes:  22%|██▏       | 43/200 [17:02<1:33:21, 35.68s/it]"
     ]
    },
    {
     "name": "stdout",
     "output_type": "stream",
     "text": [
      "episode: 43/200,\t actions_taken: 559,\t game score: 960.0,\t reward: 1543.56,\t avg reward: 840.5683,\t hit ratio: 5.648%,\t time: 43.04,\t total time: 1014.92,\t epsilon: 0.4007\n"
     ]
    },
    {
     "name": "stderr",
     "output_type": "stream",
     "text": [
      "Episodes:  22%|██▏       | 44/200 [17:35<1:30:20, 34.75s/it]"
     ]
    },
    {
     "name": "stdout",
     "output_type": "stream",
     "text": [
      "episode: 44/200,\t actions_taken: 406,\t game score: 440.0,\t reward: 614.17,\t avg reward: 785.9321,\t hit ratio: 14.085%,\t time: 32.37,\t total time: 1047.29,\t epsilon: 0.3927\n"
     ]
    },
    {
     "name": "stderr",
     "output_type": "stream",
     "text": [
      "Episodes:  22%|██▎       | 45/200 [18:43<1:55:18, 44.64s/it]"
     ]
    },
    {
     "name": "stdout",
     "output_type": "stream",
     "text": [
      "episode: 45/200,\t actions_taken: 865,\t game score: 580.0,\t reward: 1433.47,\t avg reward: 795.6699,\t hit ratio: 9.929%,\t time: 67.52,\t total time: 1114.81,\t epsilon: 0.3772\n"
     ]
    },
    {
     "name": "stderr",
     "output_type": "stream",
     "text": [
      "Episodes:  23%|██▎       | 46/200 [19:19<1:47:58, 42.07s/it]"
     ]
    },
    {
     "name": "stdout",
     "output_type": "stream",
     "text": [
      "episode: 46/200,\t actions_taken: 467,\t game score: 500.0,\t reward: 1307.97,\t avg reward: 823.5431,\t hit ratio: 4.867%,\t time: 35.88,\t total time: 1150.69,\t epsilon: 0.3697\n"
     ]
    },
    {
     "name": "stderr",
     "output_type": "stream",
     "text": [
      "Episodes:  24%|██▎       | 47/200 [19:57<1:44:01, 40.80s/it]"
     ]
    },
    {
     "name": "stdout",
     "output_type": "stream",
     "text": [
      "episode: 47/200,\t actions_taken: 456,\t game score: 820.0,\t reward: 879.88,\t avg reward: 827.3382,\t hit ratio: 3.714%,\t time: 37.64,\t total time: 1188.33,\t epsilon: 0.3624\n"
     ]
    },
    {
     "name": "stderr",
     "output_type": "stream",
     "text": [
      "Episodes:  24%|██▍       | 48/200 [20:40<1:45:19, 41.58s/it]"
     ]
    },
    {
     "name": "stdout",
     "output_type": "stream",
     "text": [
      "episode: 48/200,\t actions_taken: 514,\t game score: 580.0,\t reward: 661.60,\t avg reward: 822.2111,\t hit ratio: 3.103%,\t time: 43.20,\t total time: 1231.54,\t epsilon: 0.3516\n"
     ]
    },
    {
     "name": "stderr",
     "output_type": "stream",
     "text": [
      "Episodes:  24%|██▍       | 49/200 [21:24<1:46:49, 42.45s/it]"
     ]
    },
    {
     "name": "stdout",
     "output_type": "stream",
     "text": [
      "episode: 49/200,\t actions_taken: 523,\t game score: 720.0,\t reward: 804.25,\t avg reward: 834.7570,\t hit ratio: 4.943%,\t time: 44.30,\t total time: 1275.83,\t epsilon: 0.3412\n"
     ]
    },
    {
     "name": "stderr",
     "output_type": "stream",
     "text": [
      "Episodes:  25%|██▌       | 50/200 [22:10<1:48:43, 43.49s/it]"
     ]
    },
    {
     "name": "stdout",
     "output_type": "stream",
     "text": [
      "episode: 50/200,\t actions_taken: 530,\t game score: 560.0,\t reward: 649.63,\t avg reward: 839.9064,\t hit ratio: 3.118%,\t time: 45.73,\t total time: 1321.56,\t epsilon: 0.3310\n"
     ]
    },
    {
     "name": "stderr",
     "output_type": "stream",
     "text": [
      "Episodes:  26%|██▌       | 51/200 [22:57<1:50:33, 44.52s/it]"
     ]
    },
    {
     "name": "stdout",
     "output_type": "stream",
     "text": [
      "episode: 51/200,\t actions_taken: 550,\t game score: 1100.0,\t reward: 1198.16,\t avg reward: 856.3424,\t hit ratio: 4.130%,\t time: 46.73,\t total time: 1368.30,\t epsilon: 0.3212\n"
     ]
    },
    {
     "name": "stderr",
     "output_type": "stream",
     "text": [
      "Episodes:  26%|██▌       | 52/200 [23:45<1:52:10, 45.48s/it]"
     ]
    },
    {
     "name": "stdout",
     "output_type": "stream",
     "text": [
      "episode: 52/200,\t actions_taken: 540,\t game score: 540.0,\t reward: 632.66,\t avg reward: 841.1015,\t hit ratio: 4.301%,\t time: 47.52,\t total time: 1415.82,\t epsilon: 0.3117\n",
      "episode: 53/200,\t actions_taken: 421,\t game score: 580.0,\t reward: 627.33,\t avg reward: 824.3697,\t hit ratio: 5.085%,\t time: 40.29,\t total time: 1456.10,\t epsilon: 0.3055\n"
     ]
    },
    {
     "name": "stderr",
     "output_type": "stream",
     "text": [
      "Episodes:  26%|██▋       | 53/200 [24:25<1:47:46, 43.99s/it]"
     ]
    },
    {
     "name": "stdout",
     "output_type": "stream",
     "text": [
      "episode: 54/200,\t actions_taken: 474,\t game score: 380.0,\t reward: 725.52,\t avg reward: 823.9511,\t hit ratio: 10.127%,\t time: 39.38,\t total time: 1495.49,\t epsilon: 0.2994\n"
     ]
    },
    {
     "name": "stderr",
     "output_type": "stream",
     "text": [
      "Episodes:  27%|██▋       | 54/200 [25:05<1:43:51, 42.68s/it]"
     ]
    },
    {
     "name": "stdout",
     "output_type": "stream",
     "text": [
      "episode: 55/200,\t actions_taken: 471,\t game score: 580.0,\t reward: 1270.45,\t avg reward: 832.9769,\t hit ratio: 15.294%,\t time: 36.92,\t total time: 1532.41,\t epsilon: 0.2934\n"
     ]
    },
    {
     "name": "stderr",
     "output_type": "stream",
     "text": [
      "Episodes:  28%|██▊       | 55/200 [25:42<1:39:07, 41.02s/it]"
     ]
    },
    {
     "name": "stdout",
     "output_type": "stream",
     "text": [
      "episode: 56/200,\t actions_taken: 426,\t game score: 440.0,\t reward: 720.20,\t avg reward: 840.7210,\t hit ratio: 14.286%,\t time: 35.77,\t total time: 1568.18,\t epsilon: 0.2876\n"
     ]
    },
    {
     "name": "stderr",
     "output_type": "stream",
     "text": [
      "Episodes:  28%|██▊       | 56/200 [26:18<1:34:49, 39.51s/it]"
     ]
    },
    {
     "name": "stdout",
     "output_type": "stream",
     "text": [
      "episode: 57/200,\t actions_taken: 545,\t game score: 480.0,\t reward: 574.94,\t avg reward: 827.0069,\t hit ratio: 2.321%,\t time: 48.63,\t total time: 1616.81,\t epsilon: 0.2790\n"
     ]
    },
    {
     "name": "stderr",
     "output_type": "stream",
     "text": [
      "Episodes:  28%|██▊       | 57/200 [27:07<1:40:50, 42.31s/it]"
     ]
    },
    {
     "name": "stdout",
     "output_type": "stream",
     "text": [
      "episode: 58/200,\t actions_taken: 401,\t game score: 680.0,\t reward: 1233.97,\t avg reward: 837.4141,\t hit ratio: 23.077%,\t time: 40.29,\t total time: 1657.10,\t epsilon: 0.2735\n"
     ]
    },
    {
     "name": "stderr",
     "output_type": "stream",
     "text": [
      "Episodes:  29%|██▉       | 58/200 [27:48<1:38:51, 41.77s/it]"
     ]
    },
    {
     "name": "stdout",
     "output_type": "stream",
     "text": [
      "episode: 59/200,\t actions_taken: 515,\t game score: 380.0,\t reward: 460.36,\t avg reward: 832.8657,\t hit ratio: 2.257%,\t time: 53.94,\t total time: 1711.04,\t epsilon: 0.2654\n"
     ]
    },
    {
     "name": "stderr",
     "output_type": "stream",
     "text": [
      "Episodes:  30%|███       | 60/200 [29:32<1:49:31, 46.94s/it]"
     ]
    },
    {
     "name": "stdout",
     "output_type": "stream",
     "text": [
      "episode: 60/200,\t actions_taken: 529,\t game score: 540.0,\t reward: 1142.43,\t avg reward: 850.4275,\t hit ratio: 16.901%,\t time: 50.11,\t total time: 1761.15,\t epsilon: 0.2575\n",
      "episode: 61/200,\t actions_taken: 485,\t game score: 400.0,\t reward: 467.08,\t avg reward: 839.0243,\t hit ratio: 3.614%,\t time: 40.55,\t total time: 1801.70,\t epsilon: 0.2524\n"
     ]
    },
    {
     "name": "stderr",
     "output_type": "stream",
     "text": [
      "Episodes:  30%|███       | 61/200 [30:13<1:44:26, 45.08s/it]"
     ]
    },
    {
     "name": "stdout",
     "output_type": "stream",
     "text": [
      "episode: 62/200,\t actions_taken: 482,\t game score: 420.0,\t reward: 1075.22,\t avg reward: 873.8341,\t hit ratio: 3.797%,\t time: 41.38,\t total time: 1843.08,\t epsilon: 0.2473\n"
     ]
    },
    {
     "name": "stderr",
     "output_type": "stream",
     "text": [
      "Episodes:  32%|███▏      | 63/200 [31:39<1:40:39, 44.08s/it]"
     ]
    },
    {
     "name": "stdout",
     "output_type": "stream",
     "text": [
      "episode: 63/200,\t actions_taken: 508,\t game score: 580.0,\t reward: 1362.86,\t avg reward: 891.5961,\t hit ratio: 18.310%,\t time: 43.99,\t total time: 1887.07,\t epsilon: 0.2400\n",
      "episode: 64/200,\t actions_taken: 436,\t game score: 420.0,\t reward: 627.43,\t avg reward: 895.8226,\t hit ratio: 4.569%,\t time: 34.91,\t total time: 1921.98,\t epsilon: 0.2352\n"
     ]
    },
    {
     "name": "stderr",
     "output_type": "stream",
     "text": [
      "Episodes:  32%|███▎      | 65/200 [33:53<2:11:53, 58.62s/it]"
     ]
    },
    {
     "name": "stdout",
     "output_type": "stream",
     "text": [
      "episode: 65/200,\t actions_taken: 1128,\t game score: 520.0,\t reward: 1359.30,\t avg reward: 917.8054,\t hit ratio: 3.135%,\t time: 98.62,\t total time: 2020.60,\t epsilon: 0.2237\n",
      "episode: 66/200,\t actions_taken: 599,\t game score: 420.0,\t reward: 546.07,\t avg reward: 899.6644,\t hit ratio: 2.198%,\t time: 53.04,\t total time: 2073.64,\t epsilon: 0.2170\n"
     ]
    },
    {
     "name": "stderr",
     "output_type": "stream",
     "text": [
      "Episodes:  33%|███▎      | 66/200 [34:46<2:07:18, 57.01s/it]"
     ]
    },
    {
     "name": "stdout",
     "output_type": "stream",
     "text": [
      "episode: 67/200,\t actions_taken: 421,\t game score: 820.0,\t reward: 865.23,\t avg reward: 906.1240,\t hit ratio: 3.252%,\t time: 36.65,\t total time: 2110.29,\t epsilon: 0.2127\n"
     ]
    },
    {
     "name": "stderr",
     "output_type": "stream",
     "text": [
      "Episodes:  34%|███▎      | 67/200 [35:23<1:52:57, 50.96s/it]"
     ]
    },
    {
     "name": "stdout",
     "output_type": "stream",
     "text": [
      "episode: 68/200,\t actions_taken: 545,\t game score: 380.0,\t reward: 740.18,\t avg reward: 904.7656,\t hit ratio: 3.072%,\t time: 50.05,\t total time: 2160.34,\t epsilon: 0.2064\n"
     ]
    },
    {
     "name": "stderr",
     "output_type": "stream",
     "text": [
      "Episodes:  34%|███▍      | 68/200 [36:13<1:51:39, 50.75s/it]"
     ]
    },
    {
     "name": "stdout",
     "output_type": "stream",
     "text": [
      "episode: 69/200,\t actions_taken: 426,\t game score: 440.0,\t reward: 1510.44,\t avg reward: 903.4916,\t hit ratio: 4.839%,\t time: 39.07,\t total time: 2199.41,\t epsilon: 0.2023\n"
     ]
    },
    {
     "name": "stderr",
     "output_type": "stream",
     "text": [
      "Episodes:  34%|███▍      | 69/200 [36:52<1:43:17, 47.31s/it]"
     ]
    },
    {
     "name": "stdout",
     "output_type": "stream",
     "text": [
      "episode: 70/200,\t actions_taken: 560,\t game score: 600.0,\t reward: 703.65,\t avg reward: 906.9333,\t hit ratio: 1.988%,\t time: 51.86,\t total time: 2251.27,\t epsilon: 0.1963\n"
     ]
    },
    {
     "name": "stderr",
     "output_type": "stream",
     "text": [
      "Episodes:  35%|███▌      | 70/200 [37:44<1:45:35, 48.74s/it]"
     ]
    },
    {
     "name": "stdout",
     "output_type": "stream",
     "text": [
      "episode: 71/200,\t actions_taken: 669,\t game score: 940.0,\t reward: 1857.13,\t avg reward: 923.2281,\t hit ratio: 4.270%,\t time: 59.93,\t total time: 2311.20,\t epsilon: 0.1905\n"
     ]
    },
    {
     "name": "stderr",
     "output_type": "stream",
     "text": [
      "Episodes:  36%|███▌      | 72/200 [39:29<1:46:42, 50.02s/it]"
     ]
    },
    {
     "name": "stdout",
     "output_type": "stream",
     "text": [
      "episode: 72/200,\t actions_taken: 500,\t game score: 600.0,\t reward: 1378.83,\t avg reward: 925.9534,\t hit ratio: 23.636%,\t time: 44.80,\t total time: 2356.00,\t epsilon: 0.1867\n",
      "episode: 73/200,\t actions_taken: 431,\t game score: 340.0,\t reward: 431.83,\t avg reward: 908.7204,\t hit ratio: 4.255%,\t time: 41.16,\t total time: 2397.17,\t epsilon: 0.1830\n"
     ]
    },
    {
     "name": "stderr",
     "output_type": "stream",
     "text": [
      "Episodes:  36%|███▋      | 73/200 [40:11<1:40:22, 47.42s/it]"
     ]
    },
    {
     "name": "stdout",
     "output_type": "stream",
     "text": [
      "episode: 74/200,\t actions_taken: 468,\t game score: 300.0,\t reward: 360.67,\t avg reward: 897.1461,\t hit ratio: 3.150%,\t time: 42.80,\t total time: 2439.96,\t epsilon: 0.1793\n"
     ]
    },
    {
     "name": "stderr",
     "output_type": "stream",
     "text": [
      "Episodes:  37%|███▋      | 74/200 [40:54<1:36:48, 46.10s/it]"
     ]
    },
    {
     "name": "stdout",
     "output_type": "stream",
     "text": [
      "episode: 75/200,\t actions_taken: 664,\t game score: 1080.0,\t reward: 1251.17,\t avg reward: 914.3354,\t hit ratio: 2.586%,\t time: 61.32,\t total time: 2501.28,\t epsilon: 0.1740\n"
     ]
    },
    {
     "name": "stderr",
     "output_type": "stream",
     "text": [
      "Episodes:  38%|███▊      | 75/200 [41:55<1:45:41, 50.73s/it]"
     ]
    },
    {
     "name": "stdout",
     "output_type": "stream",
     "text": [
      "episode: 76/200,\t actions_taken: 545,\t game score: 760.0,\t reward: 870.22,\t avg reward: 922.8198,\t hit ratio: 2.196%,\t time: 53.54,\t total time: 2554.82,\t epsilon: 0.1688\n"
     ]
    },
    {
     "name": "stderr",
     "output_type": "stream",
     "text": [
      "Episodes:  38%|███▊      | 76/200 [42:49<1:46:43, 51.64s/it]"
     ]
    },
    {
     "name": "stdout",
     "output_type": "stream",
     "text": [
      "episode: 77/200,\t actions_taken: 520,\t game score: 320.0,\t reward: 557.11,\t avg reward: 898.1639,\t hit ratio: 16.667%,\t time: 51.73,\t total time: 2606.54,\t epsilon: 0.1638\n"
     ]
    },
    {
     "name": "stderr",
     "output_type": "stream",
     "text": [
      "Episodes:  38%|███▊      | 77/200 [43:41<1:46:02, 51.73s/it]"
     ]
    },
    {
     "name": "stdout",
     "output_type": "stream",
     "text": [
      "episode: 78/200,\t actions_taken: 530,\t game score: 420.0,\t reward: 1538.25,\t avg reward: 932.9945,\t hit ratio: 13.158%,\t time: 50.94,\t total time: 2657.49,\t epsilon: 0.1589\n"
     ]
    },
    {
     "name": "stderr",
     "output_type": "stream",
     "text": [
      "Episodes:  39%|███▉      | 78/200 [44:32<1:44:50, 51.56s/it]"
     ]
    },
    {
     "name": "stdout",
     "output_type": "stream",
     "text": [
      "episode: 79/200,\t actions_taken: 456,\t game score: 400.0,\t reward: 1742.79,\t avg reward: 975.8968,\t hit ratio: 4.762%,\t time: 41.41,\t total time: 2698.89,\t epsilon: 0.1558\n"
     ]
    },
    {
     "name": "stderr",
     "output_type": "stream",
     "text": [
      "Episodes:  40%|████      | 80/200 [46:30<1:53:27, 56.73s/it]"
     ]
    },
    {
     "name": "stdout",
     "output_type": "stream",
     "text": [
      "episode: 80/200,\t actions_taken: 789,\t game score: 680.0,\t reward: 967.06,\t avg reward: 985.1868,\t hit ratio: 2.481%,\t time: 75.54,\t total time: 2774.44,\t epsilon: 0.1496\n",
      "episode: 81/200,\t actions_taken: 555,\t game score: 1340.0,\t reward: 1441.19,\t avg reward: 991.7538,\t hit ratio: 2.132%,\t time: 53.07,\t total time: 2827.50,\t epsilon: 0.1452\n"
     ]
    },
    {
     "name": "stderr",
     "output_type": "stream",
     "text": [
      "Episodes:  40%|████      | 81/200 [47:23<1:50:27, 55.69s/it]"
     ]
    },
    {
     "name": "stdout",
     "output_type": "stream",
     "text": [
      "episode: 82/200,\t actions_taken: 752,\t game score: 320.0,\t reward: 568.71,\t avg reward: 985.9275,\t hit ratio: 2.920%,\t time: 70.59,\t total time: 2898.09,\t epsilon: 0.1395\n"
     ]
    },
    {
     "name": "stderr",
     "output_type": "stream",
     "text": [
      "Episodes:  41%|████      | 82/200 [48:34<1:58:26, 60.23s/it]"
     ]
    },
    {
     "name": "stdout",
     "output_type": "stream",
     "text": [
      "episode: 83/200,\t actions_taken: 651,\t game score: 620.0,\t reward: 963.40,\t avg reward: 1000.8684,\t hit ratio: 4.231%,\t time: 63.25,\t total time: 2961.34,\t epsilon: 0.1353\n"
     ]
    },
    {
     "name": "stderr",
     "output_type": "stream",
     "text": [
      "Episodes:  42%|████▏     | 83/200 [49:37<1:59:20, 61.20s/it]"
     ]
    },
    {
     "name": "stdout",
     "output_type": "stream",
     "text": [
      "episode: 84/200,\t actions_taken: 565,\t game score: 560.0,\t reward: 1705.62,\t avg reward: 1019.0088,\t hit ratio: 2.885%,\t time: 56.45,\t total time: 3017.79,\t epsilon: 0.1313\n"
     ]
    },
    {
     "name": "stderr",
     "output_type": "stream",
     "text": [
      "Episodes:  42%|████▏     | 84/200 [50:34<1:55:41, 59.84s/it]"
     ]
    },
    {
     "name": "stdout",
     "output_type": "stream",
     "text": [
      "episode: 85/200,\t actions_taken: 563,\t game score: 760.0,\t reward: 866.17,\t avg reward: 1034.6170,\t hit ratio: 3.968%,\t time: 54.59,\t total time: 3072.38,\t epsilon: 0.1274\n"
     ]
    },
    {
     "name": "stderr",
     "output_type": "stream",
     "text": [
      "Episodes:  42%|████▎     | 85/200 [51:29<1:51:47, 58.32s/it]"
     ]
    },
    {
     "name": "stdout",
     "output_type": "stream",
     "text": [
      "episode: 86/200,\t actions_taken: 530,\t game score: 400.0,\t reward: 487.09,\t avg reward: 1009.4116,\t hit ratio: 1.400%,\t time: 55.78,\t total time: 3128.16,\t epsilon: 0.1236\n"
     ]
    },
    {
     "name": "stderr",
     "output_type": "stream",
     "text": [
      "Episodes:  44%|████▎     | 87/200 [53:22<1:48:25, 57.57s/it]"
     ]
    },
    {
     "name": "stdout",
     "output_type": "stream",
     "text": [
      "episode: 87/200,\t actions_taken: 545,\t game score: 260.0,\t reward: 354.74,\t avg reward: 1005.0909,\t hit ratio: 1.468%,\t time: 57.25,\t total time: 3185.40,\t epsilon: 0.1200\n"
     ]
    },
    {
     "name": "stderr",
     "output_type": "stream",
     "text": [
      "Episodes:  44%|████▍     | 88/200 [54:06<1:39:36, 53.36s/it]"
     ]
    },
    {
     "name": "stdout",
     "output_type": "stream",
     "text": [
      "episode: 88/200,\t actions_taken: 436,\t game score: 620.0,\t reward: 668.52,\t avg reward: 989.4484,\t hit ratio: 1.485%,\t time: 43.35,\t total time: 3228.76,\t epsilon: 0.1176\n"
     ]
    },
    {
     "name": "stderr",
     "output_type": "stream",
     "text": [
      "Episodes:  44%|████▍     | 89/200 [55:07<1:42:56, 55.65s/it]"
     ]
    },
    {
     "name": "stdout",
     "output_type": "stream",
     "text": [
      "episode: 89/200,\t actions_taken: 610,\t game score: 280.0,\t reward: 412.73,\t avg reward: 952.9047,\t hit ratio: 1.207%,\t time: 60.79,\t total time: 3289.54,\t epsilon: 0.1141\n",
      "episode: 90/200,\t actions_taken: 709,\t game score: 340.0,\t reward: 658.95,\t avg reward: 954.1173,\t hit ratio: 3.509%,\t time: 71.57,\t total time: 3361.12,\t epsilon: 0.1107\n"
     ]
    },
    {
     "name": "stderr",
     "output_type": "stream",
     "text": [
      "Episodes:  45%|████▌     | 90/200 [56:18<1:50:53, 60.49s/it]"
     ]
    },
    {
     "name": "stdout",
     "output_type": "stream",
     "text": [
      "episode: 91/200,\t actions_taken: 565,\t game score: 1020.0,\t reward: 1411.25,\t avg reward: 956.1155,\t hit ratio: 3.968%,\t time: 57.64,\t total time: 3418.76,\t epsilon: 0.1074\n"
     ]
    },
    {
     "name": "stderr",
     "output_type": "stream",
     "text": [
      "Episodes:  46%|████▌     | 91/200 [57:16<1:48:26, 59.69s/it]"
     ]
    },
    {
     "name": "stdout",
     "output_type": "stream",
     "text": [
      "episode: 92/200,\t actions_taken: 590,\t game score: 220.0,\t reward: 357.39,\t avg reward: 948.8585,\t hit ratio: 4.464%,\t time: 57.93,\t total time: 3476.68,\t epsilon: 0.1042\n"
     ]
    },
    {
     "name": "stderr",
     "output_type": "stream",
     "text": [
      "Episodes:  46%|████▌     | 92/200 [58:14<1:46:36, 59.23s/it]"
     ]
    },
    {
     "name": "stdout",
     "output_type": "stream",
     "text": [
      "episode: 93/200,\t actions_taken: 540,\t game score: 320.0,\t reward: 412.11,\t avg reward: 931.4305,\t hit ratio: 2.713%,\t time: 56.82,\t total time: 3533.51,\t epsilon: 0.1011\n"
     ]
    },
    {
     "name": "stderr",
     "output_type": "stream",
     "text": [
      "Episodes:  46%|████▋     | 93/200 [59:11<1:44:26, 58.57s/it]"
     ]
    },
    {
     "name": "stdout",
     "output_type": "stream",
     "text": [
      "episode: 94/200,\t actions_taken: 570,\t game score: 360.0,\t reward: 469.71,\t avg reward: 921.0280,\t hit ratio: 2.508%,\t time: 56.81,\t total time: 3590.32,\t epsilon: 0.0991\n"
     ]
    },
    {
     "name": "stderr",
     "output_type": "stream",
     "text": [
      "Episodes:  47%|████▋     | 94/200 [1:00:08<1:42:39, 58.10s/it]"
     ]
    },
    {
     "name": "stdout",
     "output_type": "stream",
     "text": [
      "episode: 95/200,\t actions_taken: 845,\t game score: 1200.0,\t reward: 1552.71,\t avg reward: 922.6538,\t hit ratio: 1.931%,\t time: 81.18,\t total time: 3671.50,\t epsilon: 0.0991\n"
     ]
    },
    {
     "name": "stderr",
     "output_type": "stream",
     "text": [
      "Episodes:  48%|████▊     | 96/200 [1:02:32<1:51:36, 64.39s/it]"
     ]
    },
    {
     "name": "stdout",
     "output_type": "stream",
     "text": [
      "episode: 96/200,\t actions_taken: 625,\t game score: 460.0,\t reward: 795.23,\t avg reward: 926.1760,\t hit ratio: 5.517%,\t time: 62.57,\t total time: 3734.07,\t epsilon: 0.0991\n",
      "episode: 97/200,\t actions_taken: 545,\t game score: 360.0,\t reward: 489.08,\t avg reward: 873.5584,\t hit ratio: 2.759%,\t time: 54.74,\t total time: 3788.81,\t epsilon: 0.0991\n"
     ]
    },
    {
     "name": "stderr",
     "output_type": "stream",
     "text": [
      "Episodes:  49%|████▉     | 98/200 [1:04:35<1:47:28, 63.22s/it]"
     ]
    },
    {
     "name": "stdout",
     "output_type": "stream",
     "text": [
      "episode: 98/200,\t actions_taken: 705,\t game score: 320.0,\t reward: 524.97,\t avg reward: 840.7176,\t hit ratio: 1.587%,\t time: 66.90,\t total time: 3855.71,\t epsilon: 0.0991\n",
      "episode: 99/200,\t actions_taken: 524,\t game score: 240.0,\t reward: 330.81,\t avg reward: 836.8323,\t hit ratio: 2.247%,\t time: 55.98,\t total time: 3911.69,\t epsilon: 0.0991\n"
     ]
    },
    {
     "name": "stderr",
     "output_type": "stream",
     "text": [
      "Episodes:  50%|████▉     | 99/200 [1:05:31<1:42:52, 61.11s/it]"
     ]
    },
    {
     "name": "stdout",
     "output_type": "stream",
     "text": [
      "episode: 100/200,\t actions_taken: 530,\t game score: 360.0,\t reward: 1016.71,\t avg reward: 862.0647,\t hit ratio: 15.385%,\t time: 53.83,\t total time: 3965.52,\t epsilon: 0.0991\n"
     ]
    },
    {
     "name": "stderr",
     "output_type": "stream",
     "text": [
      "Episodes:  50%|█████     | 100/200 [1:06:25<1:38:18, 58.99s/it]"
     ]
    },
    {
     "name": "stdout",
     "output_type": "stream",
     "text": [
      "episode: 101/200,\t actions_taken: 592,\t game score: 460.0,\t reward: 1973.84,\t avg reward: 889.8595,\t hit ratio: 2.890%,\t time: 58.95,\t total time: 4024.47,\t epsilon: 0.0991\n"
     ]
    },
    {
     "name": "stderr",
     "output_type": "stream",
     "text": [
      "Episodes:  50%|█████     | 101/200 [1:07:24<1:37:24, 59.04s/it]"
     ]
    },
    {
     "name": "stdout",
     "output_type": "stream",
     "text": [
      "episode: 102/200,\t actions_taken: 652,\t game score: 140.0,\t reward: 302.05,\t avg reward: 868.0066,\t hit ratio: 0.617%,\t time: 66.26,\t total time: 4090.73,\t epsilon: 0.0991\n"
     ]
    },
    {
     "name": "stderr",
     "output_type": "stream",
     "text": [
      "Episodes:  51%|█████     | 102/200 [1:08:30<1:40:04, 61.27s/it]"
     ]
    },
    {
     "name": "stdout",
     "output_type": "stream",
     "text": [
      "episode: 103/200,\t actions_taken: 745,\t game score: 400.0,\t reward: 1310.21,\t avg reward: 896.9722,\t hit ratio: 1.688%,\t time: 71.98,\t total time: 4162.71,\t epsilon: 0.0991\n"
     ]
    },
    {
     "name": "stderr",
     "output_type": "stream",
     "text": [
      "Episodes:  52%|█████▏    | 104/200 [1:10:58<1:48:38, 67.90s/it]"
     ]
    },
    {
     "name": "stdout",
     "output_type": "stream",
     "text": [
      "episode: 104/200,\t actions_taken: 761,\t game score: 400.0,\t reward: 1461.52,\t avg reward: 894.0211,\t hit ratio: 18.750%,\t time: 75.54,\t total time: 4238.25,\t epsilon: 0.0991\n",
      "episode: 105/200,\t actions_taken: 565,\t game score: 300.0,\t reward: 405.50,\t avg reward: 842.5868,\t hit ratio: 1.301%,\t time: 60.45,\t total time: 4298.71,\t epsilon: 0.0991\n"
     ]
    },
    {
     "name": "stderr",
     "output_type": "stream",
     "text": [
      "Episodes:  52%|█████▎    | 105/200 [1:11:59<1:44:05, 65.74s/it]"
     ]
    },
    {
     "name": "stdout",
     "output_type": "stream",
     "text": [
      "episode: 106/200,\t actions_taken: 875,\t game score: 400.0,\t reward: 791.56,\t avg reward: 835.8371,\t hit ratio: 3.717%,\t time: 86.16,\t total time: 4384.86,\t epsilon: 0.0991\n"
     ]
    },
    {
     "name": "stderr",
     "output_type": "stream",
     "text": [
      "Episodes:  54%|█████▎    | 107/200 [1:14:21<1:44:00, 67.11s/it]"
     ]
    },
    {
     "name": "stdout",
     "output_type": "stream",
     "text": [
      "episode: 107/200,\t actions_taken: 565,\t game score: 380.0,\t reward: 1421.10,\t avg reward: 835.0642,\t hit ratio: 2.875%,\t time: 55.63,\t total time: 4440.49,\t epsilon: 0.0991\n"
     ]
    },
    {
     "name": "stderr",
     "output_type": "stream",
     "text": [
      "Episodes:  54%|█████▍    | 108/200 [1:15:16<1:37:02, 63.29s/it]"
     ]
    },
    {
     "name": "stdout",
     "output_type": "stream",
     "text": [
      "episode: 108/200,\t actions_taken: 515,\t game score: 800.0,\t reward: 2694.73,\t avg reward: 916.8340,\t hit ratio: 4.348%,\t time: 54.17,\t total time: 4494.66,\t epsilon: 0.0991\n"
     ]
    },
    {
     "name": "stderr",
     "output_type": "stream",
     "text": [
      "Episodes:  55%|█████▍    | 109/200 [1:16:11<1:32:21, 60.90s/it]"
     ]
    },
    {
     "name": "stdout",
     "output_type": "stream",
     "text": [
      "episode: 109/200,\t actions_taken: 555,\t game score: 340.0,\t reward: 513.20,\t avg reward: 899.5186,\t hit ratio: 9.091%,\t time: 55.13,\t total time: 4549.79,\t epsilon: 0.0991\n"
     ]
    },
    {
     "name": "stderr",
     "output_type": "stream",
     "text": [
      "Episodes:  55%|█████▌    | 110/200 [1:17:28<1:38:40, 65.78s/it]"
     ]
    },
    {
     "name": "stdout",
     "output_type": "stream",
     "text": [
      "episode: 110/200,\t actions_taken: 773,\t game score: 420.0,\t reward: 808.49,\t avg reward: 865.0133,\t hit ratio: 2.335%,\t time: 77.00,\t total time: 4626.79,\t epsilon: 0.0991\n"
     ]
    },
    {
     "name": "stderr",
     "output_type": "stream",
     "text": [
      "Episodes:  56%|█████▌    | 111/200 [1:18:30<1:35:37, 64.47s/it]"
     ]
    },
    {
     "name": "stdout",
     "output_type": "stream",
     "text": [
      "episode: 111/200,\t actions_taken: 606,\t game score: 260.0,\t reward: 390.14,\t avg reward: 846.7045,\t hit ratio: 1.042%,\t time: 61.22,\t total time: 4688.01,\t epsilon: 0.0991\n"
     ]
    },
    {
     "name": "stderr",
     "output_type": "stream",
     "text": [
      "Episodes:  56%|█████▌    | 112/200 [1:19:31<1:33:14, 63.57s/it]"
     ]
    },
    {
     "name": "stdout",
     "output_type": "stream",
     "text": [
      "episode: 112/200,\t actions_taken: 615,\t game score: 220.0,\t reward: 356.05,\t avg reward: 841.6646,\t hit ratio: 1.393%,\t time: 61.29,\t total time: 4749.30,\t epsilon: 0.0991\n"
     ]
    },
    {
     "name": "stderr",
     "output_type": "stream",
     "text": [
      "Episodes:  56%|█████▋    | 113/200 [1:20:26<1:28:23, 60.96s/it]"
     ]
    },
    {
     "name": "stdout",
     "output_type": "stream",
     "text": [
      "episode: 113/200,\t actions_taken: 560,\t game score: 700.0,\t reward: 1143.91,\t avg reward: 872.0174,\t hit ratio: 21.622%,\t time: 54.68,\t total time: 4803.98,\t epsilon: 0.0991\n"
     ]
    },
    {
     "name": "stderr",
     "output_type": "stream",
     "text": [
      "Episodes:  57%|█████▋    | 114/200 [1:21:22<1:25:11, 59.44s/it]"
     ]
    },
    {
     "name": "stdout",
     "output_type": "stream",
     "text": [
      "episode: 114/200,\t actions_taken: 523,\t game score: 500.0,\t reward: 939.26,\t avg reward: 882.4306,\t hit ratio: 3.175%,\t time: 55.69,\t total time: 4859.67,\t epsilon: 0.0991\n"
     ]
    },
    {
     "name": "stderr",
     "output_type": "stream",
     "text": [
      "Episodes:  57%|█████▊    | 115/200 [1:22:22<1:24:21, 59.55s/it]"
     ]
    },
    {
     "name": "stdout",
     "output_type": "stream",
     "text": [
      "episode: 115/200,\t actions_taken: 582,\t game score: 280.0,\t reward: 1531.03,\t avg reward: 925.4423,\t hit ratio: 7.071%,\t time: 59.61,\t total time: 4919.28,\t epsilon: 0.0991\n"
     ]
    },
    {
     "name": "stderr",
     "output_type": "stream",
     "text": [
      "Episodes:  58%|█████▊    | 116/200 [1:23:13<1:20:08, 57.25s/it]"
     ]
    },
    {
     "name": "stdout",
     "output_type": "stream",
     "text": [
      "episode: 116/200,\t actions_taken: 511,\t game score: 560.0,\t reward: 719.21,\t avg reward: 927.7598,\t hit ratio: 4.651%,\t time: 51.68,\t total time: 4970.96,\t epsilon: 0.0991\n"
     ]
    },
    {
     "name": "stderr",
     "output_type": "stream",
     "text": [
      "Episodes:  58%|█████▊    | 117/200 [1:24:21<1:23:24, 60.30s/it]"
     ]
    },
    {
     "name": "stdout",
     "output_type": "stream",
     "text": [
      "episode: 117/200,\t actions_taken: 661,\t game score: 320.0,\t reward: 4285.01,\t avg reward: 1038.2890,\t hit ratio: 4.023%,\t time: 67.22,\t total time: 5038.18,\t epsilon: 0.0991\n"
     ]
    },
    {
     "name": "stderr",
     "output_type": "stream",
     "text": [
      "Episodes:  59%|█████▉    | 118/200 [1:25:21<1:22:29, 60.36s/it]"
     ]
    },
    {
     "name": "stdout",
     "output_type": "stream",
     "text": [
      "episode: 118/200,\t actions_taken: 570,\t game score: 200.0,\t reward: 623.28,\t avg reward: 1048.5156,\t hit ratio: 5.618%,\t time: 60.33,\t total time: 5098.51,\t epsilon: 0.0991\n"
     ]
    },
    {
     "name": "stderr",
     "output_type": "stream",
     "text": [
      "Episodes:  60%|█████▉    | 119/200 [1:26:27<1:23:30, 61.86s/it]"
     ]
    },
    {
     "name": "stdout",
     "output_type": "stream",
     "text": [
      "episode: 119/200,\t actions_taken: 652,\t game score: 360.0,\t reward: 626.96,\t avg reward: 1056.7792,\t hit ratio: 3.053%,\t time: 65.16,\t total time: 5163.66,\t epsilon: 0.0991\n",
      "episode: 120/200,\t actions_taken: 699,\t game score: 300.0,\t reward: 499.65,\t avg reward: 1057.9307,\t hit ratio: 1.192%,\t time: 71.63,\t total time: 5235.29,\t epsilon: 0.0991\n"
     ]
    },
    {
     "name": "stderr",
     "output_type": "stream",
     "text": [
      "Episodes:  60%|██████    | 121/200 [1:28:45<1:25:58, 65.29s/it]"
     ]
    },
    {
     "name": "stdout",
     "output_type": "stream",
     "text": [
      "episode: 121/200,\t actions_taken: 659,\t game score: 440.0,\t reward: 824.74,\t avg reward: 1029.9319,\t hit ratio: 3.422%,\t time: 66.11,\t total time: 5301.40,\t epsilon: 0.0991\n",
      "episode: 122/200,\t actions_taken: 599,\t game score: 220.0,\t reward: 586.52,\t avg reward: 1021.9048,\t hit ratio: 22.222%,\t time: 58.95,\t total time: 5360.35,\t epsilon: 0.0991\n"
     ]
    },
    {
     "name": "stderr",
     "output_type": "stream",
     "text": [
      "Episodes:  62%|██████▏   | 123/200 [1:30:42<1:19:17, 61.79s/it]"
     ]
    },
    {
     "name": "stdout",
     "output_type": "stream",
     "text": [
      "episode: 123/200,\t actions_taken: 565,\t game score: 360.0,\t reward: 1836.12,\t avg reward: 1073.7140,\t hit ratio: 2.875%,\t time: 57.71,\t total time: 5418.06,\t epsilon: 0.0991\n"
     ]
    },
    {
     "name": "stderr",
     "output_type": "stream",
     "text": [
      "Episodes:  62%|██████▏   | 124/200 [1:31:38<1:16:02, 60.03s/it]"
     ]
    },
    {
     "name": "stdout",
     "output_type": "stream",
     "text": [
      "episode: 124/200,\t actions_taken: 570,\t game score: 420.0,\t reward: 528.32,\t avg reward: 1073.8427,\t hit ratio: 1.664%,\t time: 55.75,\t total time: 5473.81,\t epsilon: 0.0991\n"
     ]
    },
    {
     "name": "stderr",
     "output_type": "stream",
     "text": [
      "Episodes:  62%|██████▎   | 125/200 [1:32:34<1:13:25, 58.74s/it]"
     ]
    },
    {
     "name": "stdout",
     "output_type": "stream",
     "text": [
      "episode: 125/200,\t actions_taken: 570,\t game score: 340.0,\t reward: 1643.62,\t avg reward: 1124.3355,\t hit ratio: 24.242%,\t time: 55.54,\t total time: 5529.35,\t epsilon: 0.0991\n",
      "episode: 126/200,\t actions_taken: 601,\t game score: 420.0,\t reward: 2564.44,\t avg reward: 1183.8637,\t hit ratio: 25.641%,\t time: 60.11,\t total time: 5589.46,\t epsilon: 0.0991\n"
     ]
    },
    {
     "name": "stderr",
     "output_type": "stream",
     "text": [
      "Episodes:  63%|██████▎   | 126/200 [1:33:34<1:13:02, 59.22s/it]"
     ]
    },
    {
     "name": "stdout",
     "output_type": "stream",
     "text": [
      "episode: 127/200,\t actions_taken: 565,\t game score: 280.0,\t reward: 385.49,\t avg reward: 1122.7734,\t hit ratio: 1.311%,\t time: 57.69,\t total time: 5647.15,\t epsilon: 0.0991\n"
     ]
    },
    {
     "name": "stderr",
     "output_type": "stream",
     "text": [
      "Episodes:  64%|██████▍   | 128/200 [1:35:58<1:20:30, 67.09s/it]"
     ]
    },
    {
     "name": "stdout",
     "output_type": "stream",
     "text": [
      "episode: 128/200,\t actions_taken: 870,\t game score: 500.0,\t reward: 884.85,\t avg reward: 1145.1890,\t hit ratio: 3.704%,\t time: 86.15,\t total time: 5733.30,\t epsilon: 0.0991\n",
      "episode: 129/200,\t actions_taken: 714,\t game score: 320.0,\t reward: 542.81,\t avg reward: 1115.6735,\t hit ratio: 1.026%,\t time: 71.11,\t total time: 5804.41,\t epsilon: 0.0991\n"
     ]
    },
    {
     "name": "stderr",
     "output_type": "stream",
     "text": [
      "Episodes:  64%|██████▍   | 129/200 [1:37:10<1:20:54, 68.37s/it]"
     ]
    },
    {
     "name": "stdout",
     "output_type": "stream",
     "text": [
      "episode: 130/200,\t actions_taken: 657,\t game score: 220.0,\t reward: 397.93,\t avg reward: 1074.7662,\t hit ratio: 1.449%,\t time: 63.95,\t total time: 5868.36,\t epsilon: 0.0991\n"
     ]
    },
    {
     "name": "stderr",
     "output_type": "stream",
     "text": [
      "Episodes:  65%|██████▌   | 130/200 [1:38:14<1:18:18, 67.13s/it]"
     ]
    },
    {
     "name": "stdout",
     "output_type": "stream",
     "text": [
      "episode: 131/200,\t actions_taken: 540,\t game score: 220.0,\t reward: 408.43,\t avg reward: 1074.8789,\t hit ratio: 15.625%,\t time: 55.34,\t total time: 5923.71,\t epsilon: 0.0991\n"
     ]
    },
    {
     "name": "stderr",
     "output_type": "stream",
     "text": [
      "Episodes:  66%|██████▌   | 131/200 [1:39:09<1:13:12, 63.66s/it]"
     ]
    },
    {
     "name": "stdout",
     "output_type": "stream",
     "text": [
      "episode: 132/200,\t actions_taken: 756,\t game score: 340.0,\t reward: 601.10,\t avg reward: 1067.5532,\t hit ratio: 1.879%,\t time: 78.12,\t total time: 6001.83,\t epsilon: 0.0991\n"
     ]
    },
    {
     "name": "stderr",
     "output_type": "stream",
     "text": [
      "Episodes:  66%|██████▋   | 133/200 [1:41:50<1:20:48, 72.36s/it]"
     ]
    },
    {
     "name": "stdout",
     "output_type": "stream",
     "text": [
      "episode: 133/200,\t actions_taken: 834,\t game score: 440.0,\t reward: 779.02,\t avg reward: 1042.8578,\t hit ratio: 1.840%,\t time: 82.18,\t total time: 6084.01,\t epsilon: 0.0991\n",
      "episode: 134/200,\t actions_taken: 565,\t game score: 400.0,\t reward: 1284.50,\t avg reward: 988.6184,\t hit ratio: 3.200%,\t time: 57.79,\t total time: 6141.80,\t epsilon: 0.0991\n"
     ]
    },
    {
     "name": "stderr",
     "output_type": "stream",
     "text": [
      "Episodes:  68%|██████▊   | 135/200 [1:44:17<1:20:24, 74.22s/it]"
     ]
    },
    {
     "name": "stdout",
     "output_type": "stream",
     "text": [
      "episode: 135/200,\t actions_taken: 863,\t game score: 560.0,\t reward: 943.36,\t avg reward: 1005.1629,\t hit ratio: 1.574%,\t time: 88.38,\t total time: 6230.18,\t epsilon: 0.0991\n"
     ]
    },
    {
     "name": "stderr",
     "output_type": "stream",
     "text": [
      "Episodes:  68%|██████▊   | 136/200 [1:45:15<1:13:54, 69.30s/it]"
     ]
    },
    {
     "name": "stdout",
     "output_type": "stream",
     "text": [
      "episode: 136/200,\t actions_taken: 570,\t game score: 260.0,\t reward: 568.81,\t avg reward: 995.9445,\t hit ratio: 22.222%,\t time: 57.61,\t total time: 6287.79,\t epsilon: 0.0991\n",
      "episode: 137/200,\t actions_taken: 721,\t game score: 380.0,\t reward: 1550.96,\t avg reward: 1040.5916,\t hit ratio: 3.433%,\t time: 71.06,\t total time: 6358.86,\t epsilon: 0.0991\n"
     ]
    },
    {
     "name": "stderr",
     "output_type": "stream",
     "text": [
      "Episodes:  69%|██████▉   | 138/200 [1:47:51<1:16:56, 74.46s/it]"
     ]
    },
    {
     "name": "stdout",
     "output_type": "stream",
     "text": [
      "episode: 138/200,\t actions_taken: 879,\t game score: 60.0,\t reward: 457.04,\t avg reward: 1044.4756,\t hit ratio: 4.643%,\t time: 84.93,\t total time: 6443.79,\t epsilon: 0.0991\n"
     ]
    },
    {
     "name": "stderr",
     "output_type": "stream",
     "text": [
      "Episodes:  70%|██████▉   | 139/200 [1:48:51<1:11:13, 70.06s/it]"
     ]
    },
    {
     "name": "stdout",
     "output_type": "stream",
     "text": [
      "episode: 139/200,\t actions_taken: 607,\t game score: 500.0,\t reward: 990.17,\t avg reward: 1038.5623,\t hit ratio: 2.273%,\t time: 59.61,\t total time: 6503.40,\t epsilon: 0.0991\n"
     ]
    },
    {
     "name": "stderr",
     "output_type": "stream",
     "text": [
      "Episodes:  70%|███████   | 140/200 [1:49:50<1:06:56, 66.94s/it]"
     ]
    },
    {
     "name": "stdout",
     "output_type": "stream",
     "text": [
      "episode: 140/200,\t actions_taken: 575,\t game score: 380.0,\t reward: 491.70,\t avg reward: 1021.3485,\t hit ratio: 1.455%,\t time: 59.46,\t total time: 6562.86,\t epsilon: 0.0991\n"
     ]
    },
    {
     "name": "stderr",
     "output_type": "stream",
     "text": [
      "Episodes:  70%|███████   | 141/200 [1:50:49<1:03:20, 64.42s/it]"
     ]
    },
    {
     "name": "stdout",
     "output_type": "stream",
     "text": [
      "episode: 141/200,\t actions_taken: 575,\t game score: 220.0,\t reward: 331.78,\t avg reward: 975.2235,\t hit ratio: 1.923%,\t time: 58.35,\t total time: 6621.21,\t epsilon: 0.0991\n"
     ]
    },
    {
     "name": "stderr",
     "output_type": "stream",
     "text": [
      "Episodes:  71%|███████   | 142/200 [1:51:47<1:00:33, 62.65s/it]"
     ]
    },
    {
     "name": "stdout",
     "output_type": "stream",
     "text": [
      "episode: 142/200,\t actions_taken: 590,\t game score: 180.0,\t reward: 300.13,\t avg reward: 959.1051,\t hit ratio: 0.839%,\t time: 58.33,\t total time: 6679.54,\t epsilon: 0.0991\n"
     ]
    },
    {
     "name": "stderr",
     "output_type": "stream",
     "text": [
      "Episodes:  72%|███████▏  | 143/200 [1:52:40<56:44, 59.73s/it]  "
     ]
    },
    {
     "name": "stdout",
     "output_type": "stream",
     "text": [
      "episode: 143/200,\t actions_taken: 508,\t game score: 460.0,\t reward: 1235.91,\t avg reward: 841.8318,\t hit ratio: 3.150%,\t time: 52.73,\t total time: 6732.26,\t epsilon: 0.0991\n"
     ]
    },
    {
     "name": "stderr",
     "output_type": "stream",
     "text": [
      "Episodes:  72%|███████▏  | 144/200 [1:53:48<57:52, 62.01s/it]"
     ]
    },
    {
     "name": "stdout",
     "output_type": "stream",
     "text": [
      "episode: 144/200,\t actions_taken: 692,\t game score: 620.0,\t reward: 1327.35,\t avg reward: 868.9116,\t hit ratio: 3.788%,\t time: 67.14,\t total time: 6799.41,\t epsilon: 0.0991\n",
      "episode: 145/200,\t actions_taken: 595,\t game score: 320.0,\t reward: 443.19,\t avg reward: 861.8433,\t hit ratio: 1.416%,\t time: 58.70,\t total time: 6858.11,\t epsilon: 0.0991\n"
     ]
    },
    {
     "name": "stderr",
     "output_type": "stream",
     "text": [
      "Episodes:  72%|███████▎  | 145/200 [1:54:47<56:00, 61.09s/it]"
     ]
    },
    {
     "name": "stdout",
     "output_type": "stream",
     "text": [
      "episode: 146/200,\t actions_taken: 560,\t game score: 360.0,\t reward: 464.05,\t avg reward: 860.4739,\t hit ratio: 2.961%,\t time: 57.33,\t total time: 6915.44,\t epsilon: 0.0991\n"
     ]
    },
    {
     "name": "stderr",
     "output_type": "stream",
     "text": [
      "Episodes:  74%|███████▎  | 147/200 [1:56:46<53:32, 60.62s/it]"
     ]
    },
    {
     "name": "stdout",
     "output_type": "stream",
     "text": [
      "episode: 147/200,\t actions_taken: 601,\t game score: 360.0,\t reward: 486.97,\t avg reward: 847.4827,\t hit ratio: 1.636%,\t time: 61.81,\t total time: 6977.25,\t epsilon: 0.0991\n",
      "episode: 148/200,\t actions_taken: 570,\t game score: 320.0,\t reward: 822.76,\t avg reward: 856.5690,\t hit ratio: 2.564%,\t time: 57.45,\t total time: 7034.70,\t epsilon: 0.0991\n"
     ]
    },
    {
     "name": "stderr",
     "output_type": "stream",
     "text": [
      "Episodes:  74%|███████▍  | 149/200 [1:58:38<49:14, 57.92s/it]"
     ]
    },
    {
     "name": "stdout",
     "output_type": "stream",
     "text": [
      "episode: 149/200,\t actions_taken: 523,\t game score: 280.0,\t reward: 363.97,\t avg reward: 799.9481,\t hit ratio: 2.811%,\t time: 53.48,\t total time: 7088.18,\t epsilon: 0.0991\n"
     ]
    },
    {
     "name": "stderr",
     "output_type": "stream",
     "text": [
      "Episodes:  75%|███████▌  | 150/200 [1:59:34<47:45, 57.32s/it]"
     ]
    },
    {
     "name": "stdout",
     "output_type": "stream",
     "text": [
      "episode: 150/200,\t actions_taken: 545,\t game score: 300.0,\t reward: 475.29,\t avg reward: 797.9087,\t hit ratio: 2.410%,\t time: 55.71,\t total time: 7143.89,\t epsilon: 0.0991\n",
      "episode: 151/200,\t actions_taken: 570,\t game score: 520.0,\t reward: 5112.39,\t avg reward: 931.3230,\t hit ratio: 36.667%,\t time: 56.33,\t total time: 7200.22,\t epsilon: 0.0991\n"
     ]
    },
    {
     "name": "stderr",
     "output_type": "stream",
     "text": [
      "Episodes:  76%|███████▌  | 152/200 [2:01:28<45:54, 57.38s/it]"
     ]
    },
    {
     "name": "stdout",
     "output_type": "stream",
     "text": [
      "episode: 152/200,\t actions_taken: 594,\t game score: 260.0,\t reward: 398.65,\t avg reward: 848.0234,\t hit ratio: 1.474%,\t time: 57.87,\t total time: 7258.09,\t epsilon: 0.0991\n"
     ]
    },
    {
     "name": "stderr",
     "output_type": "stream",
     "text": [
      "Episodes:  76%|███████▋  | 153/200 [2:02:26<45:09, 57.65s/it]"
     ]
    },
    {
     "name": "stdout",
     "output_type": "stream",
     "text": [
      "episode: 153/200,\t actions_taken: 560,\t game score: 700.0,\t reward: 803.11,\t avg reward: 864.0858,\t hit ratio: 3.252%,\t time: 58.10,\t total time: 7316.19,\t epsilon: 0.0991\n"
     ]
    },
    {
     "name": "stderr",
     "output_type": "stream",
     "text": [
      "Episodes:  77%|███████▋  | 154/200 [2:03:33<46:16, 60.36s/it]"
     ]
    },
    {
     "name": "stdout",
     "output_type": "stream",
     "text": [
      "episode: 154/200,\t actions_taken: 685,\t game score: 260.0,\t reward: 1047.11,\t avg reward: 870.3263,\t hit ratio: 3.015%,\t time: 66.48,\t total time: 7382.66,\t epsilon: 0.0991\n"
     ]
    },
    {
     "name": "stderr",
     "output_type": "stream",
     "text": [
      "Episodes:  78%|███████▊  | 155/200 [2:04:28<43:57, 58.61s/it]"
     ]
    },
    {
     "name": "stdout",
     "output_type": "stream",
     "text": [
      "episode: 155/200,\t actions_taken: 535,\t game score: 340.0,\t reward: 1200.79,\t avg reward: 895.6334,\t hit ratio: 25.000%,\t time: 54.34,\t total time: 7437.00,\t epsilon: 0.0991\n"
     ]
    },
    {
     "name": "stderr",
     "output_type": "stream",
     "text": [
      "Episodes:  78%|███████▊  | 156/200 [2:05:29<43:30, 59.33s/it]"
     ]
    },
    {
     "name": "stdout",
     "output_type": "stream",
     "text": [
      "episode: 156/200,\t actions_taken: 565,\t game score: 440.0,\t reward: 545.47,\t avg reward: 901.3080,\t hit ratio: 1.130%,\t time: 60.81,\t total time: 7497.81,\t epsilon: 0.0991\n",
      "episode: 157/200,\t actions_taken: 535,\t game score: 900.0,\t reward: 1762.85,\t avg reward: 953.4012,\t hit ratio: 14.706%,\t time: 56.20,\t total time: 7554.00,\t epsilon: 0.0991\n"
     ]
    },
    {
     "name": "stderr",
     "output_type": "stream",
     "text": [
      "Episodes:  78%|███████▊  | 157/200 [2:06:25<41:53, 58.46s/it]"
     ]
    },
    {
     "name": "stdout",
     "output_type": "stream",
     "text": [
      "episode: 158/200,\t actions_taken: 603,\t game score: 360.0,\t reward: 488.25,\t avg reward: 949.0608,\t hit ratio: 2.571%,\t time: 62.12,\t total time: 7616.12,\t epsilon: 0.0991\n"
     ]
    },
    {
     "name": "stderr",
     "output_type": "stream",
     "text": [
      "Episodes:  79%|███████▉  | 158/200 [2:07:27<41:44, 59.63s/it]"
     ]
    },
    {
     "name": "stdout",
     "output_type": "stream",
     "text": [
      "episode: 159/200,\t actions_taken: 853,\t game score: 1360.0,\t reward: 1723.06,\t avg reward: 985.3703,\t hit ratio: 1.124%,\t time: 88.14,\t total time: 7704.26,\t epsilon: 0.0991\n"
     ]
    },
    {
     "name": "stderr",
     "output_type": "stream",
     "text": [
      "Episodes:  80%|███████▉  | 159/200 [2:08:56<46:38, 68.25s/it]"
     ]
    },
    {
     "name": "stdout",
     "output_type": "stream",
     "text": [
      "episode: 160/200,\t actions_taken: 630,\t game score: 560.0,\t reward: 706.38,\t avg reward: 963.1348,\t hit ratio: 2.419%,\t time: 65.26,\t total time: 7769.52,\t epsilon: 0.0991\n"
     ]
    },
    {
     "name": "stderr",
     "output_type": "stream",
     "text": [
      "Episodes:  80%|████████  | 160/200 [2:10:01<44:56, 67.42s/it]"
     ]
    },
    {
     "name": "stdout",
     "output_type": "stream",
     "text": [
      "episode: 161/200,\t actions_taken: 746,\t game score: 380.0,\t reward: 622.82,\t avg reward: 950.8065,\t hit ratio: 1.132%,\t time: 73.72,\t total time: 7843.25,\t epsilon: 0.0991\n"
     ]
    },
    {
     "name": "stderr",
     "output_type": "stream",
     "text": [
      "Episodes:  80%|████████  | 161/200 [2:11:15<45:06, 69.40s/it]"
     ]
    },
    {
     "name": "stdout",
     "output_type": "stream",
     "text": [
      "episode: 162/200,\t actions_taken: 520,\t game score: 320.0,\t reward: 402.49,\t avg reward: 944.4098,\t hit ratio: 2.778%,\t time: 57.23,\t total time: 7900.48,\t epsilon: 0.0991\n"
     ]
    },
    {
     "name": "stderr",
     "output_type": "stream",
     "text": [
      "Episodes:  82%|████████▏ | 163/200 [2:13:13<39:28, 64.01s/it]"
     ]
    },
    {
     "name": "stdout",
     "output_type": "stream",
     "text": [
      "episode: 163/200,\t actions_taken: 550,\t game score: 1000.0,\t reward: 2328.27,\t avg reward: 974.3062,\t hit ratio: 25.926%,\t time: 59.57,\t total time: 7960.05,\t epsilon: 0.0991\n"
     ]
    },
    {
     "name": "stderr",
     "output_type": "stream",
     "text": [
      "Episodes:  82%|████████▏ | 164/200 [2:14:47<43:51, 73.10s/it]"
     ]
    },
    {
     "name": "stdout",
     "output_type": "stream",
     "text": [
      "episode: 164/200,\t actions_taken: 911,\t game score: 620.0,\t reward: 2408.98,\t avg reward: 1049.3810,\t hit ratio: 26.829%,\t time: 94.12,\t total time: 8054.17,\t epsilon: 0.0991\n",
      "episode: 165/200,\t actions_taken: 693,\t game score: 800.0,\t reward: 2140.28,\t avg reward: 1093.6160,\t hit ratio: 2.074%,\t time: 73.94,\t total time: 8128.11,\t epsilon: 0.0991\n"
     ]
    },
    {
     "name": "stderr",
     "output_type": "stream",
     "text": [
      "Episodes:  82%|████████▎ | 165/200 [2:16:01<42:49, 73.42s/it]"
     ]
    },
    {
     "name": "stdout",
     "output_type": "stream",
     "text": [
      "episode: 166/200,\t actions_taken: 522,\t game score: 380.0,\t reward: 634.41,\t avg reward: 1099.1050,\t hit ratio: 3.529%,\t time: 54.37,\t total time: 8182.49,\t epsilon: 0.0991\n"
     ]
    },
    {
     "name": "stderr",
     "output_type": "stream",
     "text": [
      "Episodes:  84%|████████▎ | 167/200 [2:18:34<42:14, 76.81s/it]"
     ]
    },
    {
     "name": "stdout",
     "output_type": "stream",
     "text": [
      "episode: 167/200,\t actions_taken: 970,\t game score: 440.0,\t reward: 1506.74,\t avg reward: 1144.2955,\t hit ratio: 2.012%,\t time: 97.71,\t total time: 8280.20,\t epsilon: 0.0991\n"
     ]
    },
    {
     "name": "stderr",
     "output_type": "stream",
     "text": [
      "Episodes:  84%|████████▍ | 168/200 [2:19:39<39:08, 73.38s/it]"
     ]
    },
    {
     "name": "stdout",
     "output_type": "stream",
     "text": [
      "episode: 168/200,\t actions_taken: 618,\t game score: 340.0,\t reward: 2267.31,\t avg reward: 1219.9564,\t hit ratio: 2.198%,\t time: 65.16,\t total time: 8345.36,\t epsilon: 0.0991\n",
      "episode: 169/200,\t actions_taken: 560,\t game score: 140.0,\t reward: 242.72,\t avg reward: 1181.7568,\t hit ratio: 2.016%,\t time: 58.56,\t total time: 8403.92,\t epsilon: 0.0991\n"
     ]
    },
    {
     "name": "stderr",
     "output_type": "stream",
     "text": [
      "Episodes:  85%|████████▌ | 170/200 [2:22:07<37:36, 75.23s/it]"
     ]
    },
    {
     "name": "stdout",
     "output_type": "stream",
     "text": [
      "episode: 170/200,\t actions_taken: 874,\t game score: 520.0,\t reward: 2987.50,\t avg reward: 1245.6087,\t hit ratio: 30.769%,\t time: 89.59,\t total time: 8493.51,\t epsilon: 0.0991\n"
     ]
    },
    {
     "name": "stderr",
     "output_type": "stream",
     "text": [
      "Episodes:  86%|████████▌ | 171/200 [2:23:07<34:02, 70.43s/it]"
     ]
    },
    {
     "name": "stdout",
     "output_type": "stream",
     "text": [
      "episode: 171/200,\t actions_taken: 550,\t game score: 300.0,\t reward: 397.32,\t avg reward: 1243.8445,\t hit ratio: 1.486%,\t time: 59.04,\t total time: 8552.55,\t epsilon: 0.0991\n",
      "episode: 172/200,\t actions_taken: 931,\t game score: 420.0,\t reward: 1258.70,\t avg reward: 1274.4080,\t hit ratio: 22.222%,\t time: 95.01,\t total time: 8647.56,\t epsilon: 0.0991\n"
     ]
    },
    {
     "name": "stderr",
     "output_type": "stream",
     "text": [
      "Episodes:  86%|████████▌ | 172/200 [2:24:42<36:20, 77.88s/it]"
     ]
    },
    {
     "name": "stdout",
     "output_type": "stream",
     "text": [
      "episode: 173/200,\t actions_taken: 796,\t game score: 460.0,\t reward: 1033.31,\t avg reward: 1295.4211,\t hit ratio: 20.000%,\t time: 85.45,\t total time: 8733.01,\t epsilon: 0.0991\n"
     ]
    },
    {
     "name": "stderr",
     "output_type": "stream",
     "text": [
      "Episodes:  86%|████████▋ | 173/200 [2:26:08<36:05, 80.22s/it]"
     ]
    },
    {
     "name": "stdout",
     "output_type": "stream",
     "text": [
      "episode: 174/200,\t actions_taken: 1199,\t game score: 920.0,\t reward: 1926.83,\t avg reward: 1337.8852,\t hit ratio: 2.171%,\t time: 123.18,\t total time: 8856.20,\t epsilon: 0.0991\n"
     ]
    },
    {
     "name": "stderr",
     "output_type": "stream",
     "text": [
      "Episodes:  87%|████████▋ | 174/200 [2:28:11<40:22, 93.19s/it]"
     ]
    },
    {
     "name": "stdout",
     "output_type": "stream",
     "text": [
      "episode: 175/200,\t actions_taken: 676,\t game score: 320.0,\t reward: 649.04,\t avg reward: 1348.8493,\t hit ratio: 2.290%,\t time: 69.40,\t total time: 8925.59,\t epsilon: 0.0991\n"
     ]
    },
    {
     "name": "stderr",
     "output_type": "stream",
     "text": [
      "Episodes:  88%|████████▊ | 175/200 [2:29:21<35:53, 86.13s/it]"
     ]
    },
    {
     "name": "stdout",
     "output_type": "stream",
     "text": [
      "episode: 176/200,\t actions_taken: 676,\t game score: 320.0,\t reward: 500.60,\t avg reward: 1349.8227,\t hit ratio: 1.074%,\t time: 67.88,\t total time: 8993.47,\t epsilon: 0.0991\n"
     ]
    },
    {
     "name": "stderr",
     "output_type": "stream",
     "text": [
      "Episodes:  88%|████████▊ | 176/200 [2:30:29<32:17, 80.73s/it]"
     ]
    },
    {
     "name": "stdout",
     "output_type": "stream",
     "text": [
      "episode: 177/200,\t actions_taken: 555,\t game score: 300.0,\t reward: 755.49,\t avg reward: 1182.2495,\t hit ratio: 28.571%,\t time: 59.21,\t total time: 9052.68,\t epsilon: 0.0991\n"
     ]
    },
    {
     "name": "stderr",
     "output_type": "stream",
     "text": [
      "Episodes:  88%|████████▊ | 177/200 [2:31:28<28:29, 74.34s/it]"
     ]
    },
    {
     "name": "stdout",
     "output_type": "stream",
     "text": [
      "episode: 178/200,\t actions_taken: 651,\t game score: 360.0,\t reward: 2463.70,\t avg reward: 1261.6743,\t hit ratio: 35.714%,\t time: 67.14,\t total time: 9119.83,\t epsilon: 0.0991\n"
     ]
    },
    {
     "name": "stderr",
     "output_type": "stream",
     "text": [
      "Episodes:  90%|████████▉ | 179/200 [2:33:29<23:16, 66.49s/it]"
     ]
    },
    {
     "name": "stdout",
     "output_type": "stream",
     "text": [
      "episode: 179/200,\t actions_taken: 527,\t game score: 380.0,\t reward: 466.24,\t avg reward: 1248.7174,\t hit ratio: 3.101%,\t time: 52.87,\t total time: 9172.70,\t epsilon: 0.0991\n",
      "episode: 180/200,\t actions_taken: 675,\t game score: 660.0,\t reward: 1050.74,\t avg reward: 1248.8572,\t hit ratio: 4.233%,\t time: 65.96,\t total time: 9238.66,\t epsilon: 0.0991\n"
     ]
    },
    {
     "name": "stderr",
     "output_type": "stream",
     "text": [
      "Episodes:  90%|█████████ | 181/200 [2:35:32<20:10, 63.72s/it]"
     ]
    },
    {
     "name": "stdout",
     "output_type": "stream",
     "text": [
      "episode: 181/200,\t actions_taken: 535,\t game score: 300.0,\t reward: 534.82,\t avg reward: 1223.2430,\t hit ratio: 2.120%,\t time: 57.29,\t total time: 9295.96,\t epsilon: 0.0991\n",
      "episode: 182/200,\t actions_taken: 560,\t game score: 240.0,\t reward: 342.72,\t avg reward: 1215.4447,\t hit ratio: 2.372%,\t time: 59.11,\t total time: 9355.06,\t epsilon: 0.0991\n"
     ]
    },
    {
     "name": "stderr",
     "output_type": "stream",
     "text": [
      "Episodes:  91%|█████████ | 182/200 [2:36:32<18:43, 62.41s/it]"
     ]
    },
    {
     "name": "stdout",
     "output_type": "stream",
     "text": [
      "episode: 183/200,\t actions_taken: 699,\t game score: 420.0,\t reward: 619.66,\t avg reward: 1171.4758,\t hit ratio: 2.070%,\t time: 68.65,\t total time: 9423.71,\t epsilon: 0.0991\n"
     ]
    },
    {
     "name": "stderr",
     "output_type": "stream",
     "text": [
      "Episodes:  92%|█████████▏| 183/200 [2:37:41<18:14, 64.36s/it]"
     ]
    },
    {
     "name": "stdout",
     "output_type": "stream",
     "text": [
      "episode: 184/200,\t actions_taken: 560,\t game score: 520.0,\t reward: 1095.88,\t avg reward: 1194.8462,\t hit ratio: 4.800%,\t time: 60.28,\t total time: 9483.99,\t epsilon: 0.0991\n"
     ]
    },
    {
     "name": "stderr",
     "output_type": "stream",
     "text": [
      "Episodes:  92%|█████████▏| 184/200 [2:38:41<16:51, 63.20s/it]"
     ]
    },
    {
     "name": "stdout",
     "output_type": "stream",
     "text": [
      "episode: 185/200,\t actions_taken: 613,\t game score: 420.0,\t reward: 559.55,\t avg reward: 1150.0958,\t hit ratio: 1.533%,\t time: 63.79,\t total time: 9547.79,\t epsilon: 0.0991\n"
     ]
    },
    {
     "name": "stderr",
     "output_type": "stream",
     "text": [
      "Episodes:  92%|█████████▎| 185/200 [2:39:45<15:51, 63.44s/it]"
     ]
    },
    {
     "name": "stdout",
     "output_type": "stream",
     "text": [
      "episode: 186/200,\t actions_taken: 575,\t game score: 400.0,\t reward: 1304.44,\t avg reward: 1173.0982,\t hit ratio: 3.113%,\t time: 59.53,\t total time: 9607.32,\t epsilon: 0.0991\n"
     ]
    },
    {
     "name": "stderr",
     "output_type": "stream",
     "text": [
      "Episodes:  93%|█████████▎| 186/200 [2:40:45<14:32, 62.33s/it]"
     ]
    },
    {
     "name": "stdout",
     "output_type": "stream",
     "text": [
      "episode: 187/200,\t actions_taken: 565,\t game score: 280.0,\t reward: 620.80,\t avg reward: 1173.0205,\t hit ratio: 8.434%,\t time: 61.71,\t total time: 9669.03,\t epsilon: 0.0991\n"
     ]
    },
    {
     "name": "stderr",
     "output_type": "stream",
     "text": [
      "Episodes:  94%|█████████▎| 187/200 [2:41:47<13:28, 62.21s/it]"
     ]
    },
    {
     "name": "stdout",
     "output_type": "stream",
     "text": [
      "episode: 188/200,\t actions_taken: 865,\t game score: 760.0,\t reward: 1590.44,\t avg reward: 1218.7108,\t hit ratio: 3.753%,\t time: 88.86,\t total time: 9757.89,\t epsilon: 0.0991\n"
     ]
    },
    {
     "name": "stderr",
     "output_type": "stream",
     "text": [
      "Episodes:  94%|█████████▍| 189/200 [2:44:11<12:04, 65.86s/it]"
     ]
    },
    {
     "name": "stdout",
     "output_type": "stream",
     "text": [
      "episode: 189/200,\t actions_taken: 545,\t game score: 280.0,\t reward: 374.84,\t avg reward: 1143.5790,\t hit ratio: 1.344%,\t time: 55.38,\t total time: 9813.27,\t epsilon: 0.0991\n"
     ]
    },
    {
     "name": "stderr",
     "output_type": "stream",
     "text": [
      "Episodes:  95%|█████████▌| 190/200 [2:45:17<10:57, 65.70s/it]"
     ]
    },
    {
     "name": "stdout",
     "output_type": "stream",
     "text": [
      "episode: 190/200,\t actions_taken: 645,\t game score: 800.0,\t reward: 2563.89,\t avg reward: 1149.5371,\t hit ratio: 6.509%,\t time: 65.14,\t total time: 9878.41,\t epsilon: 0.0991\n"
     ]
    },
    {
     "name": "stderr",
     "output_type": "stream",
     "text": [
      "Episodes:  96%|█████████▌| 191/200 [2:46:12<09:24, 62.69s/it]"
     ]
    },
    {
     "name": "stdout",
     "output_type": "stream",
     "text": [
      "episode: 191/200,\t actions_taken: 540,\t game score: 520.0,\t reward: 612.11,\t avg reward: 1090.7612,\t hit ratio: 1.863%,\t time: 55.47,\t total time: 9933.88,\t epsilon: 0.0991\n"
     ]
    },
    {
     "name": "stderr",
     "output_type": "stream",
     "text": [
      "Episodes:  96%|█████████▌| 192/200 [2:47:07<08:03, 60.41s/it]"
     ]
    },
    {
     "name": "stdout",
     "output_type": "stream",
     "text": [
      "episode: 192/200,\t actions_taken: 540,\t game score: 160.0,\t reward: 252.11,\t avg reward: 1076.0572,\t hit ratio: 1.167%,\t time: 54.88,\t total time: 9988.76,\t epsilon: 0.0991\n"
     ]
    },
    {
     "name": "stderr",
     "output_type": "stream",
     "text": [
      "Episodes:  96%|█████████▋| 193/200 [2:49:03<08:59, 77.07s/it]"
     ]
    },
    {
     "name": "stdout",
     "output_type": "stream",
     "text": [
      "episode: 193/200,\t actions_taken: 1162,\t game score: 760.0,\t reward: 1811.32,\t avg reward: 1087.7718,\t hit ratio: 2.648%,\t time: 115.76,\t total time: 10104.52,\t epsilon: 0.0991\n"
     ]
    },
    {
     "name": "stderr",
     "output_type": "stream",
     "text": [
      "Episodes:  97%|█████████▋| 194/200 [2:50:31<08:00, 80.16s/it]"
     ]
    },
    {
     "name": "stdout",
     "output_type": "stream",
     "text": [
      "episode: 194/200,\t actions_taken: 888,\t game score: 440.0,\t reward: 997.46,\t avg reward: 1038.9312,\t hit ratio: 2.821%,\t time: 87.19,\t total time: 10191.70,\t epsilon: 0.0991\n"
     ]
    },
    {
     "name": "stderr",
     "output_type": "stream",
     "text": [
      "Episodes:  98%|█████████▊| 195/200 [2:51:19<05:53, 70.71s/it]"
     ]
    },
    {
     "name": "stdout",
     "output_type": "stream",
     "text": [
      "episode: 195/200,\t actions_taken: 480,\t game score: 560.0,\t reward: 5482.77,\t avg reward: 1240.4715,\t hit ratio: 4.184%,\t time: 48.44,\t total time: 10240.15,\t epsilon: 0.0991\n"
     ]
    },
    {
     "name": "stderr",
     "output_type": "stream",
     "text": [
      "Episodes:  98%|█████████▊| 196/200 [2:52:20<04:30, 67.62s/it]"
     ]
    },
    {
     "name": "stdout",
     "output_type": "stream",
     "text": [
      "episode: 196/200,\t actions_taken: 595,\t game score: 320.0,\t reward: 443.19,\t avg reward: 1142.6136,\t hit ratio: 3.065%,\t time: 60.22,\t total time: 10300.36,\t epsilon: 0.0991\n",
      "episode: 197/200,\t actions_taken: 529,\t game score: 620.0,\t reward: 1541.32,\t avg reward: 1186.6136,\t hit ratio: 2.778%,\t time: 54.80,\t total time: 10355.16,\t epsilon: 0.0991\n"
     ]
    },
    {
     "name": "stderr",
     "output_type": "stream",
     "text": [
      "Episodes:  99%|█████████▉| 198/200 [2:54:13<02:04, 62.21s/it]"
     ]
    },
    {
     "name": "stdout",
     "output_type": "stream",
     "text": [
      "episode: 198/200,\t actions_taken: 545,\t game score: 380.0,\t reward: 581.24,\t avg reward: 1160.5576,\t hit ratio: 2.405%,\t time: 58.23,\t total time: 10413.39,\t epsilon: 0.0991\n"
     ]
    },
    {
     "name": "stderr",
     "output_type": "stream",
     "text": [
      "Episodes: 100%|█████████▉| 199/200 [2:55:09<01:00, 60.28s/it]"
     ]
    },
    {
     "name": "stdout",
     "output_type": "stream",
     "text": [
      "episode: 199/200,\t actions_taken: 501,\t game score: 360.0,\t reward: 1232.26,\t avg reward: 1168.2093,\t hit ratio: 22.581%,\t time: 55.58,\t total time: 10468.97,\t epsilon: 0.0991\n"
     ]
    },
    {
     "name": "stderr",
     "output_type": "stream",
     "text": [
      "Episodes: 100%|██████████| 200/200 [2:56:06<00:00, 52.83s/it]"
     ]
    },
    {
     "name": "stdout",
     "output_type": "stream",
     "text": [
      "episode: 200/200,\t actions_taken: 545,\t game score: 380.0,\t reward: 646.57,\t avg reward: 1118.9685,\t hit ratio: 3.600%,\t time: 56.60,\t total time: 10525.57,\t epsilon: 0.0991\n"
     ]
    },
    {
     "name": "stderr",
     "output_type": "stream",
     "text": [
      "\n"
     ]
    }
   ],
   "source": [
    "import random\n",
    "import gymnasium as gym\n",
    "import numpy as np\n",
    "from collections import deque\n",
    "import tensorflow as tf\n",
    "from keras.models import Sequential\n",
    "from keras.layers import Dense, Activation, Flatten, Conv2D, MaxPooling2D, Input\n",
    "from time import time\n",
    "import datetime\n",
    "import cv2\n",
    "import os\n",
    "from tqdm import tqdm\n",
    "\n",
    "tf.get_logger().setLevel('ERROR')\n",
    "os.environ['TF_CPP_MIN_LOG_LEVEL'] = '3'  # FATAL\n",
    "\n",
    "state_size = (96, 80, 1)\n",
    "\n",
    "class DQN_Agent:\n",
    "    # Initializes attributes and constructs CNN model and target_model\n",
    "\n",
    "    def __init__(self, state_size, action_size):\n",
    "        self.state_size = state_size\n",
    "        self.action_size = action_size\n",
    "        self.memory = deque(maxlen=8000)  # Replay memory\n",
    "\n",
    "        # Hyperparameters\n",
    "        self.gamma = 0.95  # Discount rate, how much is future reward worth\n",
    "        self.epsilon = 0.99  # Exploration rate\n",
    "        self.epsilon_min = 0.1  # Minimal exploration rate (epsilon-greedy)\n",
    "        self.epsilon_decay = 0.99  # Decay rate for epsilon\n",
    "        self.update_rate = 4  # Number of steps until updating the target network\n",
    "\n",
    "        # CNN Hyperparameters\n",
    "        self.learning_rate = 0.02\n",
    "        self.loss = tf.compat.v1.losses.huber_loss \n",
    "        self.optimizer = tf.keras.optimizers.RMSprop(\n",
    "            learning_rate=self.learning_rate,\n",
    "            rho=0.7,\n",
    "            momentum=0.04,\n",
    "            epsilon=0.00001,\n",
    "            centered=True\n",
    "        )\n",
    "#         self.optimizer = tf.keras.optimizers.Adam(\n",
    "#             learning_rate=self.learning_rate,\n",
    "#             beta_1=0.8,\n",
    "#             beta_2=0.99,\n",
    "#             epsilon=1e-07\n",
    "#         )\n",
    "\n",
    "        # Construct DQN models\n",
    "        self.model = self._build_model()\n",
    "        self.target_model = self._build_model()\n",
    "        self.target_model.set_weights(self.model.get_weights())\n",
    "        self.model.summary()\n",
    "\n",
    "    #\n",
    "    # Constructs CNN\n",
    "    #\n",
    "    def _build_model(self):\n",
    "        model = Sequential()\n",
    "\n",
    "        model.add(Input(shape=self.state_size))\n",
    "        # Conv Layers\n",
    "        # The first number is the output depth. The tuples are kernel size.\n",
    "        model.add(Conv2D(32, (8, 8), strides=4, padding='same', activation='relu'))\n",
    "        model.add(Conv2D(64, (4, 4), strides=2, padding='same', activation='relu'))\n",
    "        model.add(Conv2D(64, (3, 3), strides=1, padding='same', activation='relu'))\n",
    "        model.add(Flatten())\n",
    "\n",
    "        # FC Layers\n",
    "        model.add(Dense(512, activation='relu'))\n",
    "        model.add(Dense(self.action_size, activation='linear'))\n",
    "        model.add(Flatten())\n",
    "        model.compile(loss=self.loss, optimizer=self.optimizer)\n",
    "        return model\n",
    "\n",
    "    # Stores experience in replay memory\n",
    "    def remember(self, state, action, reward, next_state, done):\n",
    "        self.memory.append((state, action, reward, next_state, done))\n",
    "\n",
    "    # Chooses action based on epsilon-greedy policy\n",
    "    def act(self, state):\n",
    "        # Random exploration\n",
    "        if np.random.rand() <= self.epsilon:\n",
    "            return random.randrange(self.action_size)\n",
    "\n",
    "        act_values = self.model.predict(state, verbose=0)\n",
    "\n",
    "        return np.argmax(act_values[0])  # Returns action using policy\n",
    "\n",
    "    # Trains the model using randomly selected experiences in the replay memory\n",
    "    def replay(self, batch_size):\n",
    "        minibatch = random.sample(self.memory, batch_size)  # Batch size is the return size\n",
    "\n",
    "        for state, action, reward, next_state, done in minibatch:\n",
    "\n",
    "            if not done:\n",
    "                target = (reward + self.gamma * np.amax(self.target_model.predict(next_state, verbose=0)))  # TD\n",
    "            else:\n",
    "                target = reward\n",
    "\n",
    "            # Construct the target vector as follows:\n",
    "            # Use the current model to output the Q-value predictions.\n",
    "            target_f = self.model.predict(state, verbose=0)  # This constructs our Q value\n",
    "\n",
    "            # Rewrite the chosen action value with the computed target\n",
    "            target_f[0][action] = target\n",
    "\n",
    "            self.model.fit(state, target_f, epochs=1, verbose=0)  # Train model so Q-value match the target function\n",
    "\n",
    "        #  Simple decay rate\n",
    "        if self.epsilon > self.epsilon_min:\n",
    "            self.epsilon *= self.epsilon_decay  # Decay rate\n",
    "\n",
    "    # Sets the target model parameters to the current model parameters\n",
    "    def update_target_model(self):\n",
    "        self.target_model.set_weights(self.model.get_weights())\n",
    "\n",
    "    def load(self, name):\n",
    "        self.model.load_weights(name)\n",
    "\n",
    "    def save(self, name):\n",
    "        self.model.save_weights(name)\n",
    "\n",
    "'''Preprocessing: To save on computations'''\n",
    "\n",
    "# Helpful preprocessing taken from github.com/ageron/tiny-dqn\n",
    "def process_frame(frame):\n",
    "    frame_np = np.array(frame[0])  # Convert frame[0] to numpy array\n",
    "\n",
    "    # Check if frame is grayscale or RGB and convert accordingly\n",
    "    if len(frame_np.shape) == 2:  # Grayscale image\n",
    "        img = frame_np\n",
    "    elif len(frame_np.shape) == 3 and frame_np.shape[2] == 3:  # RGB image\n",
    "        img = cv2.cvtColor(frame_np, cv2.COLOR_RGB2GRAY)\n",
    "    else:\n",
    "        raise ValueError(\"ACHTUNG! Unsupported frame format or number of channels.\")\n",
    "\n",
    "    img = img / 255  # Normalize\n",
    "    img = cv2.resize(img, state_size[:2])  # Resize the image\n",
    "    return np.expand_dims(img.reshape(state_size), axis=0)\n",
    "\n",
    "def blend_images(images, blend):\n",
    "    avg_image = np.expand_dims(np.zeros(state_size, np.float64), axis=0)\n",
    "\n",
    "    for image in images:\n",
    "        avg_image += image\n",
    "\n",
    "    if len(images) < blend:\n",
    "        return avg_image / len(images)\n",
    "    else:\n",
    "        return avg_image / blend\n",
    "    \n",
    "    \n",
    "if __name__ == '__main__':\n",
    "    physical_devices = tf.config.list_physical_devices('GPU')\n",
    "    if physical_devices:\n",
    "        try:\n",
    "            tf.config.experimental.set_memory_growth(physical_devices[0], True)\n",
    "        except:\n",
    "            pass\n",
    "    \n",
    "    checkpoint_filepath = './DQN_weights/checkpoint'\n",
    "    env = gym.make('ALE/Carnival-v5', render_mode=None)  # Disable rendering\n",
    "\n",
    "    action_size = env.action_space.n\n",
    "    agent = DQN_Agent(state_size, action_size)\n",
    "    episodes = 200                                               #+++++++++++++++++No of EPISODES++++++++++++++++++++++\n",
    "    list_of_episode_rewards = []\n",
    "    list_of_hit_ratios = []\n",
    "    list_of_actions_taken = []\n",
    "    batch_size = 12\n",
    "    skip_start = 50  # MsPacman-v0 waits for 90 actions before the episode begins\n",
    "    total_time = 0  # Counter for total number of steps taken\n",
    "    all_rewards = 0  # Used to compute avg reward over time\n",
    "    blend = 6  # Number of images to blend\n",
    "    done = False\n",
    "\n",
    "    current_time = datetime.datetime.now().strftime(\"%Y%m%d-%H%M%S\")\n",
    "    log_dir = 'logs/Carnivaldqn/' + current_time\n",
    "    summary_writer = tf.summary.create_file_writer(log_dir)\n",
    "\n",
    "    # An episode is essentially an Epoch.\n",
    "    for e in tqdm(range(episodes), desc=\"Episodes\"):\n",
    "        start = time()\n",
    "        episode_reward = 0\n",
    "        game_score = 0\n",
    "        state = process_frame(env.reset())\n",
    "        images = deque(maxlen=blend)  # Array of images to be blended\n",
    "        images.append(state)\n",
    "        done = False\n",
    "        shots = 1\n",
    "        hit = 0\n",
    "        for t in range(1200):  # We aim to maximize the score in the first 5000 steps\n",
    "\n",
    "            # Return the avg of the last 4 frames.\n",
    "            state = blend_images(images, blend)\n",
    "\n",
    "            # Transition\n",
    "            action = agent.act(state)\n",
    "            step_result = env.step(action)\n",
    "            next_state, reward, done, _ = step_result[:4]\n",
    "            game_score += reward\n",
    "\n",
    "            if action in [1,4,5]:\n",
    "                shots += 1\n",
    "            if reward > 0:\n",
    "                    hit +=1\n",
    "\n",
    "            hit_ratio = hit/shots\n",
    "            if reward > 0:\n",
    "                reward = round(reward * ((4 * hit_ratio - 0.07)**3 + 1), 3)\n",
    "            # possible extra reward of +1000 over all 1200 steps\n",
    "            reward += 0.00000175  * t ** 2\n",
    "            \n",
    "            # Return the avg of the last 4 frames\n",
    "            next_state = process_frame(next_state)\n",
    "            images.append(next_state)\n",
    "            next_state = blend_images(images, blend)\n",
    "            \n",
    "            # Store sequence in replay memory\n",
    "            agent.remember(state, action, reward, next_state, done)\n",
    "            \n",
    "            state = next_state\n",
    "            episode_reward += reward\n",
    "            if done:\n",
    "                break\n",
    "                \n",
    "            if (len(agent.memory) > 500) and (t%250==0):  # This line will take up most computational time\n",
    "#                 replay_start_time = time()\n",
    "                agent.replay(batch_size)\n",
    "#                 replay_end_time = time()\n",
    "#                 replay_duration = replay_end_time - replay_start_time\n",
    "#                 print(f\"Replay execution time at step {t}: {replay_duration:.2f} seconds, Länge agent mem :{len(agent.memory)} \")\n",
    "\n",
    "            # Every update_rate timesteps we update the target network parameters\n",
    "            \n",
    "            if t % agent.update_rate == 0:\n",
    "                agent.update_target_model()\n",
    "\n",
    "        all_rewards += game_score\n",
    "        list_of_episode_rewards.append(episode_reward)\n",
    "        list_of_hit_ratios.append(hit_ratio)\n",
    "        list_of_actions_taken.append(t)\n",
    "        avg_rewards = np.mean(list_of_episode_rewards[max(0, e - 25):(e + 1)])  # Moving average\n",
    "        end_time = (time() - start)\n",
    "        total_time += end_time\n",
    "        print(\n",
    "            \"episode: {}/{},\\t actions_taken: {},\\t game score: {},\\t reward: {:.2f},\\t avg reward: {:.4f},\\t hit ratio: {:.3f}%,\\t time: {:.2f},\\t total time: {:.2f},\\t epsilon: {:.4f}\".format(\n",
    "                e + 1, episodes, t, game_score, episode_reward, avg_rewards, hit_ratio * 100, end_time, total_time, agent.epsilon\n",
    "            )\n",
    "        )\n",
    "\n",
    "        with summary_writer.as_default():\n",
    "            tf.summary.scalar('episode reward', episode_reward, step=e)\n",
    "            tf.summary.scalar('running avg reward(25)', avg_rewards, step=e)\n",
    "            tf.summary.scalar('number of steps', t, step=e)\n",
    "            tf.summary.scalar('Time this episode', end_time, step=e)\n",
    "        agent.save('/kaggle/working/Gewichte.weights.h5')\n",
    "\n",
    "    env.close()\n"
   ]
  },
  {
   "cell_type": "code",
   "execution_count": 3,
   "id": "5510f7df",
   "metadata": {
    "execution": {
     "iopub.execute_input": "2024-07-25T14:31:43.333592Z",
     "iopub.status.busy": "2024-07-25T14:31:43.332852Z",
     "iopub.status.idle": "2024-07-25T14:31:43.762272Z",
     "shell.execute_reply": "2024-07-25T14:31:43.760669Z"
    },
    "papermill": {
     "duration": 0.484377,
     "end_time": "2024-07-25T14:31:43.764949",
     "exception": false,
     "start_time": "2024-07-25T14:31:43.280572",
     "status": "completed"
    },
    "tags": []
   },
   "outputs": [
    {
     "data": {
      "image/png": "[encoded data removed]",
      "text/plain": [
       "<Figure size 1000x500 with 1 Axes>"
      ]
     },
     "metadata": {},
     "output_type": "display_data"
    }
   ],
   "source": [
    "import matplotlib.pyplot as plt\n",
    "\n",
    "# Plot the episode rewards\n",
    "plt.figure(figsize=(10, 5))\n",
    "plt.plot(list_of_episode_rewards, label='Episode Reward')\n",
    "\n",
    "# Calculate and plot the trendline\n",
    "x = np.arange(len(list_of_episode_rewards))\n",
    "z = np.polyfit(x, list_of_episode_rewards, 1)\n",
    "p = np.poly1d(z)\n",
    "plt.plot(x, p(x), \"r--\", label='Trendline')\n",
    "\n",
    "plt.xlabel('Episode')\n",
    "plt.ylabel('Reward')\n",
    "plt.title('Episode Rewards Over Time')\n",
    "plt.legend()\n",
    "plt.show()\n"
   ]
  },
  {
   "cell_type": "code",
   "execution_count": 4,
   "id": "dd37f13b",
   "metadata": {
    "execution": {
     "iopub.execute_input": "2024-07-25T14:31:43.864827Z",
     "iopub.status.busy": "2024-07-25T14:31:43.864224Z",
     "iopub.status.idle": "2024-07-25T14:31:44.278937Z",
     "shell.execute_reply": "2024-07-25T14:31:44.277373Z"
    },
    "papermill": {
     "duration": 0.468782,
     "end_time": "2024-07-25T14:31:44.281929",
     "exception": false,
     "start_time": "2024-07-25T14:31:43.813147",
     "status": "completed"
    },
    "tags": []
   },
   "outputs": [
    {
     "data": {
      "image/png": "[encoded data removed]",
      "text/plain": [
       "<Figure size 1000x500 with 1 Axes>"
      ]
     },
     "metadata": {},
     "output_type": "display_data"
    }
   ],
   "source": [
    "# Plot the episode rewards\n",
    "plt.figure(figsize=(10, 5))\n",
    "plt.plot(list_of_hit_ratios, label='Episode Hit Ratio')\n",
    "\n",
    "# Calculate and plot the trendline\n",
    "x = np.arange(len(list_of_hit_ratios))\n",
    "z = np.polyfit(x, list_of_hit_ratios, 1)\n",
    "p = np.poly1d(z)\n",
    "plt.plot(x, p(x), \"r--\", label='Trendline')\n",
    "\n",
    "plt.xlabel('Episode')\n",
    "plt.ylabel('Hit Ratio')\n",
    "plt.title('Episode Hit Ratio over Time')\n",
    "plt.legend()\n",
    "plt.show()"
   ]
  },
  {
   "cell_type": "code",
   "execution_count": 5,
   "id": "5f6f1f96",
   "metadata": {
    "execution": {
     "iopub.execute_input": "2024-07-25T14:31:44.385885Z",
     "iopub.status.busy": "2024-07-25T14:31:44.384582Z",
     "iopub.status.idle": "2024-07-25T14:31:44.763192Z",
     "shell.execute_reply": "2024-07-25T14:31:44.761835Z"
    },
    "papermill": {
     "duration": 0.435712,
     "end_time": "2024-07-25T14:31:44.767490",
     "exception": false,
     "start_time": "2024-07-25T14:31:44.331778",
     "status": "completed"
    },
    "tags": []
   },
   "outputs": [
    {
     "data": {
      "image/png": "[encoded data removed]",
      "text/plain": [
       "<Figure size 1000x500 with 1 Axes>"
      ]
     },
     "metadata": {},
     "output_type": "display_data"
    }
   ],
   "source": [
    "# Plot the episode rewards\n",
    "plt.figure(figsize=(10, 5))\n",
    "plt.plot(list_of_actions_taken, label='Episode Number of Actions taken')\n",
    "\n",
    "# Calculate and plot the trendline\n",
    "x = np.arange(len(list_of_actions_taken))\n",
    "z = np.polyfit(x, list_of_actions_taken, 1)\n",
    "p = np.poly1d(z)\n",
    "plt.plot(x, p(x), \"r--\", label='Trendline')\n",
    "\n",
    "plt.xlabel('Episode')\n",
    "plt.ylabel('Number of Actions Taken')\n",
    "plt.title('Episode Number of Actions taken over Time')\n",
    "plt.legend()\n",
    "plt.show()"
   ]
  }
 ],
 "metadata": {
  "kaggle": {
   "accelerator": "none",
   "dataSources": [],
   "dockerImageVersionId": 30746,
   "isGpuEnabled": false,
   "isInternetEnabled": true,
   "language": "python",
   "sourceType": "notebook"
  },
  "kernelspec": {
   "display_name": "Python 3",
   "language": "python",
   "name": "python3"
  },
  "language_info": {
   "codemirror_mode": {
    "name": "ipython",
    "version": 3
   },
   "file_extension": ".py",
   "mimetype": "text/x-python",
   "name": "python",
   "nbconvert_exporter": "python",
   "pygments_lexer": "ipython3",
   "version": "3.10.13"
  },
  "papermill": {
   "default_parameters": {},
   "duration": 10663.49305,
   "end_time": "2024-07-25T14:31:47.491516",
   "environment_variables": {},
   "exception": null,
   "input_path": "__notebook__.ipynb",
   "output_path": "__notebook__.ipynb",
   "parameters": {},
   "start_time": "2024-07-25T11:34:03.998466",
   "version": "2.5.0"
  }
 },
 "nbformat": 4,
 "nbformat_minor": 5
}
